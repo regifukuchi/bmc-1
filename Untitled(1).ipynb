{
 "cells": [
  {
   "cell_type": "code",
   "execution_count": 11,
   "metadata": {},
   "outputs": [],
   "source": [
    "import numpy as np\n",
    "import matplotlib.pyplot as plt"
   ]
  },
  {
   "cell_type": "code",
   "execution_count": 12,
   "metadata": {},
   "outputs": [],
   "source": [
    "ks = 100\n",
    "b = 6\n",
    "ls = 0.3\n",
    "\n",
    "l = 0.5\n",
    "\n",
    "x1 = 0 - ks*l\n",
    "\n",
    "dt = 0.01\n",
    "t = np.arange(0, 5, dt)\n",
    "\n",
    "F = np.empty_like(t)\n",
    "\n",
    "F[0] = 0"
   ]
  },
  {
   "cell_type": "code",
   "execution_count": 13,
   "metadata": {},
   "outputs": [],
   "source": [
    "for i in range(1,len(t)):\n",
    "    if t[i] >= 2:\n",
    "        l = 0.35\n",
    "    dx1dt = -ks/b*x1 - ((ks**2)/b)*l\n",
    "    x1 = x1 + dt*dx1dt\n",
    "    F[i] = x1 + ks*l"
   ]
  },
  {
   "cell_type": "code",
   "execution_count": 16,
   "metadata": {},
   "outputs": [
    {
     "data": {
      "text/plain": [
       "[<matplotlib.lines.Line2D at 0x7fb5e49c7860>]"
      ]
     },
     "execution_count": 16,
     "metadata": {},
     "output_type": "execute_result"
    },
    {
     "data": {
      "image/png": "[encoded data removed]",
      "text/plain": [
       "<Figure size 432x288 with 1 Axes>"
      ]
     },
     "metadata": {},
     "output_type": "display_data"
    }
   ],
   "source": [
    "plt.plot (t, F)"
   ]
  },
  {
   "cell_type": "code",
   "execution_count": 135,
   "metadata": {},
   "outputs": [],
   "source": [
    "Lslack = 0.223 \n",
    "Umax = 0.04\n",
    "Lcopt = 0.093\n",
    "width = 0.63*Lcopt\n",
    "Fmax = 7400\n",
    "a = 0.25*Fmax\n",
    "b = 0.25*10*Lcopt\n",
    "Lcdot = 0\n",
    "Lce = 0.087\n",
    "t = 0 ; tend = 2.99\n",
    "h = 0.001\n",
    "i = 1\n",
    "data = np.zeros((int(tend/h +3),2))\n",
    "\n"
   ]
  },
  {
   "cell_type": "code",
   "execution_count": 136,
   "metadata": {},
   "outputs": [],
   "source": [
    "while (t < tend):\n",
    "    if t <= 1:\n",
    "        Lm = 0.31 \n",
    "    elif (t>1 and t<2):\n",
    "        Lm = 0.31-0.04*(t-1)\n",
    "    Lsee = Lm - Lce\n",
    "    if (Lsee < Lslack):\n",
    "        F = 0\n",
    "    else:\n",
    "        F = Fmax*((Lsee-Lslack)/Umax*Lslack)**2\n",
    "    \n",
    "    F0 =max(0,Fmax*(1-((Lce-Lcopt)/width)**2))\n",
    "    \n",
    "    #f (F > F0):\n",
    "    Lcedot = -b*(F0-F)/(F+a)\n",
    "    \n",
    "    Lcedot = Lce + h*Lce\n",
    "    t = t + h\n",
    "    i = i + 1\n",
    "\n",
    "    data[i,0]=t\n",
    "    data[i,1]=F\n",
    " "
   ]
  },
  {
   "cell_type": "code",
   "execution_count": 137,
   "metadata": {},
   "outputs": [
    {
     "data": {
      "text/plain": [
       "[<matplotlib.lines.Line2D at 0x7fb5e484aa58>]"
      ]
     },
     "execution_count": 137,
     "metadata": {},
     "output_type": "execute_result"
    },
    {
     "data": {
      "image/png": "[encoded data removed]",
      "text/plain": [
       "<Figure size 432x288 with 1 Axes>"
      ]
     },
     "metadata": {},
     "output_type": "display_data"
    }
   ],
   "source": [
    "plt.plot(data[:,0], data [:, 1 ]) "
   ]
  },
  {
   "cell_type": "code",
   "execution_count": 128,
   "metadata": {},
   "outputs": [
    {
     "data": {
      "text/plain": [
       "2.9909999999997816"
      ]
     },
     "execution_count": 128,
     "metadata": {},
     "output_type": "execute_result"
    }
   ],
   "source": []
  },
  {
   "cell_type": "code",
   "execution_count": null,
   "metadata": {},
   "outputs": [],
   "source": []
  }
 ],
 "metadata": {
  "kernelspec": {
   "display_name": "Python 3",
   "language": "python",
   "name": "python3"
  },
  "language_info": {
   "codemirror_mode": {
    "name": "ipython",
    "version": 3
   },
   "file_extension": ".py",
   "mimetype": "text/x-python",
   "name": "python",
   "nbconvert_exporter": "python",
   "pygments_lexer": "ipython3",
   "version": "3.6.4"
  }
 },
 "nbformat": 4,
 "nbformat_minor": 2
}
