{
 "cells": [
  {
   "cell_type": "code",
   "execution_count": 68,
   "metadata": {
    "collapsed": true
   },
   "outputs": [],
   "source": [
    "import numpy as np\n",
    "import matplotlib.pyplot as plt\n",
    "%matplotlib inline"
   ]
  },
  {
   "cell_type": "code",
   "execution_count": 73,
   "metadata": {
    "collapsed": true
   },
   "outputs": [],
   "source": [
    "Lslack = 0.223\n",
    "Umax = 0.04\n",
    "Lceopt = 0.093\n",
    "width  = 0.63*Lceopt\n",
    "Fmax = 7400\n",
    "a = 0.25*Fmax\n",
    "b = 0.25*10*Lceopt\n",
    "\n",
    "Lce = 0.087\n",
    "dt = 0.001\n",
    "time = np.arange(0,2.99,dt)\n",
    "data = np.zeros((len(time),2))\n"
   ]
  },
  {
   "cell_type": "code",
   "execution_count": 74,
   "metadata": {
    "collapsed": false
   },
   "outputs": [],
   "source": [
    "for i, t in enumerate(time):\n",
    "\n",
    "    if (t<=1):\n",
    "        Lm = 0.31 \n",
    "    elif (t>1 and t<2):\n",
    "        Lm = 0.31 - 0.04*(t-1)\n",
    "    else:\n",
    "        Lm = 0.27\n",
    "        \n",
    "    Lsee = Lm - Lce\n",
    "    \n",
    "    if (Lsee < Lslack):\n",
    "        F = 0\n",
    "    else:\n",
    "        F = Fmax*((Lsee-Lslack)/(Umax*Lslack))**2\n",
    "        \n",
    "    F0 =  max(0,Fmax*(1-((Lce-Lceopt)/width)**2))\n",
    "    \n",
    "    if (Lsee < Lslack):\n",
    "        F = 0\n",
    "    else:\n",
    "        F = Fmax*((Lsee-Lslack)/(Umax*Lslack))**2\n",
    "        \n",
    "    F0 =  max(0,Fmax*(1-((Lce-Lceopt)/width)**2))\n",
    "\n",
    "    if (F > F0):\n",
    "            print('Erro')\n",
    "    Lcedot = -b*(F0-F+Fkpe)/(F+a)\n",
    "    Lce = Lce + dt*Lcedot\n",
    "\n",
    "    data[i,0] = t\n",
    "    data[i,1] = F"
   ]
  },
  {
   "cell_type": "code",
   "execution_count": 75,
   "metadata": {
    "collapsed": false
   },
   "outputs": [
    {
     "data": {
      "text/plain": [
       "[<matplotlib.lines.Line2D at 0x94a2cc0>]"
      ]
     },
     "execution_count": 75,
     "metadata": {},
     "output_type": "execute_result"
    },
    {
     "data": {
      "image/png": "[encoded data removed]",
      "text/plain": [
       "<matplotlib.figure.Figure at 0x7cf52b0>"
      ]
     },
     "metadata": {},
     "output_type": "display_data"
    }
   ],
   "source": [
    "plt.plot(data[:,0], data[:,1])"
   ]
  },
  {
   "cell_type": "code",
   "execution_count": 66,
   "metadata": {
    "collapsed": false
   },
   "outputs": [
    {
     "data": {
      "text/plain": [
       "0.087"
      ]
     },
     "execution_count": 66,
     "metadata": {},
     "output_type": "execute_result"
    }
   ],
   "source": [
    "Lce"
   ]
  },
  {
   "cell_type": "code",
   "execution_count": 67,
   "metadata": {
    "collapsed": false
   },
   "outputs": [
    {
     "data": {
      "text/plain": [
       "0.27"
      ]
     },
     "execution_count": 67,
     "metadata": {},
     "output_type": "execute_result"
    }
   ],
   "source": [
    "Lm"
   ]
  },
  {
   "cell_type": "code",
   "execution_count": null,
   "metadata": {
    "collapsed": true
   },
   "outputs": [],
   "source": []
  }
 ],
 "metadata": {
  "kernelspec": {
   "display_name": "Python 3",
   "language": "python",
   "name": "python3"
  },
  "language_info": {
   "codemirror_mode": {
    "name": "ipython",
    "version": 3
   },
   "file_extension": ".py",
   "mimetype": "text/x-python",
   "name": "python",
   "nbconvert_exporter": "python",
   "pygments_lexer": "ipython3",
   "version": "3.5.1"
  }
 },
 "nbformat": 4,
 "nbformat_minor": 0
}
