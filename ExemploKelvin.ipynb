{
 "cells": [
  {
   "cell_type": "code",
   "execution_count": 5,
   "metadata": {
    "collapsed": true
   },
   "outputs": [],
   "source": [
    "import numpy as np\n",
    "import matplotlib.pyplot as plt\n",
    "%matplotlib inline"
   ]
  },
  {
   "cell_type": "code",
   "execution_count": 60,
   "metadata": {
    "collapsed": false
   },
   "outputs": [],
   "source": [
    "ks = 300\n",
    "kp = 5\n",
    "b = 6\n",
    "L0 = 10\n",
    "\n",
    "L = 7\n",
    "\n",
    "x1 = 0 - ks*L\n",
    "\n",
    "dt = 0.01\n",
    "t = np.arange(0,5,dt)\n",
    "\n",
    "F = np.empty_like(t)\n",
    "F[0] = 0\n",
    "\n",
    "def dX1dt(x1, L, ks, kp, b, L0):\n",
    "    return -ks/b*x1 - ks**2/b*L - ks*kp/b*L0\n",
    "\n",
    "for i in range(1,len(t)):\n",
    "    if t[i] >=0.1:\n",
    "        L = 0.01\n",
    "    x1 = x1 + dt*dX1dt(x1, L, ks, kp, b, L0)\n",
    "    F[i]= x1 + (ks+kp)*L"
   ]
  },
  {
   "cell_type": "code",
   "execution_count": 61,
   "metadata": {
    "collapsed": false
   },
   "outputs": [
    {
     "data": {
      "text/plain": [
       "[<matplotlib.lines.Line2D at 0x7fc4018655f8>]"
      ]
     },
     "execution_count": 61,
     "metadata": {},
     "output_type": "execute_result"
    },
    {
     "data": {
      "image/png": "[encoded data removed]",
      "text/plain": [
       "<matplotlib.figure.Figure at 0x7fc4018e5b00>"
      ]
     },
     "metadata": {},
     "output_type": "display_data"
    }
   ],
   "source": [
    "plt.plot(t,F)"
   ]
  },
  {
   "cell_type": "code",
   "execution_count": null,
   "metadata": {
    "collapsed": true
   },
   "outputs": [],
   "source": []
  }
 ],
 "metadata": {
  "kernelspec": {
   "display_name": "Python 3",
   "language": "python",
   "name": "python3"
  },
  "language_info": {
   "codemirror_mode": {
    "name": "ipython",
    "version": 3
   },
   "file_extension": ".py",
   "mimetype": "text/x-python",
   "name": "python",
   "nbconvert_exporter": "python",
   "pygments_lexer": "ipython3",
   "version": "3.6.5"
  }
 },
 "nbformat": 4,
 "nbformat_minor": 2
}
