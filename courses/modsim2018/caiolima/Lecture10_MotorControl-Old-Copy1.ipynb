{
 "cells": [
  {
   "cell_type": "markdown",
   "metadata": {},
   "source": [
    "# Lecture 10 - Motor Control-USING Darryl G. Thelen MODEL\n"
   ]
  },
  {
   "cell_type": "code",
   "execution_count": 1,
   "metadata": {},
   "outputs": [],
   "source": [
    "import numpy as np # Import numpy library\n",
    "import matplotlib.pyplot as plt  # Import matplotlib.pyplot libary for graphics\n",
    "import math # Import math library for some specific math functions\n",
    "\n",
    "%matplotlib inline"
   ]
  },
  {
   "cell_type": "markdown",
   "metadata": {},
   "source": [
    "### Muscle properties"
   ]
  },
  {
   "cell_type": "code",
   "execution_count": 2,
   "metadata": {},
   "outputs": [],
   "source": [
    "Lslack = .223 # No force is generated below this force\n",
    "\n",
    "Lce_o = .093 #optmal length\n",
    "\n",
    "Fmax = 3000 #maximal Force generate by the muscle\n"
   ]
  },
  {
   "cell_type": "markdown",
   "metadata": {},
   "source": [
    "### Initial conditions"
   ]
  },
  {
   "cell_type": "code",
   "execution_count": 3,
   "metadata": {},
   "outputs": [],
   "source": [
    "LceNorm = .087/Lce_o #normalized initial size of the muscle\n",
    "t0 = 0 #initial time of the simulation\n",
    "tf = 2.99 #end time of the simulation\n",
    "h = 1e-3 #Range of time"
   ]
  },
  {
   "cell_type": "code",
   "execution_count": 4,
   "metadata": {},
   "outputs": [],
   "source": [
    "t = np.arange(t0,tf,h) #create time vector\n",
    "F = np.empty(t.shape) #create muscle Force Vector\n",
    "Fkpe = np.empty(t.shape) #create parallel Force Vector\n",
    "fiberLength = np.empty(t.shape) #create fiber Lenght Vector\n",
    "fiberLength = np.empty_like(t) #Other way to create fiber Lenght Vector\n",
    "tendonLength = np.empty(t.shape)#create tendon Lenght Vector"
   ]
  },
  {
   "cell_type": "code",
   "execution_count": 5,
   "metadata": {},
   "outputs": [],
   "source": [
    "def computeTendonForce(LseeNorm, Lslack, Lce_o):\n",
    "    '''\n",
    "    Compute Tendon Force\n",
    "    \n",
    "    Inputs:\n",
    "    \n",
    "    LseeNorm - Normalized Tendon  length\n",
    "    \n",
    "    Lslack - slack length of the tendon (non-normalized)\n",
    "    \n",
    "    Lce_o - Optimal length of the fiber\n",
    "    \n",
    "    Output:\n",
    "    \n",
    "    FtendonNorm - Normalized tendon force\n",
    "    '''\n",
    "    \n",
    "    Umax = .04\n",
    "    if LseeNorm<Lslack/Lce_o: \n",
    "        FTendonNorm = 0\n",
    "    else: \n",
    "        FTendonNorm = ((LseeNorm-Lslack/Lce_o)/(Umax*Lslack/Lce_o))**2\n",
    "        \n",
    "    return FTendonNorm"
   ]
  },
  {
   "cell_type": "code",
   "execution_count": 6,
   "metadata": {},
   "outputs": [],
   "source": [
    "def computeParallelElementForce(LceNorm):\n",
    "    \n",
    "    '''\n",
    "    computeParallelElementForce(FKpe)\n",
    "    \n",
    "    Inputs:\n",
    "    \n",
    "    LCeNorm - Normalized fiber length\n",
    "    \n",
    "    Outputs:\n",
    "    \n",
    "    FkpeNorm - Parallel element force\n",
    "    \n",
    "    '''\n",
    "    Umax = 1\n",
    "    if LceNorm < 1: \n",
    "        FkpeNorm = 0\n",
    "    else: \n",
    "        FkpeNorm = ((LceNorm-1)/(Umax))**2 \n",
    "        \n",
    "    return FkpeNorm"
   ]
  },
  {
   "cell_type": "code",
   "execution_count": 7,
   "metadata": {},
   "outputs": [],
   "source": [
    "def computeForceLengthCurve(LceNorm):\n",
    "    '''\n",
    "    Inputs:\n",
    "    \n",
    "    LceNorm - Normalized fiber length\n",
    "    \n",
    "    Output:\n",
    "    \n",
    "    FLNorm- Normalized muscle Force\n",
    "    \n",
    "    '''\n",
    "    width = .63 \n",
    "    FLNorm = max([0, (1-((LceNorm-1)/width)**2)])\n",
    "    return FLNorm"
   ]
  },
  {
   "cell_type": "code",
   "execution_count": 8,
   "metadata": {},
   "outputs": [],
   "source": [
    "def computeContractileElementDerivative(FLNorm, FCENorm):\n",
    "    '''\n",
    "    Inputs:\n",
    "        \n",
    "    FLNorm- Normalized muscle Force\n",
    "    FCENorm- Normalized contractille element Force\n",
    "        \n",
    "    Outputs:\n",
    "        \n",
    "    LceNormdot - Velocity of the contraction of the fiber\n",
    "        \n",
    "    '''\n",
    "    Lce_o = .093\n",
    "    a=1\n",
    "    af=0.25\n",
    "    Vmax=8/Lce_o\n",
    "    Flen=1.8/Lce_o \n",
    "    \n",
    "    if FCENorm > a*FLNorm:\n",
    "        b=((2+(2/af))*((a*FLNorm*Flen)-FCENorm))/(Flen-1)\n",
    "        \n",
    "    if FCENorm <= a*FLNorm:\n",
    "        b= (a*FLNorm)+(FCENorm/af)\n",
    "        \n",
    "    LceNormdot = (0.25+0.75*a)*Vmax*(FCENorm*FLNorm/b)\n",
    "    \n",
    "    return LceNormdot"
   ]
  },
  {
   "cell_type": "code",
   "execution_count": 9,
   "metadata": {},
   "outputs": [],
   "source": [
    "def computeContractileElementForce(FtendonNorm, FkpeNorm):\n",
    "    '''\n",
    "    Inputs:\n",
    "        \n",
    "    FtendonNorm- Normalized tendon Force\n",
    "    FkpeNorm- Normalized Parallel element Force\n",
    "        \n",
    "    Outputs:\n",
    "        \n",
    "    FCENorm - Normalized contractille element Force\n",
    "        \n",
    "    '''\n",
    "    FCENorm = FtendonNorm - FkpeNorm\n",
    "    return FCENorm"
   ]
  },
  {
   "cell_type": "code",
   "execution_count": 10,
   "metadata": {},
   "outputs": [],
   "source": [
    "def computeTendonLength(Lm, Lce_o, LceNorm):\n",
    "    '''\n",
    "        Inputs:\n",
    "        \n",
    "        Lm - Lenght of the fiber\n",
    "        Lce_o= optmal lenght of the fiber\n",
    "        Lce_o= Normalized lenght of the fiber\n",
    "        \n",
    "         Outputs:\n",
    "        \n",
    "        LseeNorm - Normalized series element lenght\n",
    "        \n",
    "        '''\n",
    "    LseeNorm = Lm/Lce_o - LceNorm\n",
    "    return LseeNorm"
   ]
  },
  {
   "cell_type": "markdown",
   "metadata": {},
   "source": [
    "## Simulation - Parallel"
   ]
  },
  {
   "cell_type": "code",
   "execution_count": 11,
   "metadata": {},
   "outputs": [],
   "source": [
    "for i in range (len(t)):\n",
    "    #ramp\n",
    "    if t[i]<=1:\n",
    "        Lm = 0.35\n",
    "    elif t[i]>1 and t[i]<2:\n",
    "        Lm = 0.35 - 0.04*(t[i]-1)\n",
    "        #print(Lm)\n",
    "    ########################################################\n",
    "    LseeNorm = computeTendonLength(Lm, Lce_o, LceNorm) #compute Normalized series element lenght\n",
    "    \n",
    "    FTendonNorm = computeTendonForce(LseeNorm, Lslack, Lce_o) #compute Normalized Tendon Force\n",
    "        \n",
    "    FkpeNorm = computeParallelElementForce(LceNorm) #compute Normalized Parallel element Force\n",
    "      \n",
    "    FLNorm = computeForceLengthCurve(LceNorm)  #compute Normalized Series element Force \n",
    "    \n",
    "    FCENorm = computeContractileElementForce(FTendonNorm, FkpeNorm) #compute contractile element Force \n",
    "    \n",
    "    LceNormdot = computeContractileElementDerivative(FLNorm, FCENorm) # compute velocity of the contraction of the fiber\n",
    "    \n",
    "    LceNorm = LceNorm + h*LceNormdot # compute lenght of the contractile element of the fiber\n",
    "    #########################################################################\n",
    "    F[i] = FTendonNorm * Fmax #Calculate the force of the fiber \n",
    "    fiberLength[i] = LceNorm * Lce_o # Calculate the lenght of the fiber\n",
    "    tendonLength[i] = LseeNorm * Lce_o # Calculate the lenght of the Tendon\n",
    "    "
   ]
  },
  {
   "cell_type": "markdown",
   "metadata": {},
   "source": [
    "## Plot  Force"
   ]
  },
  {
   "cell_type": "code",
   "execution_count": 12,
   "metadata": {
    "scrolled": false
   },
   "outputs": [
    {
     "data": {
      "text/plain": [
       "Text(0,0.5,'Force [N]')"
      ]
     },
     "execution_count": 12,
     "metadata": {},
     "output_type": "execute_result"
    },
    {
     "data": {
      "text/plain": [
       "<Figure size 432x288 with 0 Axes>"
      ]
     },
     "metadata": {},
     "output_type": "display_data"
    },
    {
     "data": {
      "image/png": "[encoded data removed]",
      "text/plain": [
       "<Figure size 432x432 with 1 Axes>"
      ]
     },
     "metadata": {},
     "output_type": "display_data"
    }
   ],
   "source": [
    "plt.figure()\n",
    "fig, ax = plt.subplots(1, 1, figsize=(6,6), sharex=True)\n",
    "\n",
    "\n",
    "ax.plot(t,F,c='red')\n",
    "plt.grid()\n",
    "plt.xlabel('time (s)')\n",
    "plt.ylabel('Force [N]')\n",
    "\n",
    "\n",
    "#ax.legend()"
   ]
  },
  {
   "cell_type": "code",
   "execution_count": 13,
   "metadata": {},
   "outputs": [],
   "source": [
    "## Plot  Lenght"
   ]
  },
  {
   "cell_type": "code",
   "execution_count": 14,
   "metadata": {},
   "outputs": [
    {
     "data": {
      "image/png": "[encoded data removed]",
      "text/plain": [
       "<Figure size 432x432 with 1 Axes>"
      ]
     },
     "metadata": {},
     "output_type": "display_data"
    }
   ],
   "source": [
    "fig, ax = plt.subplots(1, 1, figsize=(6,6), sharex=True)\n",
    "\n",
    "ax.plot(t,fiberLength, label = 'Fiber')\n",
    "ax.plot(t, tendonLength, label = 'Tendon')\n",
    "plt.grid()\n",
    "plt.legend(loc = 'best')\n",
    "plt.xlabel('time (s)')\n",
    "plt.ylabel('Length [m]');"
   ]
  },
  {
   "cell_type": "code",
   "execution_count": 15,
   "metadata": {},
   "outputs": [],
   "source": [
    "## Plot Spared Fiber and Tendon"
   ]
  },
  {
   "cell_type": "code",
   "execution_count": 16,
   "metadata": {},
   "outputs": [
    {
     "data": {
      "image/png": "[encoded data removed]",
      "text/plain": [
       "<Figure size 648x360 with 3 Axes>"
      ]
     },
     "metadata": {},
     "output_type": "display_data"
    }
   ],
   "source": [
    "fig, ax = plt.subplots(1, 3, figsize=(9, 5), sharex=True)\n",
    "\n",
    "ax[0].plot(t, fiberLength, label = 'Fiber')\n",
    "ax[0].set_title('Fiber')\n",
    "ax[0].grid()\n",
    "ax[1].plot(t, tendonLength, label = 'Tendon')\n",
    "ax[1].set_title('Tendon')\n",
    "ax[1].grid()\n",
    "ax[2].plot(t, fiberLength+tendonLength, label = 'Fiber+Tendon')\n",
    "ax[2].set_title('Fiber+Tendon')\n",
    "ax[2].grid()\n",
    "plt.xlabel('time (s)')\n",
    "plt.ylabel('Length [m]')\n",
    "plt.tight_layout()"
   ]
  },
  {
   "cell_type": "code",
   "execution_count": null,
   "metadata": {},
   "outputs": [],
   "source": []
  }
 ],
 "metadata": {
  "kernelspec": {
   "display_name": "Python 3",
   "language": "python",
   "name": "python3"
  },
  "language_info": {
   "codemirror_mode": {
    "name": "ipython",
    "version": 3
   },
   "file_extension": ".py",
   "mimetype": "text/x-python",
   "name": "python",
   "nbconvert_exporter": "python",
   "pygments_lexer": "ipython3",
   "version": "3.6.5"
  }
 },
 "nbformat": 4,
 "nbformat_minor": 2
}
