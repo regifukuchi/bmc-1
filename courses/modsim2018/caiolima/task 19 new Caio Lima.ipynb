{
 "cells": [
  {
   "cell_type": "code",
   "execution_count": 2,
   "metadata": {},
   "outputs": [],
   "source": [
    "from sympy import Symbol, symbols, cos, sin, Matrix, simplify\n",
    "from sympy.physics.mechanics import dynamicsymbols, mlatex, init_vprinting\n",
    "init_vprinting()\n",
    "from IPython.display import display, Math"
   ]
  },
  {
   "cell_type": "code",
   "execution_count": 3,
   "metadata": {},
   "outputs": [],
   "source": [
    "t = Symbol('t')\n",
    "d, L = symbols('d L', positive=True)\n",
    "a = dynamicsymbols('alpha')"
   ]
  },
  {
   "cell_type": "code",
   "execution_count": 7,
   "metadata": {},
   "outputs": [
    {
     "data": {
      "text/latex": [
       "$$x=d \\operatorname{sin}\\left(\\alpha\\right)$$"
      ],
      "text/plain": [
       "<IPython.core.display.Math object>"
      ]
     },
     "metadata": {},
     "output_type": "display_data"
    },
    {
     "data": {
      "text/latex": [
       "$$\\dot{x}=d \\operatorname{cos}\\left(\\alpha\\right) \\dot{\\alpha}$$"
      ],
      "text/plain": [
       "<IPython.core.display.Math object>"
      ]
     },
     "metadata": {},
     "output_type": "display_data"
    },
    {
     "data": {
      "text/latex": [
       "$$\\ddot{x}=- d \\operatorname{sin}\\left(\\alpha\\right) \\dot{\\alpha}^{2} + d \\operatorname{cos}\\left(\\alpha\\right) \\ddot{\\alpha}$$"
      ],
      "text/plain": [
       "<IPython.core.display.Math object>"
      ]
     },
     "metadata": {},
     "output_type": "display_data"
    },
    {
     "data": {
      "text/latex": [
       "$$y=d \\operatorname{cos}\\left(\\alpha\\right)$$"
      ],
      "text/plain": [
       "<IPython.core.display.Math object>"
      ]
     },
     "metadata": {},
     "output_type": "display_data"
    },
    {
     "data": {
      "text/latex": [
       "$$\\dot{y}=- d \\operatorname{sin}\\left(\\alpha\\right) \\dot{\\alpha}$$"
      ],
      "text/plain": [
       "<IPython.core.display.Math object>"
      ]
     },
     "metadata": {},
     "output_type": "display_data"
    },
    {
     "data": {
      "text/latex": [
       "$$\\ddot{y}=- d \\operatorname{sin}\\left(\\alpha\\right) \\ddot{\\alpha} - d \\operatorname{cos}\\left(\\alpha\\right) \\dot{\\alpha}^{2}$$"
      ],
      "text/plain": [
       "<IPython.core.display.Math object>"
      ]
     },
     "metadata": {},
     "output_type": "display_data"
    }
   ],
   "source": [
    "x, y = d*sin(a), d*cos(a)\n",
    "xd, yd = x.diff(t), y.diff(t)\n",
    "xdd, ydd = xd.diff(t), yd.diff(t)\n",
    "\n",
    "display(Math(r'x=' + mlatex(x)))\n",
    "display(Math(r'\\dot{x}=' + mlatex(xd)))\n",
    "display(Math(r'\\ddot{x}=' + mlatex(xdd)))\n",
    "display(Math(r'y=' + mlatex(y)))\n",
    "display(Math(r'\\dot{y}=' + mlatex(yd)))\n",
    "display(Math(r'\\ddot{y}=' + mlatex(ydd)))"
   ]
  },
  {
   "cell_type": "code",
   "execution_count": 8,
   "metadata": {},
   "outputs": [],
   "source": [
    "m, I, g = symbols('m I g', positive=True)\n",
    "Fex, Fey = symbols('F_ex F_ey')\n",
    "add = a.diff(t, 2)"
   ]
  },
  {
   "cell_type": "code",
   "execution_count": 9,
   "metadata": {},
   "outputs": [
    {
     "data": {
      "text/latex": [
       "$$F_{rx}=- F_{ex} + m \\left(- d \\operatorname{sin}\\left(\\alpha\\right) \\dot{\\alpha}^{2} + d \\operatorname{cos}\\left(\\alpha\\right) \\ddot{\\alpha}\\right)$$"
      ],
      "text/plain": [
       "<IPython.core.display.Math object>"
      ]
     },
     "metadata": {},
     "output_type": "display_data"
    },
    {
     "data": {
      "text/latex": [
       "$$F_{ry}=- F_{ey} + g m + m \\left(- d \\operatorname{sin}\\left(\\alpha\\right) \\ddot{\\alpha} - d \\operatorname{cos}\\left(\\alpha\\right) \\dot{\\alpha}^{2}\\right)$$"
      ],
      "text/plain": [
       "<IPython.core.display.Math object>"
      ]
     },
     "metadata": {},
     "output_type": "display_data"
    }
   ],
   "source": [
    "Frx = m*xdd - Fex\n",
    "Fry = m*ydd + m*g - Fey\n",
    "display(Math(r'F_{rx}=' + mlatex(Frx)))\n",
    "display(Math(r'F_{ry}=' + mlatex(Fry)))"
   ]
  },
  {
   "cell_type": "code",
   "execution_count": 10,
   "metadata": {},
   "outputs": [
    {
     "data": {
      "text/latex": [
       "$$T\\quad=\\quad F_{ex} \\left(L - d\\right) \\operatorname{sin}\\left(\\alpha\\right) - F_{ey} \\left(L - d\\right) \\operatorname{cos}\\left(\\alpha\\right) + I \\ddot{\\alpha} - d \\left(- F_{ex} + m \\left(- d \\operatorname{sin}\\left(\\alpha\\right) \\dot{\\alpha}^{2} + d \\operatorname{cos}\\left(\\alpha\\right) \\ddot{\\alpha}\\right)\\right) \\operatorname{sin}\\left(\\alpha\\right) + d \\left(- F_{ey} + g m + m \\left(- d \\operatorname{sin}\\left(\\alpha\\right) \\ddot{\\alpha} - d \\operatorname{cos}\\left(\\alpha\\right) \\dot{\\alpha}^{2}\\right)\\right) \\operatorname{cos}\\left(\\alpha\\right)$$"
      ],
      "text/plain": [
       "<IPython.core.display.Math object>"
      ]
     },
     "metadata": {},
     "output_type": "display_data"
    }
   ],
   "source": [
    "T = I*add - d*sin(a)*Frx + d*cos(a)*Fry + (L-d)*sin(a)*Fex - (L-d)*cos(a)*Fey\n",
    "display(Math(r'T\\quad=\\quad ' + mlatex(T)))"
   ]
  },
  {
   "cell_type": "code",
   "execution_count": 11,
   "metadata": {},
   "outputs": [
    {
     "data": {
      "text/latex": [
       "$$T=F_{ex} L \\operatorname{sin}\\left(\\alpha\\right) - F_{ey} L \\operatorname{cos}\\left(\\alpha\\right) + I \\ddot{\\alpha} - d^{2} m \\operatorname{sin}\\left(2 \\alpha\\right) \\ddot{\\alpha} - d^{2} m \\operatorname{cos}\\left(2 \\alpha\\right) \\dot{\\alpha}^{2} + d g m \\operatorname{cos}\\left(\\alpha\\right)$$"
      ],
      "text/plain": [
       "<IPython.core.display.Math object>"
      ]
     },
     "metadata": {},
     "output_type": "display_data"
    }
   ],
   "source": [
    "T = simplify(T)\n",
    "display(Math(r'T=' + mlatex(T)))"
   ]
  },
  {
   "cell_type": "code",
   "execution_count": 12,
   "metadata": {},
   "outputs": [],
   "source": [
    "#2 joint"
   ]
  },
  {
   "cell_type": "code",
   "execution_count": 13,
   "metadata": {},
   "outputs": [],
   "source": [
    "t = Symbol('t')\n",
    "d1, d2, L1, L2 = symbols('d1, d2, L_1 L_2', positive=True)\n",
    "a1, a2 = dynamicsymbols('alpha1 alpha2')\n",
    "a1d, a2d = a1.diff(t), a2.diff(t)\n",
    "a1dd, a2dd = a1.diff(t, 2), a2.diff(t, 2)"
   ]
  },
  {
   "cell_type": "code",
   "execution_count": 14,
   "metadata": {},
   "outputs": [
    {
     "data": {
      "text/latex": [
       "$$x_1=d_{1} \\operatorname{sin}\\left(\\alpha_{1}\\right)$$"
      ],
      "text/plain": [
       "<IPython.core.display.Math object>"
      ]
     },
     "metadata": {},
     "output_type": "display_data"
    },
    {
     "data": {
      "text/latex": [
       "$$\\dot{x}_1=d_{1} \\operatorname{cos}\\left(\\alpha_{1}\\right) \\dot{\\alpha}_{1}$$"
      ],
      "text/plain": [
       "<IPython.core.display.Math object>"
      ]
     },
     "metadata": {},
     "output_type": "display_data"
    },
    {
     "data": {
      "text/latex": [
       "$$\\ddot{x}_1=- d_{1} \\operatorname{sin}\\left(\\alpha_{1}\\right) \\dot{\\alpha}_{1}^{2} + d_{1} \\operatorname{cos}\\left(\\alpha_{1}\\right) \\ddot{\\alpha}_{1}$$"
      ],
      "text/plain": [
       "<IPython.core.display.Math object>"
      ]
     },
     "metadata": {},
     "output_type": "display_data"
    },
    {
     "data": {
      "text/latex": [
       "$$y_1=d_{1} \\operatorname{cos}\\left(\\alpha_{1}\\right)$$"
      ],
      "text/plain": [
       "<IPython.core.display.Math object>"
      ]
     },
     "metadata": {},
     "output_type": "display_data"
    },
    {
     "data": {
      "text/latex": [
       "$$\\dot{y}_1=- d_{1} \\operatorname{sin}\\left(\\alpha_{1}\\right) \\dot{\\alpha}_{1}$$"
      ],
      "text/plain": [
       "<IPython.core.display.Math object>"
      ]
     },
     "metadata": {},
     "output_type": "display_data"
    },
    {
     "data": {
      "text/latex": [
       "$$\\ddot{y}_1=- d_{1} \\operatorname{sin}\\left(\\alpha_{1}\\right) \\ddot{\\alpha}_{1} - d_{1} \\operatorname{cos}\\left(\\alpha_{1}\\right) \\dot{\\alpha}_{1}^{2}$$"
      ],
      "text/plain": [
       "<IPython.core.display.Math object>"
      ]
     },
     "metadata": {},
     "output_type": "display_data"
    }
   ],
   "source": [
    "x1, y1 = d1*sin(a1), d1*cos(a1)\n",
    "x1d, y1d = x1.diff(t), y1.diff(t)\n",
    "x1dd, y1dd = x1d.diff(t), y1d.diff(t)\n",
    "\n",
    "display(Math(r'x_1=' + mlatex(x1)))\n",
    "display(Math(r'\\dot{x}_1=' + mlatex(x1d)))\n",
    "display(Math(r'\\ddot{x}_1=' + mlatex(x1dd)))\n",
    "display(Math(r'y_1=' + mlatex(y1)))\n",
    "display(Math(r'\\dot{y}_1=' + mlatex(y1d)))\n",
    "display(Math(r'\\ddot{y}_1=' + mlatex(y1dd)))"
   ]
  },
  {
   "cell_type": "code",
   "execution_count": 15,
   "metadata": {},
   "outputs": [
    {
     "data": {
      "text/latex": [
       "$$x_2=L_{1} \\operatorname{sin}\\left(\\alpha_{1}\\right) + d_{2} \\operatorname{sin}\\left(\\alpha_{1} + \\alpha_{2}\\right)$$"
      ],
      "text/plain": [
       "<IPython.core.display.Math object>"
      ]
     },
     "metadata": {},
     "output_type": "display_data"
    },
    {
     "data": {
      "text/latex": [
       "$$\\dot{x}_2=L_{1} \\operatorname{cos}\\left(\\alpha_{1}\\right) \\dot{\\alpha}_{1} + d_{2} \\left(\\dot{\\alpha}_{1} + \\dot{\\alpha}_{2}\\right) \\operatorname{cos}\\left(\\alpha_{1} + \\alpha_{2}\\right)$$"
      ],
      "text/plain": [
       "<IPython.core.display.Math object>"
      ]
     },
     "metadata": {},
     "output_type": "display_data"
    },
    {
     "data": {
      "text/latex": [
       "$$\\ddot{x}_2=- L_{1} \\operatorname{sin}\\left(\\alpha_{1}\\right) \\dot{\\alpha}_{1}^{2} + L_{1} \\operatorname{cos}\\left(\\alpha_{1}\\right) \\ddot{\\alpha}_{1} - d_{2} \\dot{\\alpha}_{1} + \\dot{\\alpha}_{2}^{2} \\operatorname{sin}\\left(\\alpha_{1} + \\alpha_{2}\\right) + d_{2} \\left(\\ddot{\\alpha}_{1} + \\ddot{\\alpha}_{2}\\right) \\operatorname{cos}\\left(\\alpha_{1} + \\alpha_{2}\\right)$$"
      ],
      "text/plain": [
       "<IPython.core.display.Math object>"
      ]
     },
     "metadata": {},
     "output_type": "display_data"
    },
    {
     "data": {
      "text/latex": [
       "$$y_2=L_{1} \\operatorname{cos}\\left(\\alpha_{1}\\right) + d_{2} \\operatorname{cos}\\left(\\alpha_{1} + \\alpha_{2}\\right)$$"
      ],
      "text/plain": [
       "<IPython.core.display.Math object>"
      ]
     },
     "metadata": {},
     "output_type": "display_data"
    },
    {
     "data": {
      "text/latex": [
       "$$\\dot{y}_2=- L_{1} \\operatorname{sin}\\left(\\alpha_{1}\\right) \\dot{\\alpha}_{1} - d_{2} \\left(\\dot{\\alpha}_{1} + \\dot{\\alpha}_{2}\\right) \\operatorname{sin}\\left(\\alpha_{1} + \\alpha_{2}\\right)$$"
      ],
      "text/plain": [
       "<IPython.core.display.Math object>"
      ]
     },
     "metadata": {},
     "output_type": "display_data"
    },
    {
     "data": {
      "text/latex": [
       "$$\\ddot{y}_2=- L_{1} \\operatorname{sin}\\left(\\alpha_{1}\\right) \\ddot{\\alpha}_{1} - L_{1} \\operatorname{cos}\\left(\\alpha_{1}\\right) \\dot{\\alpha}_{1}^{2} - d_{2} \\dot{\\alpha}_{1} + \\dot{\\alpha}_{2}^{2} \\operatorname{cos}\\left(\\alpha_{1} + \\alpha_{2}\\right) - d_{2} \\left(\\ddot{\\alpha}_{1} + \\ddot{\\alpha}_{2}\\right) \\operatorname{sin}\\left(\\alpha_{1} + \\alpha_{2}\\right)$$"
      ],
      "text/plain": [
       "<IPython.core.display.Math object>"
      ]
     },
     "metadata": {},
     "output_type": "display_data"
    }
   ],
   "source": [
    "x2, y2 = L1*sin(a1) + d2*sin(a1+a2), L1*cos(a1) + d2*cos(a1+a2)\n",
    "x2d, y2d = x2.diff(t), y2.diff(t)\n",
    "x2dd, y2dd = x2d.diff(t), y2d.diff(t)\n",
    "\n",
    "display(Math(r'x_2=' + mlatex(x2)))\n",
    "display(Math(r'\\dot{x}_2=' + mlatex(x2d)))\n",
    "display(Math(r'\\ddot{x}_2=' + mlatex(x2dd)))\n",
    "display(Math(r'y_2=' + mlatex(y2)))\n",
    "display(Math(r'\\dot{y}_2=' + mlatex(y2d)))\n",
    "display(Math(r'\\ddot{y}_2=' + mlatex(y2dd)))"
   ]
  },
  {
   "cell_type": "code",
   "execution_count": 16,
   "metadata": {},
   "outputs": [],
   "source": [
    "m1, m2, I1, I2, g = symbols('m_1, m_2, I_1 I_2 g', positive=True)"
   ]
  },
  {
   "cell_type": "code",
   "execution_count": 19,
   "metadata": {},
   "outputs": [],
   "source": [
    "# link 2\n",
    "Fr2x = m2*x2dd - Fex\n",
    "Fr2y = m2*y2dd + m2*g - Fey\n",
    "T2 = I2*(a1dd+a2dd) - d2*Fr2x*sin(a1+a2) + d2*Fr2y*cos(a1+a2) + (L2-d2)*Fex*sin(a1+a2) - (L2-d2)*Fey*cos(a1+a2)\n",
    "T2 = simplify(T2)\n",
    "# link 1\n",
    "Fr1x = m1*x1dd + Fr2x\n",
    "Fr1y = m1*y1dd + Fr2y + m1*g\n",
    "T1 = I1*a1dd + T2 - d1*Fr1x*sin(a1) + d1*Fr1y*cos(a1) - (L1-d1)*Fr2x*sin(a1) + (L1-d1)*Fr2y*cos(a1)\n",
    "T1 = simplify(T1)"
   ]
  },
  {
   "cell_type": "code",
   "execution_count": 20,
   "metadata": {},
   "outputs": [
    {
     "data": {
      "text/latex": [
       "$$T_1\\quad = \\quad F_{ex} L_{1} \\operatorname{sin}\\left(\\alpha_{1}\\right) + F_{ex} L_{2} \\operatorname{sin}\\left(\\alpha_{1} + \\alpha_{2}\\right) - F_{ey} L_{1} \\operatorname{cos}\\left(\\alpha_{1}\\right) - F_{ey} L_{2} \\operatorname{cos}\\left(\\alpha_{1} + \\alpha_{2}\\right) + I_{1} \\ddot{\\alpha}_{1} + I_{2} \\ddot{\\alpha}_{1} + I_{2} \\ddot{\\alpha}_{2} + L_{1}^{2} m_{2} \\operatorname{sin}^{2}\\left(\\alpha_{1}\\right) \\dot{\\alpha}_{1}^{2} - 2 L_{1}^{2} m_{2} \\operatorname{sin}\\left(\\alpha_{1}\\right) \\operatorname{cos}\\left(\\alpha_{1}\\right) \\ddot{\\alpha}_{1} - L_{1}^{2} m_{2} \\operatorname{cos}^{2}\\left(\\alpha_{1}\\right) \\dot{\\alpha}_{1}^{2} + L_{1} d_{2} m_{2} \\dot{\\alpha}_{1} + \\dot{\\alpha}_{2}^{2} \\operatorname{sin}\\left(\\alpha_{1} + \\alpha_{2}\\right) \\operatorname{sin}\\left(\\alpha_{1}\\right) - L_{1} d_{2} m_{2} \\dot{\\alpha}_{1} + \\dot{\\alpha}_{2}^{2} \\operatorname{cos}\\left(\\alpha_{1} + \\alpha_{2}\\right) \\operatorname{cos}\\left(\\alpha_{1}\\right) + L_{1} d_{2} m_{2} \\operatorname{sin}\\left(\\alpha_{1} + \\alpha_{2}\\right) \\operatorname{sin}\\left(\\alpha_{1}\\right) \\dot{\\alpha}_{1}^{2} - 2 L_{1} d_{2} m_{2} \\operatorname{sin}\\left(\\alpha_{1} + \\alpha_{2}\\right) \\operatorname{cos}\\left(\\alpha_{1}\\right) \\ddot{\\alpha}_{1} - L_{1} d_{2} m_{2} \\operatorname{sin}\\left(\\alpha_{1} + \\alpha_{2}\\right) \\operatorname{cos}\\left(\\alpha_{1}\\right) \\ddot{\\alpha}_{2} - 2 L_{1} d_{2} m_{2} \\operatorname{sin}\\left(\\alpha_{1}\\right) \\operatorname{cos}\\left(\\alpha_{1} + \\alpha_{2}\\right) \\ddot{\\alpha}_{1} - L_{1} d_{2} m_{2} \\operatorname{sin}\\left(\\alpha_{1}\\right) \\operatorname{cos}\\left(\\alpha_{1} + \\alpha_{2}\\right) \\ddot{\\alpha}_{2} - L_{1} d_{2} m_{2} \\operatorname{cos}\\left(\\alpha_{1} + \\alpha_{2}\\right) \\operatorname{cos}\\left(\\alpha_{1}\\right) \\dot{\\alpha}_{1}^{2} + L_{1} g m_{2} \\operatorname{cos}\\left(\\alpha_{1}\\right) + d_{1}^{2} m_{1} \\operatorname{sin}^{2}\\left(\\alpha_{1}\\right) \\dot{\\alpha}_{1}^{2} - 2 d_{1}^{2} m_{1} \\operatorname{sin}\\left(\\alpha_{1}\\right) \\operatorname{cos}\\left(\\alpha_{1}\\right) \\ddot{\\alpha}_{1} - d_{1}^{2} m_{1} \\operatorname{cos}^{2}\\left(\\alpha_{1}\\right) \\dot{\\alpha}_{1}^{2} + d_{1} g m_{1} \\operatorname{cos}\\left(\\alpha_{1}\\right) + d_{2}^{2} m_{2} \\dot{\\alpha}_{1} + \\dot{\\alpha}_{2}^{2} \\operatorname{sin}^{2}\\left(\\alpha_{1} + \\alpha_{2}\\right) - d_{2}^{2} m_{2} \\dot{\\alpha}_{1} + \\dot{\\alpha}_{2}^{2} \\operatorname{cos}^{2}\\left(\\alpha_{1} + \\alpha_{2}\\right) - 2 d_{2}^{2} m_{2} \\operatorname{sin}\\left(\\alpha_{1} + \\alpha_{2}\\right) \\operatorname{cos}\\left(\\alpha_{1} + \\alpha_{2}\\right) \\ddot{\\alpha}_{1} - 2 d_{2}^{2} m_{2} \\operatorname{sin}\\left(\\alpha_{1} + \\alpha_{2}\\right) \\operatorname{cos}\\left(\\alpha_{1} + \\alpha_{2}\\right) \\ddot{\\alpha}_{2} + d_{2} g m_{2} \\operatorname{cos}\\left(\\alpha_{1} + \\alpha_{2}\\right)$$"
      ],
      "text/plain": [
       "<IPython.core.display.Math object>"
      ]
     },
     "metadata": {},
     "output_type": "display_data"
    },
    {
     "data": {
      "text/latex": [
       "$$T_2\\quad = \\quad F_{ex} \\left(L_{2} - d_{2}\\right) \\operatorname{sin}\\left(\\alpha_{1} + \\alpha_{2}\\right) - F_{ey} \\left(L_{2} - d_{2}\\right) \\operatorname{cos}\\left(\\alpha_{1} + \\alpha_{2}\\right) + I_{2} \\left(\\ddot{\\alpha}_{1} + \\ddot{\\alpha}_{2}\\right) + d_{2} \\left(F_{ex} + m_{2} \\left(L_{1} \\operatorname{sin}\\left(\\alpha_{1}\\right) \\dot{\\alpha}_{1}^{2} - L_{1} \\operatorname{cos}\\left(\\alpha_{1}\\right) \\ddot{\\alpha}_{1} + d_{2} \\dot{\\alpha}_{1} + \\dot{\\alpha}_{2}^{2} \\operatorname{sin}\\left(\\alpha_{1} + \\alpha_{2}\\right) - d_{2} \\left(\\ddot{\\alpha}_{1} + \\ddot{\\alpha}_{2}\\right) \\operatorname{cos}\\left(\\alpha_{1} + \\alpha_{2}\\right)\\right)\\right) \\operatorname{sin}\\left(\\alpha_{1} + \\alpha_{2}\\right) - d_{2} \\left(F_{ey} - g m_{2} + m_{2} \\left(L_{1} \\operatorname{sin}\\left(\\alpha_{1}\\right) \\ddot{\\alpha}_{1} + L_{1} \\operatorname{cos}\\left(\\alpha_{1}\\right) \\dot{\\alpha}_{1}^{2} + d_{2} \\dot{\\alpha}_{1} + \\dot{\\alpha}_{2}^{2} \\operatorname{cos}\\left(\\alpha_{1} + \\alpha_{2}\\right) + d_{2} \\left(\\ddot{\\alpha}_{1} + \\ddot{\\alpha}_{2}\\right) \\operatorname{sin}\\left(\\alpha_{1} + \\alpha_{2}\\right)\\right)\\right) \\operatorname{cos}\\left(\\alpha_{1} + \\alpha_{2}\\right)$$"
      ],
      "text/plain": [
       "<IPython.core.display.Math object>"
      ]
     },
     "metadata": {},
     "output_type": "display_data"
    }
   ],
   "source": [
    "display(Math(r'T_1\\quad = \\quad ' + mlatex(T1)))\n",
    "display(Math(r'T_2\\quad = \\quad ' + mlatex(T2)))"
   ]
  },
  {
   "cell_type": "code",
   "execution_count": null,
   "metadata": {},
   "outputs": [],
   "source": []
  },
  {
   "cell_type": "code",
   "execution_count": null,
   "metadata": {},
   "outputs": [],
   "source": []
  }
 ],
 "metadata": {
  "kernelspec": {
   "display_name": "Python 3",
   "language": "python",
   "name": "python3"
  },
  "language_info": {
   "codemirror_mode": {
    "name": "ipython",
    "version": 3
   },
   "file_extension": ".py",
   "mimetype": "text/x-python",
   "name": "python",
   "nbconvert_exporter": "python",
   "pygments_lexer": "ipython3",
   "version": "3.6.5"
  }
 },
 "nbformat": 4,
 "nbformat_minor": 2
}
