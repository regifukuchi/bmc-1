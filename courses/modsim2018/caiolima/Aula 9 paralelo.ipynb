{
 "cells": [
  {
   "cell_type": "code",
   "execution_count": 34,
   "metadata": {},
   "outputs": [],
   "source": [
    "import numpy as np\n",
    "import matplotlib.pyplot as plt\n",
    "% matplotlib inline"
   ]
  },
  {
   "cell_type": "code",
   "execution_count": 35,
   "metadata": {},
   "outputs": [],
   "source": [
    "Lslack=0.223\n",
    "Umax=0.04\n",
    "Lceopt=0.093\n",
    "width=0.63*Lceopt\n",
    "Fmax=7400\n",
    "a=0.25*Fmax\n",
    "b=0.25*10*Lceopt"
   ]
  },
  {
   "cell_type": "code",
   "execution_count": 36,
   "metadata": {},
   "outputs": [],
   "source": [
    "Lce=0.087\n",
    "dt=0.001\n",
    "i=0\n",
    "dt=0.001\n",
    "i=1\n",
    "k=((Fmax)/((Lslack*Umax)**2))\n",
    "kp=((Fmax)/((Lceopt*Umax)**2))\n",
    "t= np.arange(0,2.99,dt)\n",
    "Fce=np.empty_like(t)"
   ]
  },
  {
   "cell_type": "code",
   "execution_count": 37,
   "metadata": {},
   "outputs": [],
   "source": [
    "def dLcedt(b,Fsee,F0,Fkpe,a):\n",
    "    return ((b*(Fsee-Fkpe-F0))/(a+Fsee-FKpe))"
   ]
  },
  {
   "cell_type": "code",
   "execution_count": 38,
   "metadata": {},
   "outputs": [],
   "source": [
    "for i in range (len(t)):\n",
    "    if t[i] <=1:\n",
    "        lm=0.31\n",
    "    if t[i]>1 and t[i] <2:\n",
    "        lm=0.31-0.04*(t[i]-1)\n",
    "    if t[i]>=2:\n",
    "        lm=0.27\n",
    "    if (Lce-Lceopt)<0:\n",
    "        FKpe=0\n",
    "    else:\n",
    "        FKpe=kp*(Lce-Lceopt)**2\n",
    "    lsee=lm-Lce\n",
    "    Fsee=k*(lsee-Lslack)**2\n",
    "    F0=np.max([0, Fmax*(1-((Lce-Lceopt)/(width))**2)])\n",
    "    Lce= Lce+ dt*dLcedt(b,Fsee,F0,FKpe,a)\n",
    "    Fce[i]=Fsee         "
   ]
  },
  {
   "cell_type": "code",
   "execution_count": 39,
   "metadata": {},
   "outputs": [
    {
     "data": {
      "text/plain": [
       "[<matplotlib.lines.Line2D at 0x1ec3f965208>]"
      ]
     },
     "execution_count": 39,
     "metadata": {},
     "output_type": "execute_result"
    },
    {
     "data": {
      "image/png": "[encoded data removed]",
      "text/plain": [
       "<Figure size 432x288 with 1 Axes>"
      ]
     },
     "metadata": {},
     "output_type": "display_data"
    }
   ],
   "source": [
    "plt.plot(t,Fce)"
   ]
  },
  {
   "cell_type": "code",
   "execution_count": null,
   "metadata": {},
   "outputs": [],
   "source": []
  }
 ],
 "metadata": {
  "kernelspec": {
   "display_name": "Python 3",
   "language": "python",
   "name": "python3"
  },
  "language_info": {
   "codemirror_mode": {
    "name": "ipython",
    "version": 3
   },
   "file_extension": ".py",
   "mimetype": "text/x-python",
   "name": "python",
   "nbconvert_exporter": "python",
   "pygments_lexer": "ipython3",
   "version": "3.6.5"
  }
 },
 "nbformat": 4,
 "nbformat_minor": 2
}
