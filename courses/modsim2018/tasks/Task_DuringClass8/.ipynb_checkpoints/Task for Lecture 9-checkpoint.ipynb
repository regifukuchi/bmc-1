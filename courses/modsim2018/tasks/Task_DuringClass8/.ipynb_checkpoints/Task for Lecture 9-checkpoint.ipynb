{
 "cells": [
  {
   "cell_type": "code",
   "execution_count": 31,
   "metadata": {},
   "outputs": [],
   "source": [
    "import numpy as np\n",
    "import matplotlib.pyplot as plt\n",
    "%matplotlib inline"
   ]
  },
  {
   "cell_type": "code",
   "execution_count": 39,
   "metadata": {},
   "outputs": [],
   "source": [
    "ks = 10\n",
    "kp = 5\n",
    "b = 6\n",
    "L0 = 0.2\n",
    "L = 0.15\n",
    "x1 = 0 - (kp+ks)*L\n",
    "dt = 0.001\n",
    "t = np.arange(0,10,dt)\n",
    "\n",
    "F = np.empty_like (t)\n",
    "F[0] = 0"
   ]
  },
  {
   "cell_type": "code",
   "execution_count": 40,
   "metadata": {},
   "outputs": [],
   "source": [
    "for i in range (1,len(t)):\n",
    "    if t[i]>=2:\n",
    "        L = 0.1\n",
    "    dx1dt = -(ks/b)*x1 -((ks**2)/b)*L -((ks*kp)/b)*L0\n",
    "    x1 = x1 + dt*dx1dt\n",
    "    F[i] = x1 + (kp+ks)*L"
   ]
  },
  {
   "cell_type": "code",
   "execution_count": 43,
   "metadata": {},
   "outputs": [
    {
     "data": {
      "image/png": "[encoded data removed]",
      "text/plain": [
       "<Figure size 432x288 with 1 Axes>"
      ]
     },
     "metadata": {},
     "output_type": "display_data"
    }
   ],
   "source": [
    "fig, ax=plt.subplots(1, 1)\n",
    "\n",
    "plt.plot (t,F)\n",
    "plt.ylabel('F [N]')\n",
    "plt.xlabel('t [s]')\n",
    "\n",
    "plt.show()"
   ]
  }
 ],
 "metadata": {
  "kernelspec": {
   "display_name": "Python 3",
   "language": "python",
   "name": "python3"
  },
  "language_info": {
   "codemirror_mode": {
    "name": "ipython",
    "version": 3
   },
   "file_extension": ".py",
   "mimetype": "text/x-python",
   "name": "python",
   "nbconvert_exporter": "python",
   "pygments_lexer": "ipython3",
   "version": "3.6.5"
  }
 },
 "nbformat": 4,
 "nbformat_minor": 2
}
