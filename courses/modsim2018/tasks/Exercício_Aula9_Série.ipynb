{
 "cells": [
  {
   "cell_type": "code",
   "execution_count": 12,
   "metadata": {
    "collapsed": true
   },
   "outputs": [],
   "source": [
    "import numpy as np\n",
    "import matplotlib.pyplot as plt\n",
    "%matplotlib inline"
   ]
  },
  {
   "cell_type": "code",
   "execution_count": 13,
   "metadata": {
    "collapsed": false
   },
   "outputs": [],
   "source": [
    "#Propriedades musculares \n",
    "Lslack = 0.223\n",
    "Umax = 0.04\n",
    "Lceopt = 0.093\n",
    "width = 0.63*Lceopt\n",
    "Fmax = 7400\n",
    "a = 0.25*Fmax\n",
    "b = 0.25*10*Lceopt\n"
   ]
  },
  {
   "cell_type": "code",
   "execution_count": 14,
   "metadata": {
    "collapsed": false
   },
   "outputs": [
    {
     "data": {
      "text/plain": [
       "(2990, 2)"
      ]
     },
     "execution_count": 14,
     "metadata": {},
     "output_type": "execute_result"
    }
   ],
   "source": [
    "#Valores iniciais\n",
    "\n",
    "Lce = 0.087\n",
    "dt = 0.001\n",
    "t = np.arange(0,2.99,dt)\n",
    "h = 0.001\n",
    "data = np.zeros((len(t), 2))\n",
    "data.shape"
   ]
  },
  {
   "cell_type": "code",
   "execution_count": 15,
   "metadata": {
    "collapsed": false
   },
   "outputs": [],
   "source": [
    "for i in range (0,len(t)):\n",
    "    if (t[i]<=1):\n",
    "        Lm = 0.31\n",
    "        \n",
    "    if (t[i]>1 and t[i]<2):\n",
    "        Lm = 0.31-(0.04*(t[i]-1))\n",
    "        \n",
    "    Lsee = Lm - Lce\n",
    "    \n",
    "    if (Lsee < Lslack):\n",
    "        F = 0\n",
    "    else:\n",
    "        F = Fmax*((Lsee - Lslack)/(Umax*Lslack))**2\n",
    "    \n",
    "    F0 = max((0,Fmax*(1-((Lce-Lceopt)/width)**2)))\n",
    "    \n",
    "    if (F>F0):\n",
    "        print(\"Erro\")\n",
    "     \n",
    "    Lcedot = (b*(F - F0))/(a + F)\n",
    "    Lce = Lce + h*Lcedot\n",
    "    data[i,0] = t[i]\n",
    "    data [i,1] = F\n",
    "     "
   ]
  },
  {
   "cell_type": "code",
   "execution_count": 16,
   "metadata": {
    "collapsed": false
   },
   "outputs": [
    {
     "data": {
      "image/png": "[encoded data removed]",
      "text/plain": [
       "<matplotlib.figure.Figure at 0x80d0048>"
      ]
     },
     "metadata": {},
     "output_type": "display_data"
    }
   ],
   "source": [
    "plt.plot(t, data[:,1])\n",
    "plt.show()"
   ]
  },
  {
   "cell_type": "code",
   "execution_count": null,
   "metadata": {
    "collapsed": true
   },
   "outputs": [],
   "source": []
  }
 ],
 "metadata": {
  "kernelspec": {
   "display_name": "Python 3",
   "language": "python",
   "name": "python3"
  },
  "language_info": {
   "codemirror_mode": {
    "name": "ipython",
    "version": 3
   },
   "file_extension": ".py",
   "mimetype": "text/x-python",
   "name": "python",
   "nbconvert_exporter": "python",
   "pygments_lexer": "ipython3",
   "version": "3.5.1"
  }
 },
 "nbformat": 4,
 "nbformat_minor": 0
}
