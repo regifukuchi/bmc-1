{
 "cells": [
  {
   "cell_type": "code",
   "execution_count": 6,
   "metadata": {},
   "outputs": [],
   "source": [
    "import math\n",
    "import numpy as np\n",
    "import matplotlib.pyplot as plt"
   ]
  },
  {
   "cell_type": "code",
   "execution_count": 2,
   "metadata": {},
   "outputs": [],
   "source": [
    "# Posição em (x): x= x(0)+V(0)*cos(30°)*t"
   ]
  },
  {
   "cell_type": "code",
   "execution_count": 3,
   "metadata": {},
   "outputs": [],
   "source": [
    "x0=0\n",
    "v0=30"
   ]
  },
  {
   "cell_type": "code",
   "execution_count": 10,
   "metadata": {},
   "outputs": [
    {
     "name": "stdout",
     "output_type": "stream",
     "text": [
      "0.5235987755982988\n"
     ]
    }
   ],
   "source": [
    "# calcula posição final em em (x): x= x(0)+V(0)*cos(30°)*tf(10)\n",
    "tf=10\n",
    "# Converter graus em rad\n",
    "anglegr=30\n",
    "anglerad=((anglegr*2*math.pi)/360)\n",
    "print(anglerad)"
   ]
  },
  {
   "cell_type": "code",
   "execution_count": 14,
   "metadata": {},
   "outputs": [
    {
     "name": "stdout",
     "output_type": "stream",
     "text": [
      "259.8076211353316\n"
     ]
    }
   ],
   "source": [
    "xf= x0+v0*math.cos(anglerad)*tf\n",
    "print (x)"
   ]
  },
  {
   "cell_type": "code",
   "execution_count": 27,
   "metadata": {},
   "outputs": [
    {
     "name": "stdout",
     "output_type": "stream",
     "text": [
      "[  0.           2.62431941   5.24863881   7.87295822  10.49727762\n",
      "  13.12159703  15.74591643  18.37023584  20.99455524  23.61887465\n",
      "  26.24319405  28.86751346  31.49183286  34.11615227  36.74047168\n",
      "  39.36479108  41.98911049  44.61342989  47.2377493   49.8620687\n",
      "  52.48638811  55.11070751  57.73502692  60.35934632  62.98366573\n",
      "  65.60798514  68.23230454  70.85662395  73.48094335  76.10526276\n",
      "  78.72958216  81.35390157  83.97822097  86.60254038  89.22685978\n",
      "  91.85117919  94.47549859  97.099818    99.72413741 102.34845681\n",
      " 104.97277622 107.59709562 110.22141503 112.84573443 115.47005384\n",
      " 118.09437324 120.71869265 123.34301205 125.96733146 128.59165086\n",
      " 131.21597027 133.84028968 136.46460908 139.08892849 141.71324789\n",
      " 144.3375673  146.9618867  149.58620611 152.21052551 154.83484492\n",
      " 157.45916432 160.08348373 162.70780314 165.33212254 167.95644195\n",
      " 170.58076135 173.20508076 175.82940016 178.45371957 181.07803897\n",
      " 183.70235838 186.32667778 188.95099719 191.57531659 194.199636\n",
      " 196.82395541 199.44827481 202.07259422 204.69691362 207.32123303\n",
      " 209.94555243 212.56987184 215.19419124 217.81851065 220.44283005\n",
      " 223.06714946 225.69146887 228.31578827 230.94010768 233.56442708\n",
      " 236.18874649 238.81306589 241.4373853  244.0617047  246.68602411\n",
      " 249.31034351 251.93466292 254.55898232 257.18330173 259.80762114]\n"
     ]
    }
   ],
   "source": [
    "# Criar vetor de tempo para plotar o gráfico\n",
    "t=np.linspace(0,10,100)\n",
    "x=np.zeros(100)\n",
    "# calcula posição para cada instante t em em (x): x= x(0)+V(0)*cos(30°)*tf(i)\n",
    "i=0\n",
    "while i <100:\n",
    "    x[i]= x0+v0*math.cos(anglerad)*t[i]\n",
    "    i=i+1\n",
    "\n",
    "print (x)"
   ]
  },
  {
   "cell_type": "code",
   "execution_count": 34,
   "metadata": {},
   "outputs": [],
   "source": [
    "# calcula posição final em (y): x= y(0)+V(0)*cos(30°)*tf(10)-(g*t²)/2\n",
    "y0=0\n",
    "v0=30\n",
    "tf=10\n",
    "a=-9.81\n",
    "# Converter graus em rad\n",
    "anglegr=30\n",
    "anglerad=((anglegr*2*math.pi)/360)"
   ]
  },
  {
   "cell_type": "code",
   "execution_count": 36,
   "metadata": {},
   "outputs": [
    {
     "name": "stdout",
     "output_type": "stream",
     "text": [
      "-340.5\n"
     ]
    }
   ],
   "source": [
    "yf= y0+v0*math.sin(anglerad)*tf+((a*tf**2)/2)\n",
    "print (yf)"
   ]
  },
  {
   "cell_type": "code",
   "execution_count": 37,
   "metadata": {},
   "outputs": [
    {
     "name": "stdout",
     "output_type": "stream",
     "text": [
      "[   0.            1.4651056     2.83011938    4.09504132    5.25987144\n",
      "    6.32460973    7.2892562     8.15381084    8.91827365    9.58264463\n",
      "   10.14692378   10.61111111   10.97520661   11.23921028   11.40312213\n",
      "   11.46694215   11.43067034   11.2943067    11.05785124   10.72130395\n",
      "   10.28466483    9.74793388    9.11111111    8.37419651    7.53719008\n",
      "    6.60009183    5.56290174    4.42561983    3.1882461     1.85078053\n",
      "    0.41322314   -1.12442608   -2.76216713   -4.5          -6.3379247\n",
      "   -8.27594123  -10.31404959  -12.45224977  -14.69054178  -17.02892562\n",
      "  -19.46740129  -22.00596878  -24.6446281   -27.38337925  -30.22222222\n",
      "  -33.16115702  -36.20018365  -39.33930211  -42.5785124   -45.91781451\n",
      "  -49.35720845  -52.89669421  -56.53627181  -60.27594123  -64.11570248\n",
      "  -68.05555556  -72.09550046  -76.23553719  -80.47566575  -84.81588613\n",
      "  -89.25619835  -93.79660239  -98.43709826 -103.17768595 -108.01836547\n",
      " -112.95913682 -118.         -123.140955   -128.38200184 -133.7231405\n",
      " -139.16437098 -144.7056933  -150.34710744 -156.08861341 -161.9302112\n",
      " -167.87190083 -173.91368228 -180.05555556 -186.29752066 -192.63957759\n",
      " -199.08172635 -205.62396694 -212.26629936 -219.0087236  -225.85123967\n",
      " -232.79384757 -239.83654729 -246.97933884 -254.22222222 -261.56519743\n",
      " -269.00826446 -276.55142332 -284.19467401 -291.93801653 -299.78145087\n",
      " -307.72497704 -315.76859504 -323.91230487 -332.15610652 -340.5       ]\n"
     ]
    }
   ],
   "source": [
    "y=np.zeros(100)\n",
    "i=0\n",
    "while i <100:\n",
    "    y[i]= y0+v0*math.sin(anglerad)*t[i]+((a*t[i]**2)/2)\n",
    "    i=i+1\n",
    "print (y)"
   ]
  },
  {
   "cell_type": "code",
   "execution_count": 49,
   "metadata": {},
   "outputs": [
    {
     "data": {
      "text/plain": [
       "Text(0.5,1,'Posição X por Y da Particula')"
      ]
     },
     "execution_count": 49,
     "metadata": {},
     "output_type": "execute_result"
    },
    {
     "data": {
      "image/png": "[encoded data removed]",
      "text/plain": [
       "<Figure size 432x288 with 1 Axes>"
      ]
     },
     "metadata": {},
     "output_type": "display_data"
    }
   ],
   "source": [
    "plt.plot(x,y,'ro')\n",
    "plt.xlabel('posição x')\n",
    "plt.ylabel('posição y')\n",
    "plt.title('Posição X por Y da Particula')"
   ]
  },
  {
   "cell_type": "code",
   "execution_count": null,
   "metadata": {},
   "outputs": [],
   "source": []
  },
  {
   "cell_type": "code",
   "execution_count": null,
   "metadata": {},
   "outputs": [],
   "source": []
  }
 ],
 "metadata": {
  "kernelspec": {
   "display_name": "Python 3",
   "language": "python",
   "name": "python3"
  },
  "language_info": {
   "codemirror_mode": {
    "name": "ipython",
    "version": 3
   },
   "file_extension": ".py",
   "mimetype": "text/x-python",
   "name": "python",
   "nbconvert_exporter": "python",
   "pygments_lexer": "ipython3",
   "version": "3.6.5"
  }
 },
 "nbformat": 4,
 "nbformat_minor": 2
}
