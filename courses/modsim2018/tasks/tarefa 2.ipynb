{
 "cells": [
  {
   "cell_type": "code",
   "execution_count": 1,
   "metadata": {
    "collapsed": true
   },
   "outputs": [],
   "source": [
    "import numpy as np\n",
    "import matplotlib.pyplot as plt\n",
    "%matplotlib inline"
   ]
  },
  {
   "cell_type": "code",
   "execution_count": 4,
   "metadata": {
    "collapsed": true
   },
   "outputs": [],
   "source": [
    "x0 = 0\n",
    "y0 = 0\n",
    "vx0 = 30*np.cos(30*np.pi/180)\n",
    "vy0 = 30*np.sin(30*np.pi/180)\n",
    "\n",
    "x = x0\n",
    "y = y0\n",
    "vx = vx0\n",
    "vy = vy0\n",
    "\n",
    "g = 9.81\n",
    "dt = 0.01\n",
    "b = 0.006\n",
    "m = 0.43\n",
    "v = np.sqrt(vx**2 + vy**2)"
   ]
  },
  {
   "cell_type": "code",
   "execution_count": 5,
   "metadata": {
    "collapsed": true
   },
   "outputs": [],
   "source": [
    "t = np.arange(0, 3.4, dt)\n",
    "\n",
    "rx = np.empty_like(t)\n",
    "ry = np.empty_like(t)\n",
    "\n",
    "for i in range(len(t)):\n",
    "    dxdt = vx\n",
    "    dydt = vy\n",
    "    dvxdt = -b/m*vx/np.sqrt(v)\n",
    "    dvydt = -g -b/m*vy/np.sqrt(v)\n",
    "\n",
    "    x = x + dt*dxdt\n",
    "    y = y + dt*dydt\n",
    "    vx = vx + dt*dvxdt\n",
    "    vy = vy + dt*dvydt\n",
    "    \n",
    "    rx[i] = x\n",
    "    ry[i] = y"
   ]
  },
  {
   "cell_type": "code",
   "execution_count": 6,
   "metadata": {
    "collapsed": false
   },
   "outputs": [
    {
     "data": {
      "image/png": "[encoded data removed]",
      "text/plain": [
       "<matplotlib.figure.Figure at 0x7c9cf28>"
      ]
     },
     "metadata": {},
     "output_type": "display_data"
    }
   ],
   "source": [
    "plt.plot(rx, ry)\n",
    "plt.grid()\n",
    "plt.show()"
   ]
  },
  {
   "cell_type": "code",
   "execution_count": null,
   "metadata": {
    "collapsed": true
   },
   "outputs": [],
   "source": []
  }
 ],
 "metadata": {
  "kernelspec": {
   "display_name": "Python 3",
   "language": "python",
   "name": "python3"
  },
  "language_info": {
   "codemirror_mode": {
    "name": "ipython",
    "version": 3
   },
   "file_extension": ".py",
   "mimetype": "text/x-python",
   "name": "python",
   "nbconvert_exporter": "python",
   "pygments_lexer": "ipython3",
   "version": "3.5.1"
  }
 },
 "nbformat": 4,
 "nbformat_minor": 0
}
