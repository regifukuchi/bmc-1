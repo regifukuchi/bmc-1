{
 "cells": [
  {
   "cell_type": "code",
   "execution_count": 4,
   "metadata": {},
   "outputs": [],
   "source": [
    "import numpy as np\n",
    "import matplotlib.pyplot as plt\n",
    "%matplotlib inline"
   ]
  },
  {
   "cell_type": "code",
   "execution_count": 7,
   "metadata": {},
   "outputs": [],
   "source": [
    "Lslack = 0.223\n",
    "Umax = 0.04\n",
    "Lceopt = 0.093\n",
    "width = 0.63*Lceopt\n",
    "Fmax = 7400\n",
    "a = 0.25*Fmax\n",
    "b = 0.25*10*Lceopt\n",
    "\n",
    "Lce = 0.087\n",
    "h = 0.001\n",
    "t = 0\n",
    "tend = 2.99\n",
    "i = 1\n",
    "\n",
    "data = np.zeros((int(tend/h)+3, 2))"
   ]
  },
  {
   "cell_type": "code",
   "execution_count": 9,
   "metadata": {},
   "outputs": [
    {
     "data": {
      "text/plain": [
       "[<matplotlib.lines.Line2D at 0x253990f9940>]"
      ]
     },
     "execution_count": 9,
     "metadata": {},
     "output_type": "execute_result"
    },
    {
     "data": {
      "image/png": "[encoded data removed]",
      "text/plain": [
       "<Figure size 432x288 with 1 Axes>"
      ]
     },
     "metadata": {},
     "output_type": "display_data"
    }
   ],
   "source": [
    "while t < tend :\n",
    "    if t<= 1:\n",
    "        Lm = 0.31\n",
    "    if t > 1 and t < 2:\n",
    "        Lm = 0.31 - 0.04*(t-1)\n",
    "    Lsee = Lm - Lce\n",
    "    if Lsee < Lslack:\n",
    "        F = 0\n",
    "    else:\n",
    "        F = Fmax*((Lsee-Lslack)/(Umax*Lslack))**2\n",
    "    if Lce < Lceopt:\n",
    "        Fkp = 0\n",
    "    else:\n",
    "        Fkp = Fmax*((Lce-Lceopt)/(Umax*Lslack))**2\n",
    "    F0 = max(0, (Fmax*(1-(Lce-Lceopt)/width)**2))\n",
    "    if (F - Fkp) > F0:\n",
    "        print('error')\n",
    "    Lcedot = -b*(F0-(F-Fkp))/(F+a-Fkp)\n",
    "    Lce = Lce + h*Lcedot\n",
    "    t = t + h\n",
    "    i = i + 1\n",
    "    data[i,0] = t\n",
    "    data[i,1] = F - Fkp\n",
    "    \n",
    "plt.plot(data[:,0], data[:,1])"
   ]
  },
  {
   "cell_type": "code",
   "execution_count": null,
   "metadata": {},
   "outputs": [],
   "source": []
  }
 ],
 "metadata": {
  "kernelspec": {
   "display_name": "Python 3",
   "language": "python",
   "name": "python3"
  },
  "language_info": {
   "codemirror_mode": {
    "name": "ipython",
    "version": 3
   },
   "file_extension": ".py",
   "mimetype": "text/x-python",
   "name": "python",
   "nbconvert_exporter": "python",
   "pygments_lexer": "ipython3",
   "version": "3.6.5"
  }
 },
 "nbformat": 4,
 "nbformat_minor": 2
}
