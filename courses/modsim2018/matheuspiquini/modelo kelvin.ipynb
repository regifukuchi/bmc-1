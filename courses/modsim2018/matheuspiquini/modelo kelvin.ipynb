{
 "cells": [
  {
   "cell_type": "code",
   "execution_count": 16,
   "metadata": {
    "collapsed": true
   },
   "outputs": [],
   "source": [
    "import numpy as np\n",
    "import matplotlib.pyplot as plt\n",
    "%matplotlib inline"
   ]
  },
  {
   "cell_type": "code",
   "execution_count": 30,
   "metadata": {
    "collapsed": true
   },
   "outputs": [],
   "source": [
    "ks = 100\n",
    "b = 6\n",
    "ls0 = 0.2\n",
    "l = 0.3\n",
    "\n",
    "x1 = 0 - ks*l\n",
    "\n",
    "dt = 0.001\n",
    "t = np.arange(0, 5, dt)\n",
    "\n",
    "F = np.empty_like(t)\n",
    "F[0] = 0"
   ]
  },
  {
   "cell_type": "code",
   "execution_count": 31,
   "metadata": {
    "collapsed": true
   },
   "outputs": [],
   "source": [
    "def dx1dt(x1, l, ks, b):\n",
    "    return -ks/b*x1 - (ks**2/b)*l"
   ]
  },
  {
   "cell_type": "code",
   "execution_count": 32,
   "metadata": {
    "collapsed": false
   },
   "outputs": [],
   "source": [
    "for i in range(len(t)):\n",
    "    if t[i] >= 2:\n",
    "        l = 0.35\n",
    "    x1 = x1 + dt*dx1dt(x1, l, ks, b)\n",
    "    F[i] = x1 + ks*l"
   ]
  },
  {
   "cell_type": "code",
   "execution_count": 33,
   "metadata": {
    "collapsed": false
   },
   "outputs": [
    {
     "data": {
      "text/plain": [
       "[<matplotlib.lines.Line2D at 0x94dfd30>]"
      ]
     },
     "execution_count": 33,
     "metadata": {},
     "output_type": "execute_result"
    },
    {
     "data": {
      "image/png": "[encoded data removed]",
      "text/plain": [
       "<matplotlib.figure.Figure at 0x944c908>"
      ]
     },
     "metadata": {},
     "output_type": "display_data"
    }
   ],
   "source": [
    "plt.plot(t,F)"
   ]
  },
  {
   "cell_type": "code",
   "execution_count": 358,
   "metadata": {
    "collapsed": true
   },
   "outputs": [],
   "source": [
    "ks = 50\n",
    "b = 500\n",
    "ls0 = 0.2\n",
    "l = 0.1\n",
    "\n",
    "x1 = 0 - ks*l\n",
    "\n",
    "dt = 0.001\n",
    "t = np.arange(0, 350, dt)\n",
    "\n",
    "F = np.empty_like(t)\n",
    "F[0] = 0"
   ]
  },
  {
   "cell_type": "code",
   "execution_count": 359,
   "metadata": {
    "collapsed": true
   },
   "outputs": [],
   "source": [
    "def dx1dt(x1, l, ks, b):\n",
    "    return -ks/b*x1 - (ks**2/b)*l"
   ]
  },
  {
   "cell_type": "code",
   "execution_count": 360,
   "metadata": {
    "collapsed": true
   },
   "outputs": [],
   "source": [
    "kp = 12\n",
    "\n",
    "def F2(l, kp, ls0):\n",
    "    return kp*l - kp*ls0"
   ]
  },
  {
   "cell_type": "code",
   "execution_count": 361,
   "metadata": {
    "collapsed": false
   },
   "outputs": [],
   "source": [
    "for i in range(len(t)):\n",
    "    if t[i] >= 2:\n",
    "        l = 0.07\n",
    "    x1 = x1 + dt*dx1dt(x1, l, ks, b)\n",
    "    F[i] = x1 + ks*l + F2(l, kp, ls0)"
   ]
  },
  {
   "cell_type": "code",
   "execution_count": 362,
   "metadata": {
    "collapsed": false
   },
   "outputs": [
    {
     "data": {
      "text/plain": [
       "[<matplotlib.lines.Line2D at 0x2b2c89b0>]"
      ]
     },
     "execution_count": 362,
     "metadata": {},
     "output_type": "execute_result"
    },
    {
     "data": {
      "image/png": "[encoded data removed]",
      "text/plain": [
       "<matplotlib.figure.Figure at 0x2a76bef0>"
      ]
     },
     "metadata": {},
     "output_type": "display_data"
    }
   ],
   "source": [
    "plt.plot(t,F)"
   ]
  },
  {
   "cell_type": "code",
   "execution_count": 440,
   "metadata": {
    "collapsed": true
   },
   "outputs": [],
   "source": [
    "ks = 80\n",
    "kp = 20\n",
    "b = 3000\n",
    "ls0 = 0.1\n",
    "l = 0.1\n",
    "\n",
    "x1 = 0 - ks*l - kp*l\n",
    "\n",
    "dt = 0.001\n",
    "t = np.arange(0, 350, dt)\n",
    "\n",
    "F = np.empty_like(t)\n",
    "F[0] = 0"
   ]
  },
  {
   "cell_type": "code",
   "execution_count": 441,
   "metadata": {
    "collapsed": true
   },
   "outputs": [],
   "source": [
    "def dx1dt(x1, l, ks, b, kp, ls0):\n",
    "    return -ks/b*x1 - (ks**2/b)*l - (ks*kp*ls0)/b"
   ]
  },
  {
   "cell_type": "code",
   "execution_count": 442,
   "metadata": {
    "collapsed": true
   },
   "outputs": [],
   "source": [
    "for i in range(len(t)):\n",
    "    if t[i] >= 2:\n",
    "        l = 0.07\n",
    "    x1 = x1 + dt*dx1dt(x1, l, ks, b, kp, ls0)\n",
    "    F[i] = x1 + ks*l + kp*l"
   ]
  },
  {
   "cell_type": "code",
   "execution_count": 443,
   "metadata": {
    "collapsed": false
   },
   "outputs": [
    {
     "data": {
      "image/png": "[encoded data removed]",
      "text/plain": [
       "<matplotlib.figure.Figure at 0x37b0f358>"
      ]
     },
     "metadata": {},
     "output_type": "display_data"
    }
   ],
   "source": [
    "plt.plot(t,F)\n",
    "plt.grid()"
   ]
  },
  {
   "cell_type": "code",
   "execution_count": null,
   "metadata": {
    "collapsed": true
   },
   "outputs": [],
   "source": []
  }
 ],
 "metadata": {
  "kernelspec": {
   "display_name": "Python 3",
   "language": "python",
   "name": "python3"
  },
  "language_info": {
   "codemirror_mode": {
    "name": "ipython",
    "version": 3
   },
   "file_extension": ".py",
   "mimetype": "text/x-python",
   "name": "python",
   "nbconvert_exporter": "python",
   "pygments_lexer": "ipython3",
   "version": "3.5.1"
  }
 },
 "nbformat": 4,
 "nbformat_minor": 0
}
