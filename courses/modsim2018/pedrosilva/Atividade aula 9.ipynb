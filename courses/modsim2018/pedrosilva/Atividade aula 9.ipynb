{
 "cells": [
  {
   "cell_type": "code",
   "execution_count": 3,
   "metadata": {},
   "outputs": [],
   "source": [
    "import numpy as np\n",
    "import matplotlib.pyplot as plt"
   ]
  },
  {
   "cell_type": "markdown",
   "metadata": {},
   "source": [
    " ## Modelo Parcial\n",
    " \n",
    " <figure><img src=\"../../../images/modelo_musculo.png\\\" width=400 />"
   ]
  },
  {
   "cell_type": "markdown",
   "metadata": {},
   "source": [
    "## Dedução\n",
    "   Para $L_T < L_{SL}$ , temos:\n",
    "   \n",
    "   $F_{SEE} = 0 $ (1)\n",
    "   \n",
    "   Para $L_T >= L_{SL}$ , temos:\n",
    "   \n",
    "   $F_{SEE} = K(L - L_{SL})^2$ (2)\n",
    "   \n",
    "   A força $F_{CE}$ é dada por:\n",
    "   \n",
    "   Para $L_{CE} < 0$\n",
    "   \n",
    "   $F_{CE} = \\frac{bF_0 + a\\frac{dL_{CE}}{dt}}{b - \\frac{dL_{CE}}{dt}}$ (3)\n",
    "   \n",
    "   Sabemos que:\n",
    "  \n",
    "   $F = F_{SEE} = F_{CE}$ (4)\n",
    "   \n",
    "   $a\\frac{dL_{CE}}{dt} + bF_0 = F_{CE}b - \\frac{dL_{CE}}{dt}F_{CE} $ (5)\n",
    "   \n",
    "   $\\frac{dL_{CE}}{dt} (a + F_{CE}) = b(F_{CE} - F_0)$ (6)\n",
    "   \n",
    "   $\\frac{dL_{CE}}{dt} = \\frac{b(F_{CE} - F_0)}{(a + F_{CE})}$ (7)\n",
    "   \n",
    "   $L_{SEE} = L_m - L_{CE}$ (8)"
   ]
  },
  {
   "cell_type": "markdown",
   "metadata": {},
   "source": [
    "\n",
    "    "
   ]
  },
  {
   "cell_type": "markdown",
   "metadata": {},
   "source": [
    "## Resolução"
   ]
  },
  {
   "cell_type": "code",
   "execution_count": 4,
   "metadata": {},
   "outputs": [],
   "source": [
    "## Propriedades\n",
    "\n",
    "L_SL = 0.223\n",
    "Umax = 0.04\n",
    "L_CEOPT = 0.093\n",
    "width = 0.63*L_CEOPT\n",
    "Fmax = 7400\n",
    "a = 0.25*Fmax\n",
    "b = 0.25*10*L_CEOPT\n",
    "\n",
    "## Condições Iniciais\n",
    "L_CE = 0.087\n",
    "dt = 0.001\n",
    "t = np.arange(0,3,dt)\n",
    "F = np.empty_like(t)"
   ]
  },
  {
   "cell_type": "code",
   "execution_count": 5,
   "metadata": {},
   "outputs": [],
   "source": [
    "def dLCEdt (a,b,F_0,F):\n",
    "    return -b*(F_0-F)/(F+a)"
   ]
  },
  {
   "cell_type": "code",
   "execution_count": 6,
   "metadata": {},
   "outputs": [],
   "source": [
    "for i in range(1,len(t)):\n",
    "    \n",
    "    if t[i] <= 1:\n",
    "        L_m = 0.31\n",
    "    elif (t[i]>1 and t[i] < 2):\n",
    "        L_m = 0.31 - 0.04 * (t[i] - 1)\n",
    "        \n",
    "    L_SEE = L_m - L_CE\n",
    "    \n",
    "    if L_SEE < L_SL:\n",
    "        F[i] = 0\n",
    "    else:\n",
    "        F[i] = Fmax*((L_SEE - L_SL)/(Umax*L_SL))**2\n",
    "        #K = Fmax/Umax^2\n",
    "        \n",
    "    F_0 = max(0,Fmax*(1-((L_CE-L_CEOPT)/width)**2))\n",
    "    \n",
    "    L_CE = L_CE + dt*dLCEdt (a,b,F_0,F[i])"
   ]
  },
  {
   "cell_type": "code",
   "execution_count": 7,
   "metadata": {},
   "outputs": [
    {
     "data": {
      "image/png": "[encoded data removed]",
      "text/plain": [
       "<Figure size 432x288 with 1 Axes>"
      ]
     },
     "metadata": {},
     "output_type": "display_data"
    }
   ],
   "source": [
    "plt.plot(t,F)\n",
    "plt.grid()\n",
    "plt.show()"
   ]
  },
  {
   "cell_type": "markdown",
   "metadata": {},
   "source": [
    "## Modelo Completo\n",
    "<figure><img src=\"../../../images/modelo_musculo2.png\\\" width=400 />\n"
   ]
  },
  {
   "cell_type": "markdown",
   "metadata": {},
   "source": [
    "## Dedução\n",
    "   Para $L_T < L_{SL}$ , temos:\n",
    "   \n",
    "   $F_{SEE} = 0 $ (1)\n",
    "   \n",
    "   Para $L_T >= L_{SL}$ , temos:\n",
    "   \n",
    "   $F_{SEE} = K(L - L_{SL})^2$ (2)\n",
    "   \n",
    "   A força $F_{CE}$ é dada por:\n",
    "   \n",
    "   Para $L_{CE} < 0$\n",
    "   \n",
    "   $F_{CE} = \\frac{bF_0 + a\\frac{dL_{CE}}{dt}}{b - \\frac{dL_{CE}}{dt}}$ (3)\n",
    "   \n",
    "   $F_{KPE}$ é dado por:\n",
    "   \n",
    "   Para $L_{CE} < L_{op}$\n",
    "   \n",
    "   $F_{KPE} = 0 $\n",
    "   \n",
    "   Para $L_{CE} > L_{op}$\n",
    "   \n",
    "   $F_{KPE} = K(L - L_{op})^2$ (4)\n",
    "   \n",
    "   Sabemos que:\n",
    "  \n",
    "   $F = F_{SEE} - F_{KPE} = F_{CE} $ (5)\n",
    "   \n",
    "   Dessa forma:\n",
    "   \n",
    "   $a\\frac{dL_{CE}}{dt} + bF_0 = (F - F_{KPE})b - \\frac{dL_{CE}}{dt}(F - F_{KPE}) $ (6)\n",
    "   \n",
    "   $\\frac{dL_{CE}}{dt} (a + F - F_{KPE}) = b(F - F_{KPE} - F_0)$ (7)\n",
    "   \n",
    "   $\\frac{dL_{CE}}{dt} = \\frac{b(F - F_{KPE} - F_0)}{(a + F - F_{KPE})}$ (8)\n",
    "   \n",
    "   $L_{SEE} = L_m - L_{CE}$ (9)"
   ]
  },
  {
   "cell_type": "code",
   "execution_count": 8,
   "metadata": {},
   "outputs": [],
   "source": [
    "## Propriedades\n",
    "\n",
    "L_SL = 0.223\n",
    "Umax = 0.04\n",
    "L_CEOPT = 0.093\n",
    "width = 0.63*L_CEOPT\n",
    "Fmax = 7400\n",
    "a = 0.25*Fmax\n",
    "b = 0.25*10*L_CEOPT\n",
    "\n",
    "## Condições Iniciais\n",
    "L_CE = 0.087\n",
    "dt = 0.001\n",
    "t = np.arange(0,3,dt)\n",
    "F = np.empty_like(t)\n",
    "F_kpe = np.empty_like(t)\n",
    "F_tot= np.empty_like(t)"
   ]
  },
  {
   "cell_type": "code",
   "execution_count": 9,
   "metadata": {},
   "outputs": [],
   "source": [
    "def dLCEdt (a,b,F_0,F,F_kpe):\n",
    "    return -b*(F_0-F+F_kpe)/(F-F_kpe+a)"
   ]
  },
  {
   "cell_type": "code",
   "execution_count": 10,
   "metadata": {},
   "outputs": [],
   "source": [
    "for i in range(1,len(t)):\n",
    "    \n",
    "    if t[i] <= 1:\n",
    "        L_m = 0.31\n",
    "    elif (t[i]>1 and t[i] < 2):\n",
    "        L_m = 0.31 - 0.04 * (t[i] - 1)\n",
    "        \n",
    "    L_SEE = L_m - L_CE\n",
    "    \n",
    "    if L_SEE < L_SL:\n",
    "        F[i] = 0\n",
    "    else:\n",
    "        F[i] = Fmax*((L_SEE - L_SL)/(Umax*L_SL))**2\n",
    "        #K = Fmax/Umax^2\n",
    "        \n",
    "    if L_CE < L_CEOPT:\n",
    "        F_kpe[i] = 0\n",
    "    else:\n",
    "        F_kpe[i] = Fmax*((L_CE - L_CEOPT)/(Umax*L_SL))**2\n",
    "        \n",
    "    F_0 = max(0,Fmax*(1-((L_CE-L_CEOPT)/width)**2))\n",
    "        \n",
    "    L_CE = L_CE + dt*dLCEdt (a,b,F_0,F[i],F_kpe[i])\n",
    "    "
   ]
  },
  {
   "cell_type": "code",
   "execution_count": 11,
   "metadata": {},
   "outputs": [
    {
     "data": {
      "image/png": "[encoded data removed]",
      "text/plain": [
       "<Figure size 432x288 with 1 Axes>"
      ]
     },
     "metadata": {},
     "output_type": "display_data"
    }
   ],
   "source": [
    "plt.plot(t,F)\n",
    "plt.grid()\n",
    "plt.show()"
   ]
  }
 ],
 "metadata": {
  "kernelspec": {
   "display_name": "Python 3",
   "language": "python",
   "name": "python3"
  },
  "language_info": {
   "codemirror_mode": {
    "name": "ipython",
    "version": 3
   },
   "file_extension": ".py",
   "mimetype": "text/x-python",
   "name": "python",
   "nbconvert_exporter": "python",
   "pygments_lexer": "ipython3",
   "version": "3.6.5"
  }
 },
 "nbformat": 4,
 "nbformat_minor": 2
}
