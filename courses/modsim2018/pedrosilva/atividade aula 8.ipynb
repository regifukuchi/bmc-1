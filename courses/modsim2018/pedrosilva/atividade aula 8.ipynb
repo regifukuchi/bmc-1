{
 "cells": [
  {
   "cell_type": "code",
   "execution_count": 1,
   "metadata": {},
   "outputs": [],
   "source": [
    "import numpy as np\n",
    "import matplotlib.pyplot as plt"
   ]
  },
  {
   "cell_type": "markdown",
   "metadata": {},
   "source": [
    "\n",
    "    "
   ]
  },
  {
   "cell_type": "markdown",
   "metadata": {},
   "source": [
    " ## Modelo\n",
    " \n",
    " <figure><img src=\"../../../images/Kelvin.png\\\" width=700 />"
   ]
  },
  {
   "cell_type": "markdown",
   "metadata": {},
   "source": [
    "## Dedução\n",
    "\n",
    "\n",
    "   A força de saída é a soma das forças exercidas na malha superior ($F_1$) e inferior ($F_2$):\n",
    "\n",
    "   $F = F_1 + F_2 $ (1)\n",
    "   \n",
    "   O deslocamento ($L$) da malha superior é a soma dos desolocamentos do amortecedor ($L_b$) e da mola ($L_s$):\n",
    "   \n",
    "   $L = L_b + L_s$ (2)\n",
    "   \n",
    "   Dessa forma, a força na malha superior ($F_1$) é dada pelas seguintes relações: \n",
    "   \n",
    "   $F_1 = k_s (L_s - L_{s0})$ (3)\n",
    "   \n",
    "   $F_1 = b \\frac{dL_b}{dt}$ (4)\n",
    "     \n",
    "   \n",
    "   A derivada da posição na malha superior é dado por:\n",
    "   \n",
    "   $\\frac{dL}{dt} = \\frac{dL_{ks}}{dt} + \\frac{dL_b}{dt}$ (5)\n",
    "   \n",
    "   Da mesma forma, podemos escrever (3) e (4) da seguinte forma:\n",
    "   \n",
    "   $\\frac{dL_{ks}}{dt} = \\frac{1}{k_s} \\frac{dF_1}{dt}$ (6) \n",
    "   \n",
    "   $\\frac{dL_b}{dt} = \\frac{F_1}{b}$ (7) \n",
    "   \n",
    "   Substituindo (6) e (7) em (5):\n",
    "   \n",
    "   $\\frac{dL}{dt} =  \\frac{1}{k_s} \\frac{dF_1}{dt} + \\frac{F_1}{b}$ (8) \n",
    "   \n",
    "   \n",
    "   Isolando $F_1$ em (1) e substituindo (8) temos:\n",
    "   \n",
    "   $\\frac{dL}{dt} =  \\frac{1}{k_s} \\frac{dF}{dt} - \\frac{1}{k} \\frac{dF_2}{dt} + \\frac{F}{b} - \\frac{F_2}{b}$ (9)\n",
    "   \n",
    "   \n",
    "   A força na malha inferior ($F_2$) e sua derivida são dadas por:\n",
    "   \n",
    "   $F_2 = k_p (L - L_{p0})$ (10)\n",
    "   \n",
    "   $\\frac{F_2}{dt} = k_p \\frac{L}{dt}$ (11)\n",
    "   \n",
    "   Substituindo (10) e (11) em (9) temos:\n",
    "   \n",
    "   $\\frac{dL}{dt} = \\frac{1}{k_s} \\frac{dF}{dt} - \\frac{k_p}{k_s} \\frac{dL}{dt} + \\frac{F}{b} - \\frac{k_p (L - L_{p0})}{b}$ (12)\n",
    "   \n",
    "   Isolando as derivadas temos:\n",
    "   \n",
    "   $\\frac{dF}{dt} - (k_s + k_p) \\frac{dL}{dt} = -\\frac{k_s}{b}F + \\frac{k_s K_p}{b} (L - L_{p0})        $ (13)\n",
    "  \n",
    "   \n",
    "   Para criar um espaço de estados, criaremos a variável ($X_1$) que é dada por:\n",
    "   \n",
    "   $X_1 = F - (k_s + k_p) L$ (14)\n",
    "   \n",
    "   Sendo a matriz de estados:\n",
    "   \n",
    "   $\\left[ \\begin{array}{c}\n",
    "   X_1 \\\\\n",
    "   \\frac{dX_1}{dt} \\\\\n",
    "   F \\\\ \\end{array} \\right] \n",
    "   = \n",
    "   \\left[ \\begin{array}{c}\n",
    "   F - (k_s + k_p) L \\\\\n",
    "   -\\frac{k_s}{b}F + \\frac{k_s K_p}{b} (L - L_{p0})  \\\\\n",
    "   X_1 + (k_s + k_p) L \\\\ \\end{array} \\right]$ (15)\n",
    "   \n",
    "   \n",
    "   \n"
   ]
  },
  {
   "cell_type": "markdown",
   "metadata": {},
   "source": [
    "## Constante de tempo\n",
    "\n",
    "   Ao substiuir a equação ($F$) de estados uma na outra, podemos chegar em:\n",
    "   \n",
    "   $\\frac{dX_1}{dt} = -\\frac{k_s}{b}X_1 - \\frac{k_s}{b}(ks+kp)L + \\frac{k_s K_p}{b} (L - L_{p0})$ (16)\n",
    "   \n",
    "   Tudo que não está relacionado com $X_1$ se mantém constante, podendo então substituir por $C$ \n",
    "   \n",
    "   $\\frac{dX_1}{dt} = -\\frac{k_s}{b}X_1 + C$ (17)\n",
    "   \n",
    "   Como é possível notar, (17) é uma EDO separável, dessa forma, X1 é dado por:\n",
    "   \n",
    "   $X_1 = Ke^{-\\frac{k_s}{b}t} $ (18)\n",
    "   \n",
    "   Sendo $\\frac{b}{k_s}$ a constante de tempo $\\tau$.\n",
    "   \n",
    "   Conforme podemos observar no gráfico abaixo, a constante de tempo $\\tau$ na curva verde é $10 s^{-1}$, de forma que $k_s$ deve ser 10 vezes maior que a constante $b$.\n",
    "   \n",
    "   <figure><img src=\"../../../images/Loock2008.png\\\" width=700 />"
   ]
  },
  {
   "cell_type": "markdown",
   "metadata": {},
   "source": [
    "## Resolução"
   ]
  },
  {
   "cell_type": "code",
   "execution_count": 2,
   "metadata": {},
   "outputs": [],
   "source": [
    "Lp0 = 0.01\n",
    "L = 0.007\n",
    "\n",
    "aux = -3.0/(L-Lp0)\n",
    "\n",
    "ks =  0.75*aux #valor final * mínimo\n",
    "b = ks*10 #ks * tau\n",
    "kp = aux - ks\n",
    "\n",
    "x1 = 0 - (ks+kp)*Lp0\n",
    "\n",
    "dt = 0.001\n",
    "t = np.arange(0,350,dt)\n",
    "\n",
    "f = np.empty_like(t)\n",
    "f[0] =0"
   ]
  },
  {
   "cell_type": "code",
   "execution_count": 3,
   "metadata": {},
   "outputs": [],
   "source": [
    "def dx1dt (x1,L,ks,kp,Lp0,i,b):\n",
    "    return -(ks/b)*f[i-1] + ((ks*kp)/b)*(L-Lp0)"
   ]
  },
  {
   "cell_type": "code",
   "execution_count": 4,
   "metadata": {},
   "outputs": [],
   "source": [
    "for i in range(1,len(t)):\n",
    "    x1 = x1 +dt*dx1dt(x1,L,ks,kp,Lp0,i,b)\n",
    "    f[i] = x1+ (ks+kp)*L\n",
    "        "
   ]
  },
  {
   "cell_type": "code",
   "execution_count": 5,
   "metadata": {},
   "outputs": [
    {
     "data": {
      "image/png": "[encoded data removed]",
      "text/plain": [
       "<Figure size 432x288 with 1 Axes>"
      ]
     },
     "metadata": {},
     "output_type": "display_data"
    }
   ],
   "source": [
    "plt.plot(t,f)\n",
    "plt.grid()\n",
    "plt.show()"
   ]
  },
  {
   "cell_type": "code",
   "execution_count": null,
   "metadata": {},
   "outputs": [],
   "source": []
  }
 ],
 "metadata": {
  "kernelspec": {
   "display_name": "Python 3",
   "language": "python",
   "name": "python3"
  },
  "language_info": {
   "codemirror_mode": {
    "name": "ipython",
    "version": 3
   },
   "file_extension": ".py",
   "mimetype": "text/x-python",
   "name": "python",
   "nbconvert_exporter": "python",
   "pygments_lexer": "ipython3",
   "version": "3.6.5"
  }
 },
 "nbformat": 4,
 "nbformat_minor": 2
}
