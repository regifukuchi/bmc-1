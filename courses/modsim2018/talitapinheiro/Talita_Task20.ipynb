{
 "cells": [
  {
   "cell_type": "code",
   "execution_count": 1,
   "metadata": {
    "collapsed": true
   },
   "outputs": [],
   "source": [
    "import numpy as np\n",
    "%matplotlib inline\n",
    "import matplotlib\n",
    "import matplotlib.pyplot as plt\n",
    "import sympy as sym\n",
    "from sympy.plotting import plot\n",
    "import pandas as pd\n",
    "from IPython.display import display\n",
    "from IPython.core.display import Math\n",
    "from scipy.optimize import minimize"
   ]
  },
  {
   "cell_type": "markdown",
   "metadata": {},
   "source": [
    "QUESTÃO 3"
   ]
  },
  {
   "cell_type": "code",
   "execution_count": 2,
   "metadata": {
    "collapsed": true
   },
   "outputs": [],
   "source": [
    "def cf_f1(x):\n",
    "    \"\"\"Cost function: sum of forces.\"\"\"  \n",
    "    return x[0] + x[1] + x[2]\n",
    "\n",
    "def cf_f2(x):\n",
    "    \"\"\"Cost function: sum of forces squared.\"\"\"\n",
    "    return x[0]**2 + x[1]**2 + x[2]**2\n",
    "\n",
    "def cf_fpcsa2(x, a):\n",
    "    \"\"\"Cost function: sum of squared muscle stresses.\"\"\"\n",
    "    return (x[0]/a[0])**2 + (x[1]/a[1])**2 + (x[2]/a[2])**2\n",
    "\n",
    "def cf_fmmax3(x, m):\n",
    "    \"\"\"Cost function: sum of cubic forces normalized by moments.\"\"\"\n",
    "    return (x[0]/m[0])**3 + (x[1]/m[1])**3 + (x[2]/m[2])**3\n",
    "def cf_f1d(x):\n",
    "    \"\"\"Derivative of cost function: sum of forces.\"\"\"\n",
    "    dfdx0 = 1\n",
    "    dfdx1 = 1\n",
    "    dfdx2 = 1\n",
    "    return np.array([dfdx0, dfdx1, dfdx2])\n",
    "\n",
    "def cf_f2d(x):\n",
    "    \"\"\"Derivative of cost function: sum of forces squared.\"\"\"\n",
    "    dfdx0 = 2*x[0]\n",
    "    dfdx1 = 2*x[1]\n",
    "    dfdx2 = 2*x[2]\n",
    "    return np.array([dfdx0, dfdx1, dfdx2])\n",
    "\n",
    "def cf_fpcsa2d(x, a):\n",
    "    \"\"\"Derivative of cost function: sum of squared muscle stresses.\"\"\"\n",
    "    dfdx0 = 2*x[0]/a[0]**2\n",
    "    dfdx1 = 2*x[1]/a[1]**2\n",
    "    dfdx2 = 2*x[2]/a[2]**2\n",
    "    return np.array([dfdx0, dfdx1, dfdx2])\n",
    "\n",
    "def cf_fmmax3d(x, m):\n",
    "    \"\"\"Derivative of cost function: sum of cubic forces normalized by moments.\"\"\"\n",
    "    dfdx0 = 3*x[0]**2/m[0]**3\n",
    "    dfdx1 = 3*x[1]**2/m[1]**3\n",
    "    dfdx2 = 3*x[2]**2/m[2]**3\n",
    "    return np.array([dfdx0, dfdx1, dfdx2])"
   ]
  },
  {
   "cell_type": "code",
   "execution_count": 3,
   "metadata": {
    "collapsed": false
   },
   "outputs": [
    {
     "ename": "FileNotFoundError",
     "evalue": "[Errno 2] No such file or directory: './../../../data/r_elbowflexors.mot'",
     "output_type": "error",
     "traceback": [
      "\u001b[1;31m---------------------------------------------------------------------------\u001b[0m",
      "\u001b[1;31mFileNotFoundError\u001b[0m                         Traceback (most recent call last)",
      "\u001b[1;32m<ipython-input-3-3f0477e8cdeb>\u001b[0m in \u001b[0;36m<module>\u001b[1;34m()\u001b[0m\n\u001b[0;32m      1\u001b[0m \u001b[1;31m# time elbow_flexion BIClong BICshort BRA\u001b[0m\u001b[1;33m\u001b[0m\u001b[1;33m\u001b[0m\u001b[0m\n\u001b[1;32m----> 2\u001b[1;33m \u001b[0mr_ef\u001b[0m \u001b[1;33m=\u001b[0m \u001b[0mnp\u001b[0m\u001b[1;33m.\u001b[0m\u001b[0mloadtxt\u001b[0m\u001b[1;33m(\u001b[0m\u001b[1;34m'./../../../data/r_elbowflexors.mot'\u001b[0m\u001b[1;33m,\u001b[0m \u001b[0mskiprows\u001b[0m\u001b[1;33m=\u001b[0m\u001b[1;36m7\u001b[0m\u001b[1;33m)\u001b[0m\u001b[1;33m\u001b[0m\u001b[0m\n\u001b[0m\u001b[0;32m      3\u001b[0m \u001b[0mf_ef\u001b[0m \u001b[1;33m=\u001b[0m \u001b[0mnp\u001b[0m\u001b[1;33m.\u001b[0m\u001b[0mloadtxt\u001b[0m\u001b[1;33m(\u001b[0m\u001b[1;34m'./../../../data/f_elbowflexors.mot'\u001b[0m\u001b[1;33m,\u001b[0m \u001b[0mskiprows\u001b[0m\u001b[1;33m=\u001b[0m\u001b[1;36m7\u001b[0m\u001b[1;33m)\u001b[0m\u001b[1;33m\u001b[0m\u001b[0m\n\u001b[0;32m      4\u001b[0m \u001b[1;33m\u001b[0m\u001b[0m\n\u001b[0;32m      5\u001b[0m \u001b[0mm_ef\u001b[0m \u001b[1;33m=\u001b[0m \u001b[0mr_ef\u001b[0m\u001b[1;33m*\u001b[0m\u001b[1;36m1\u001b[0m\u001b[1;33m\u001b[0m\u001b[0m\n",
      "\u001b[1;32mC:\\Anaconda3\\lib\\site-packages\\numpy\\lib\\npyio.py\u001b[0m in \u001b[0;36mloadtxt\u001b[1;34m(fname, dtype, comments, delimiter, converters, skiprows, usecols, unpack, ndmin)\u001b[0m\n\u001b[0;32m    801\u001b[0m                 \u001b[0mfh\u001b[0m \u001b[1;33m=\u001b[0m \u001b[0miter\u001b[0m\u001b[1;33m(\u001b[0m\u001b[0mopen\u001b[0m\u001b[1;33m(\u001b[0m\u001b[0mfname\u001b[0m\u001b[1;33m,\u001b[0m \u001b[1;34m'U'\u001b[0m\u001b[1;33m)\u001b[0m\u001b[1;33m)\u001b[0m\u001b[1;33m\u001b[0m\u001b[0m\n\u001b[0;32m    802\u001b[0m             \u001b[1;32melse\u001b[0m\u001b[1;33m:\u001b[0m\u001b[1;33m\u001b[0m\u001b[0m\n\u001b[1;32m--> 803\u001b[1;33m                 \u001b[0mfh\u001b[0m \u001b[1;33m=\u001b[0m \u001b[0miter\u001b[0m\u001b[1;33m(\u001b[0m\u001b[0mopen\u001b[0m\u001b[1;33m(\u001b[0m\u001b[0mfname\u001b[0m\u001b[1;33m)\u001b[0m\u001b[1;33m)\u001b[0m\u001b[1;33m\u001b[0m\u001b[0m\n\u001b[0m\u001b[0;32m    804\u001b[0m         \u001b[1;32melse\u001b[0m\u001b[1;33m:\u001b[0m\u001b[1;33m\u001b[0m\u001b[0m\n\u001b[0;32m    805\u001b[0m             \u001b[0mfh\u001b[0m \u001b[1;33m=\u001b[0m \u001b[0miter\u001b[0m\u001b[1;33m(\u001b[0m\u001b[0mfname\u001b[0m\u001b[1;33m)\u001b[0m\u001b[1;33m\u001b[0m\u001b[0m\n",
      "\u001b[1;31mFileNotFoundError\u001b[0m: [Errno 2] No such file or directory: './../../../data/r_elbowflexors.mot'"
     ]
    }
   ],
   "source": [
    "# time elbow_flexion BIClong BICshort BRA\n",
    "r_ef = np.loadtxt('./../../../data/r_elbowflexors.mot', skiprows=7)\n",
    "f_ef = np.loadtxt('./../../../data/f_elbowflexors.mot', skiprows=7)\n",
    "\n",
    "m_ef = r_ef*1\n",
    "m_ef[:, 2:] = r_ef[:, 2:]*f_ef[:, 2:]\n",
    "\n",
    "a_ef = np.array([624.3, 435.56, 987.26])/50  # 50 N/cm2"
   ]
  },
  {
   "cell_type": "markdown",
   "metadata": {},
   "source": [
    "3.1"
   ]
  },
  {
   "cell_type": "code",
   "execution_count": 6,
   "metadata": {
    "collapsed": false
   },
   "outputs": [
    {
     "ename": "NameError",
     "evalue": "name 'r_ef' is not defined",
     "output_type": "error",
     "traceback": [
      "\u001b[1;31m---------------------------------------------------------------------------\u001b[0m",
      "\u001b[1;31mNameError\u001b[0m                                 Traceback (most recent call last)",
      "\u001b[1;32m<ipython-input-6-393f7a8b8410>\u001b[0m in \u001b[0;36m<module>\u001b[1;34m()\u001b[0m\n\u001b[0;32m      3\u001b[0m \u001b[1;33m\u001b[0m\u001b[0m\n\u001b[0;32m      4\u001b[0m \u001b[1;33m\u001b[0m\u001b[0m\n\u001b[1;32m----> 5\u001b[1;33m \u001b[0mr\u001b[0m  \u001b[1;33m=\u001b[0m \u001b[0mr_ef\u001b[0m\u001b[1;33m[\u001b[0m\u001b[0miang\u001b[0m\u001b[1;33m,\u001b[0m \u001b[1;36m2\u001b[0m\u001b[1;33m:\u001b[0m\u001b[1;33m]\u001b[0m\u001b[1;33m\u001b[0m\u001b[0m\n\u001b[0m\u001b[0;32m      6\u001b[0m \u001b[0mf0\u001b[0m \u001b[1;33m=\u001b[0m \u001b[0mf_ef\u001b[0m\u001b[1;33m[\u001b[0m\u001b[0miang\u001b[0m\u001b[1;33m,\u001b[0m \u001b[1;36m2\u001b[0m\u001b[1;33m:\u001b[0m\u001b[1;33m]\u001b[0m\u001b[1;33m\u001b[0m\u001b[0m\n\u001b[0;32m      7\u001b[0m \u001b[0ma\u001b[0m  \u001b[1;33m=\u001b[0m \u001b[0ma_ef\u001b[0m\u001b[1;33m\u001b[0m\u001b[0m\n",
      "\u001b[1;31mNameError\u001b[0m: name 'r_ef' is not defined"
     ]
    }
   ],
   "source": [
    "M = 33  # desired torque at the elbow\n",
    "iang = 92  # which will give the closest value to 90 degrees\n",
    "\n",
    "\n",
    "r  = r_ef[iang, 2:]\n",
    "f0 = f_ef[iang, 2:]\n",
    "a  = a_ef\n",
    "m  = m_ef[iang, 2:]\n",
    "x0 = f_ef[iang, 2:]/235  # far from the correct answer for the sum of torques\n",
    "print('M =', M)\n",
    "print('x0 =', x0)\n",
    "print('r * x0 =', np.sum(r*x0))\n",
    "\n",
    "bnds = ((0, f0[0]), (0, f0[1]), (0, f0[2]))"
   ]
  },
  {
   "cell_type": "code",
   "execution_count": 7,
   "metadata": {
    "collapsed": false
   },
   "outputs": [
    {
     "ename": "NameError",
     "evalue": "name 'r' is not defined",
     "output_type": "error",
     "traceback": [
      "\u001b[1;31m---------------------------------------------------------------------------\u001b[0m",
      "\u001b[1;31mNameError\u001b[0m                                 Traceback (most recent call last)",
      "\u001b[1;32m<ipython-input-7-f9c71eac068f>\u001b[0m in \u001b[0;36m<module>\u001b[1;34m()\u001b[0m\n\u001b[0;32m      2\u001b[0m cons = ({'type': 'eq',\n\u001b[0;32m      3\u001b[0m          \u001b[1;34m'fun'\u001b[0m \u001b[1;33m:\u001b[0m \u001b[1;32mlambda\u001b[0m \u001b[0mx\u001b[0m\u001b[1;33m,\u001b[0m \u001b[0mr\u001b[0m\u001b[1;33m,\u001b[0m \u001b[0mf0\u001b[0m\u001b[1;33m,\u001b[0m \u001b[0mM\u001b[0m\u001b[1;33m:\u001b[0m \u001b[0mnp\u001b[0m\u001b[1;33m.\u001b[0m\u001b[0marray\u001b[0m\u001b[1;33m(\u001b[0m\u001b[1;33m[\u001b[0m\u001b[0mr\u001b[0m\u001b[1;33m[\u001b[0m\u001b[1;36m0\u001b[0m\u001b[1;33m]\u001b[0m\u001b[1;33m*\u001b[0m\u001b[0mx\u001b[0m\u001b[1;33m[\u001b[0m\u001b[1;36m0\u001b[0m\u001b[1;33m]\u001b[0m \u001b[1;33m+\u001b[0m \u001b[0mr\u001b[0m\u001b[1;33m[\u001b[0m\u001b[1;36m1\u001b[0m\u001b[1;33m]\u001b[0m\u001b[1;33m*\u001b[0m\u001b[0mx\u001b[0m\u001b[1;33m[\u001b[0m\u001b[1;36m1\u001b[0m\u001b[1;33m]\u001b[0m \u001b[1;33m+\u001b[0m \u001b[0mr\u001b[0m\u001b[1;33m[\u001b[0m\u001b[1;36m2\u001b[0m\u001b[1;33m]\u001b[0m\u001b[1;33m*\u001b[0m\u001b[0mx\u001b[0m\u001b[1;33m[\u001b[0m\u001b[1;36m2\u001b[0m\u001b[1;33m]\u001b[0m \u001b[1;33m-\u001b[0m \u001b[0mM\u001b[0m\u001b[1;33m]\u001b[0m\u001b[1;33m)\u001b[0m\u001b[1;33m,\u001b[0m\u001b[1;33m\u001b[0m\u001b[0m\n\u001b[1;32m----> 4\u001b[1;33m          'jac' : lambda x, r, f0, M: np.array([r[0], r[1], r[2]]), 'args': (r, f0, M)})\n\u001b[0m\u001b[0;32m      5\u001b[0m \u001b[1;31m# to enter everything as constraints:\u001b[0m\u001b[1;33m\u001b[0m\u001b[1;33m\u001b[0m\u001b[0m\n\u001b[0;32m      6\u001b[0m cons = ({'type': 'eq',\n",
      "\u001b[1;31mNameError\u001b[0m: name 'r' is not defined"
     ]
    }
   ],
   "source": [
    "# use this in combination with the parameter bounds:\n",
    "cons = ({'type': 'eq',\n",
    "         'fun' : lambda x, r, f0, M: np.array([r[0]*x[0] + r[1]*x[1] + r[2]*x[2] - M]), \n",
    "         'jac' : lambda x, r, f0, M: np.array([r[0], r[1], r[2]]), 'args': (r, f0, M)})\n",
    "# to enter everything as constraints:\n",
    "cons = ({'type': 'eq',\n",
    "         'fun' : lambda x, r, f0, M: np.array([r[0]*x[0] + r[1]*x[1] + r[2]*x[2] - M]), \n",
    "         'jac' : lambda x, r, f0, M: np.array([r[0], r[1], r[2]]), 'args': (r, f0, M)},\n",
    "        {'type': 'ineq', 'fun' : lambda x, r, f0, M: f0[0]-x[0],\n",
    "         'jac' : lambda x, r, f0, M: np.array([-1, 0, 0]), 'args': (r, f0, M)},\n",
    "        {'type': 'ineq', 'fun' : lambda x, r, f0, M: f0[1]-x[1],\n",
    "         'jac' : lambda x, r, f0, M: np.array([0, -1, 0]), 'args': (r, f0, M)},\n",
    "        {'type': 'ineq', 'fun' : lambda x, r, f0, M: f0[2]-x[2],\n",
    "         'jac' : lambda x, r, f0, M: np.array([0, 0, -1]), 'args': (r, f0, M)},\n",
    "        {'type': 'ineq', 'fun' : lambda x, r, f0, M: x[0],\n",
    "         'jac' : lambda x, r, f0, M: np.array([1, 0, 0]), 'args': (r, f0, M)},\n",
    "        {'type': 'ineq', 'fun' : lambda x, r, f0, M: x[1],\n",
    "         'jac' : lambda x, r, f0, M: np.array([0, 1, 0]), 'args': (r, f0, M)},\n",
    "        {'type': 'ineq', 'fun' : lambda x, r, f0, M: x[2],\n",
    "         'jac' : lambda x, r, f0, M: np.array([0, 0, 1]), 'args': (r, f0, M)})"
   ]
  },
  {
   "cell_type": "code",
   "execution_count": 8,
   "metadata": {
    "collapsed": false
   },
   "outputs": [
    {
     "ename": "NameError",
     "evalue": "name 'x0' is not defined",
     "output_type": "error",
     "traceback": [
      "\u001b[1;31m---------------------------------------------------------------------------\u001b[0m",
      "\u001b[1;31mNameError\u001b[0m                                 Traceback (most recent call last)",
      "\u001b[1;32m<ipython-input-8-1a74cea26bbb>\u001b[0m in \u001b[0;36m<module>\u001b[1;34m()\u001b[0m\n\u001b[1;32m----> 1\u001b[1;33m f1r = minimize(fun=cf_f1, x0=x0, args=(), jac=cf_f1d,\n\u001b[0m\u001b[0;32m      2\u001b[0m                \u001b[0mconstraints\u001b[0m\u001b[1;33m=\u001b[0m\u001b[0mcons\u001b[0m\u001b[1;33m,\u001b[0m \u001b[0mmethod\u001b[0m\u001b[1;33m=\u001b[0m\u001b[1;34m'SLSQP'\u001b[0m\u001b[1;33m,\u001b[0m\u001b[1;33m\u001b[0m\u001b[0m\n\u001b[0;32m      3\u001b[0m                options={'disp': True})\n\u001b[0;32m      4\u001b[0m f2r = minimize(fun=cf_f2, x0=x0, args=(), jac=cf_f2d,\n\u001b[0;32m      5\u001b[0m                \u001b[0mconstraints\u001b[0m\u001b[1;33m=\u001b[0m\u001b[0mcons\u001b[0m\u001b[1;33m,\u001b[0m \u001b[0mmethod\u001b[0m\u001b[1;33m=\u001b[0m\u001b[1;34m'SLSQP'\u001b[0m\u001b[1;33m,\u001b[0m\u001b[1;33m\u001b[0m\u001b[0m\n",
      "\u001b[1;31mNameError\u001b[0m: name 'x0' is not defined"
     ]
    }
   ],
   "source": [
    "f1r = minimize(fun=cf_f1, x0=x0, args=(), jac=cf_f1d,\n",
    "               constraints=cons, method='SLSQP',\n",
    "               options={'disp': True})\n",
    "f2r = minimize(fun=cf_f2, x0=x0, args=(), jac=cf_f2d,\n",
    "               constraints=cons, method='SLSQP',\n",
    "               options={'disp': True})\n",
    "fpcsa2r = minimize(fun=cf_fpcsa2, x0=x0, args=(a,), jac=cf_fpcsa2d,\n",
    "                   constraints=cons, method='SLSQP',\n",
    "                   options={'disp': True})\n",
    "fmmax3r = minimize(fun=cf_fmmax3, x0=x0, args=(m,), jac=cf_fmmax3d,\n",
    "                   constraints=cons, method='SLSQP',\n",
    "                   options={'disp': True})"
   ]
  },
  {
   "cell_type": "markdown",
   "metadata": {},
   "source": [
    "3.2"
   ]
  },
  {
   "cell_type": "code",
   "execution_count": 9,
   "metadata": {
    "collapsed": false
   },
   "outputs": [
    {
     "ename": "NameError",
     "evalue": "name 'r_ef' is not defined",
     "output_type": "error",
     "traceback": [
      "\u001b[1;31m---------------------------------------------------------------------------\u001b[0m",
      "\u001b[1;31mNameError\u001b[0m                                 Traceback (most recent call last)",
      "\u001b[1;32m<ipython-input-9-fc1bca79486a>\u001b[0m in \u001b[0;36m<module>\u001b[1;34m()\u001b[0m\n\u001b[0;32m      3\u001b[0m \u001b[1;33m\u001b[0m\u001b[0m\n\u001b[0;32m      4\u001b[0m \u001b[1;33m\u001b[0m\u001b[0m\n\u001b[1;32m----> 5\u001b[1;33m \u001b[0mr\u001b[0m  \u001b[1;33m=\u001b[0m \u001b[0mr_ef\u001b[0m\u001b[1;33m[\u001b[0m\u001b[0miang\u001b[0m\u001b[1;33m,\u001b[0m \u001b[1;36m2\u001b[0m\u001b[1;33m:\u001b[0m\u001b[1;33m]\u001b[0m\u001b[1;33m\u001b[0m\u001b[0m\n\u001b[0m\u001b[0;32m      6\u001b[0m \u001b[0mf0\u001b[0m \u001b[1;33m=\u001b[0m \u001b[0mf_ef\u001b[0m\u001b[1;33m[\u001b[0m\u001b[0miang\u001b[0m\u001b[1;33m,\u001b[0m \u001b[1;36m2\u001b[0m\u001b[1;33m:\u001b[0m\u001b[1;33m]\u001b[0m\u001b[1;33m\u001b[0m\u001b[0m\n\u001b[0;32m      7\u001b[0m \u001b[0ma\u001b[0m  \u001b[1;33m=\u001b[0m \u001b[0ma_ef\u001b[0m\u001b[1;33m\u001b[0m\u001b[0m\n",
      "\u001b[1;31mNameError\u001b[0m: name 'r_ef' is not defined"
     ]
    }
   ],
   "source": [
    "M = 17  # desired torque at the elbow\n",
    "iang = 79.3  # which will give the closest value to 90 degrees\n",
    "\n",
    "\n",
    "r  = r_ef[iang, 2:]\n",
    "f0 = f_ef[iang, 2:]\n",
    "a  = a_ef\n",
    "m  = m_ef[iang, 2:]\n",
    "x0 = f_ef[iang, 2:]/235  # far from the correct answer for the sum of torques\n",
    "print('M =', M)\n",
    "print('x0 =', x0)\n",
    "print('r * x0 =', np.sum(r*x0))\n",
    "\n",
    "bnds = ((0, f0[0]), (0, f0[1]), (0, f0[2]))"
   ]
  },
  {
   "cell_type": "code",
   "execution_count": 10,
   "metadata": {
    "collapsed": false
   },
   "outputs": [
    {
     "ename": "NameError",
     "evalue": "name 'r' is not defined",
     "output_type": "error",
     "traceback": [
      "\u001b[1;31m---------------------------------------------------------------------------\u001b[0m",
      "\u001b[1;31mNameError\u001b[0m                                 Traceback (most recent call last)",
      "\u001b[1;32m<ipython-input-10-f9c71eac068f>\u001b[0m in \u001b[0;36m<module>\u001b[1;34m()\u001b[0m\n\u001b[0;32m      2\u001b[0m cons = ({'type': 'eq',\n\u001b[0;32m      3\u001b[0m          \u001b[1;34m'fun'\u001b[0m \u001b[1;33m:\u001b[0m \u001b[1;32mlambda\u001b[0m \u001b[0mx\u001b[0m\u001b[1;33m,\u001b[0m \u001b[0mr\u001b[0m\u001b[1;33m,\u001b[0m \u001b[0mf0\u001b[0m\u001b[1;33m,\u001b[0m \u001b[0mM\u001b[0m\u001b[1;33m:\u001b[0m \u001b[0mnp\u001b[0m\u001b[1;33m.\u001b[0m\u001b[0marray\u001b[0m\u001b[1;33m(\u001b[0m\u001b[1;33m[\u001b[0m\u001b[0mr\u001b[0m\u001b[1;33m[\u001b[0m\u001b[1;36m0\u001b[0m\u001b[1;33m]\u001b[0m\u001b[1;33m*\u001b[0m\u001b[0mx\u001b[0m\u001b[1;33m[\u001b[0m\u001b[1;36m0\u001b[0m\u001b[1;33m]\u001b[0m \u001b[1;33m+\u001b[0m \u001b[0mr\u001b[0m\u001b[1;33m[\u001b[0m\u001b[1;36m1\u001b[0m\u001b[1;33m]\u001b[0m\u001b[1;33m*\u001b[0m\u001b[0mx\u001b[0m\u001b[1;33m[\u001b[0m\u001b[1;36m1\u001b[0m\u001b[1;33m]\u001b[0m \u001b[1;33m+\u001b[0m \u001b[0mr\u001b[0m\u001b[1;33m[\u001b[0m\u001b[1;36m2\u001b[0m\u001b[1;33m]\u001b[0m\u001b[1;33m*\u001b[0m\u001b[0mx\u001b[0m\u001b[1;33m[\u001b[0m\u001b[1;36m2\u001b[0m\u001b[1;33m]\u001b[0m \u001b[1;33m-\u001b[0m \u001b[0mM\u001b[0m\u001b[1;33m]\u001b[0m\u001b[1;33m)\u001b[0m\u001b[1;33m,\u001b[0m\u001b[1;33m\u001b[0m\u001b[0m\n\u001b[1;32m----> 4\u001b[1;33m          'jac' : lambda x, r, f0, M: np.array([r[0], r[1], r[2]]), 'args': (r, f0, M)})\n\u001b[0m\u001b[0;32m      5\u001b[0m \u001b[1;31m# to enter everything as constraints:\u001b[0m\u001b[1;33m\u001b[0m\u001b[1;33m\u001b[0m\u001b[0m\n\u001b[0;32m      6\u001b[0m cons = ({'type': 'eq',\n",
      "\u001b[1;31mNameError\u001b[0m: name 'r' is not defined"
     ]
    }
   ],
   "source": [
    "# use this in combination with the parameter bounds:\n",
    "cons = ({'type': 'eq',\n",
    "         'fun' : lambda x, r, f0, M: np.array([r[0]*x[0] + r[1]*x[1] + r[2]*x[2] - M]), \n",
    "         'jac' : lambda x, r, f0, M: np.array([r[0], r[1], r[2]]), 'args': (r, f0, M)})\n",
    "# to enter everything as constraints:\n",
    "cons = ({'type': 'eq',\n",
    "         'fun' : lambda x, r, f0, M: np.array([r[0]*x[0] + r[1]*x[1] + r[2]*x[2] - M]), \n",
    "         'jac' : lambda x, r, f0, M: np.array([r[0], r[1], r[2]]), 'args': (r, f0, M)},\n",
    "        {'type': 'ineq', 'fun' : lambda x, r, f0, M: f0[0]-x[0],\n",
    "         'jac' : lambda x, r, f0, M: np.array([-1, 0, 0]), 'args': (r, f0, M)},\n",
    "        {'type': 'ineq', 'fun' : lambda x, r, f0, M: f0[1]-x[1],\n",
    "         'jac' : lambda x, r, f0, M: np.array([0, -1, 0]), 'args': (r, f0, M)},\n",
    "        {'type': 'ineq', 'fun' : lambda x, r, f0, M: f0[2]-x[2],\n",
    "         'jac' : lambda x, r, f0, M: np.array([0, 0, -1]), 'args': (r, f0, M)},\n",
    "        {'type': 'ineq', 'fun' : lambda x, r, f0, M: x[0],\n",
    "         'jac' : lambda x, r, f0, M: np.array([1, 0, 0]), 'args': (r, f0, M)},\n",
    "        {'type': 'ineq', 'fun' : lambda x, r, f0, M: x[1],\n",
    "         'jac' : lambda x, r, f0, M: np.array([0, 1, 0]), 'args': (r, f0, M)},\n",
    "        {'type': 'ineq', 'fun' : lambda x, r, f0, M: x[2],\n",
    "         'jac' : lambda x, r, f0, M: np.array([0, 0, 1]), 'args': (r, f0, M)})"
   ]
  },
  {
   "cell_type": "code",
   "execution_count": 11,
   "metadata": {
    "collapsed": false
   },
   "outputs": [
    {
     "ename": "NameError",
     "evalue": "name 'x0' is not defined",
     "output_type": "error",
     "traceback": [
      "\u001b[1;31m---------------------------------------------------------------------------\u001b[0m",
      "\u001b[1;31mNameError\u001b[0m                                 Traceback (most recent call last)",
      "\u001b[1;32m<ipython-input-11-1a74cea26bbb>\u001b[0m in \u001b[0;36m<module>\u001b[1;34m()\u001b[0m\n\u001b[1;32m----> 1\u001b[1;33m f1r = minimize(fun=cf_f1, x0=x0, args=(), jac=cf_f1d,\n\u001b[0m\u001b[0;32m      2\u001b[0m                \u001b[0mconstraints\u001b[0m\u001b[1;33m=\u001b[0m\u001b[0mcons\u001b[0m\u001b[1;33m,\u001b[0m \u001b[0mmethod\u001b[0m\u001b[1;33m=\u001b[0m\u001b[1;34m'SLSQP'\u001b[0m\u001b[1;33m,\u001b[0m\u001b[1;33m\u001b[0m\u001b[0m\n\u001b[0;32m      3\u001b[0m                options={'disp': True})\n\u001b[0;32m      4\u001b[0m f2r = minimize(fun=cf_f2, x0=x0, args=(), jac=cf_f2d,\n\u001b[0;32m      5\u001b[0m                \u001b[0mconstraints\u001b[0m\u001b[1;33m=\u001b[0m\u001b[0mcons\u001b[0m\u001b[1;33m,\u001b[0m \u001b[0mmethod\u001b[0m\u001b[1;33m=\u001b[0m\u001b[1;34m'SLSQP'\u001b[0m\u001b[1;33m,\u001b[0m\u001b[1;33m\u001b[0m\u001b[0m\n",
      "\u001b[1;31mNameError\u001b[0m: name 'x0' is not defined"
     ]
    }
   ],
   "source": [
    "f1r = minimize(fun=cf_f1, x0=x0, args=(), jac=cf_f1d,\n",
    "               constraints=cons, method='SLSQP',\n",
    "               options={'disp': True})\n",
    "f2r = minimize(fun=cf_f2, x0=x0, args=(), jac=cf_f2d,\n",
    "               constraints=cons, method='SLSQP',\n",
    "               options={'disp': True})\n",
    "fpcsa2r = minimize(fun=cf_fpcsa2, x0=x0, args=(a,), jac=cf_fpcsa2d,\n",
    "                   constraints=cons, method='SLSQP',\n",
    "                   options={'disp': True})\n",
    "fmmax3r = minimize(fun=cf_fmmax3, x0=x0, args=(m,), jac=cf_fmmax3d,\n",
    "                   constraints=cons, method='SLSQP',\n",
    "                   options={'disp': True})"
   ]
  },
  {
   "cell_type": "markdown",
   "metadata": {},
   "source": [
    "QUESTÃO 4"
   ]
  },
  {
   "cell_type": "markdown",
   "metadata": {},
   "source": [
    "4.1"
   ]
  },
  {
   "cell_type": "code",
   "execution_count": 12,
   "metadata": {
    "collapsed": false
   },
   "outputs": [
    {
     "name": "stdout",
     "output_type": "stream",
     "text": [
      "M = 10\n",
      "x0 = [10000  2500  7000]\n",
      "r * x0 = 60500\n"
     ]
    }
   ],
   "source": [
    "M = 10  # desired torque at the elbow\n",
    "\n",
    "f0 = np.array([1000, 250, 700])\n",
    "r  = np.array([2, 5, 4])\n",
    "a  = np.array([33, 8, 23])\n",
    "\n",
    "m = r*f0\n",
    "x0 = f0*10  # far from the correct answer for the sum of torques\n",
    "print('M =', M)\n",
    "print('x0 =', x0)\n",
    "print('r * x0 =', np.sum(r*x0))\n",
    "\n",
    "bnds = ((0, f0[0]), (0, f0[1]), (0, f0[2]))"
   ]
  },
  {
   "cell_type": "code",
   "execution_count": 13,
   "metadata": {
    "collapsed": true
   },
   "outputs": [],
   "source": [
    "# use this in combination with the parameter bounds:\n",
    "cons = ({'type': 'eq',\n",
    "         'fun' : lambda x, r, f0, M: np.array([r[0]*x[0] + r[1]*x[1] + r[2]*x[2] - M]), \n",
    "         'jac' : lambda x, r, f0, M: np.array([r[0], r[1], r[2]]), 'args': (r, f0, M)})\n",
    "# to enter everything as constraints:\n",
    "cons = ({'type': 'eq',\n",
    "         'fun' : lambda x, r, f0, M: np.array([r[0]*x[0] + r[1]*x[1] + r[2]*x[2] - M]), \n",
    "         'jac' : lambda x, r, f0, M: np.array([r[0], r[1], r[2]]), 'args': (r, f0, M)},\n",
    "        {'type': 'ineq', 'fun' : lambda x, r, f0, M: f0[0]-x[0],\n",
    "         'jac' : lambda x, r, f0, M: np.array([-1, 0, 0]), 'args': (r, f0, M)},\n",
    "        {'type': 'ineq', 'fun' : lambda x, r, f0, M: f0[1]-x[1],\n",
    "         'jac' : lambda x, r, f0, M: np.array([0, -1, 0]), 'args': (r, f0, M)},\n",
    "        {'type': 'ineq', 'fun' : lambda x, r, f0, M: f0[2]-x[2],\n",
    "         'jac' : lambda x, r, f0, M: np.array([0, 0, -1]), 'args': (r, f0, M)},\n",
    "        {'type': 'ineq', 'fun' : lambda x, r, f0, M: x[0],\n",
    "         'jac' : lambda x, r, f0, M: np.array([1, 0, 0]), 'args': (r, f0, M)},\n",
    "        {'type': 'ineq', 'fun' : lambda x, r, f0, M: x[1],\n",
    "         'jac' : lambda x, r, f0, M: np.array([0, 1, 0]), 'args': (r, f0, M)},\n",
    "        {'type': 'ineq', 'fun' : lambda x, r, f0, M: x[2],\n",
    "         'jac' : lambda x, r, f0, M: np.array([0, 0, 1]), 'args': (r, f0, M)})"
   ]
  },
  {
   "cell_type": "code",
   "execution_count": 14,
   "metadata": {
    "collapsed": false
   },
   "outputs": [
    {
     "name": "stdout",
     "output_type": "stream",
     "text": [
      "Optimization terminated successfully.    (Exit mode 0)\n",
      "            Current function value: 2.0\n",
      "            Iterations: 5\n",
      "            Function evaluations: 5\n",
      "            Gradient evaluations: 5\n",
      "Optimization terminated successfully.    (Exit mode 0)\n",
      "            Current function value: 2.22222222279\n",
      "            Iterations: 6\n",
      "            Function evaluations: 7\n",
      "            Gradient evaluations: 6\n",
      "Optimization terminated successfully.    (Exit mode 0)\n",
      "            Current function value: 0.00693490166681\n",
      "            Iterations: 14\n",
      "            Function evaluations: 14\n",
      "            Gradient evaluations: 14\n",
      "Optimization terminated successfully.    (Exit mode 0)\n",
      "            Current function value: 1.56234818338e-08\n",
      "            Iterations: 2\n",
      "            Function evaluations: 3\n",
      "            Gradient evaluations: 2\n"
     ]
    }
   ],
   "source": [
    "f1r = minimize(fun=cf_f1, x0=x0, args=(), jac=cf_f1d,\n",
    "               constraints=cons, method='SLSQP',\n",
    "               options={'disp': True})\n",
    "f2r = minimize(fun=cf_f2, x0=x0, args=(), jac=cf_f2d,\n",
    "               constraints=cons, method='SLSQP',\n",
    "               options={'disp': True})\n",
    "fpcsa2r = minimize(fun=cf_fpcsa2, x0=x0, args=(a,), jac=cf_fpcsa2d,\n",
    "                   constraints=cons, method='SLSQP',\n",
    "                   options={'disp': True})\n",
    "fmmax3r = minimize(fun=cf_fmmax3, x0=x0, args=(m,), jac=cf_fmmax3d,\n",
    "                   constraints=cons, method='SLSQP',\n",
    "                   options={'disp': True})"
   ]
  },
  {
   "cell_type": "code",
   "execution_count": 15,
   "metadata": {
    "collapsed": false
   },
   "outputs": [
    {
     "name": "stdout",
     "output_type": "stream",
     "text": [
      "\n",
      "Comparison of different cost functions for solving the distribution problem\n"
     ]
    },
    {
     "data": {
      "text/html": [
       "<div>\n",
       "<table border=\"1\" class=\"dataframe\">\n",
       "  <thead>\n",
       "    <tr style=\"text-align: right;\">\n",
       "      <th></th>\n",
       "      <th>Biceps long head</th>\n",
       "      <th>Biceps short head</th>\n",
       "      <th>Brachialis</th>\n",
       "      <th>Error in M</th>\n",
       "    </tr>\n",
       "  </thead>\n",
       "  <tbody>\n",
       "    <tr>\n",
       "      <th>$\\text{Moment arm}\\;[cm]$</th>\n",
       "      <td>200.0</td>\n",
       "      <td>500.0</td>\n",
       "      <td>400.0</td>\n",
       "      <td>-</td>\n",
       "    </tr>\n",
       "    <tr>\n",
       "      <th>$pcsa\\;[cm^2]$</th>\n",
       "      <td>33.0</td>\n",
       "      <td>8.0</td>\n",
       "      <td>23.0</td>\n",
       "      <td>-</td>\n",
       "    </tr>\n",
       "    <tr>\n",
       "      <th>$F_{max}\\;[N]$</th>\n",
       "      <td>1000.0</td>\n",
       "      <td>250.0</td>\n",
       "      <td>700.0</td>\n",
       "      <td>-</td>\n",
       "    </tr>\n",
       "    <tr>\n",
       "      <th>$M_{max}\\;[Nm]$</th>\n",
       "      <td>2000.0</td>\n",
       "      <td>1250.0</td>\n",
       "      <td>2800.0</td>\n",
       "      <td>-</td>\n",
       "    </tr>\n",
       "    <tr>\n",
       "      <th>$\\sum F_i$</th>\n",
       "      <td>-0.0</td>\n",
       "      <td>2.0</td>\n",
       "      <td>-0.0</td>\n",
       "      <td>-1.7763568394e-15</td>\n",
       "    </tr>\n",
       "    <tr>\n",
       "      <th>$\\sum F_i^2$</th>\n",
       "      <td>0.4</td>\n",
       "      <td>1.1</td>\n",
       "      <td>0.9</td>\n",
       "      <td>0.0</td>\n",
       "    </tr>\n",
       "    <tr>\n",
       "      <th>$\\sum(F_i/pcsa_i)^2$</th>\n",
       "      <td>1.5</td>\n",
       "      <td>0.2</td>\n",
       "      <td>1.5</td>\n",
       "      <td>0.0</td>\n",
       "    </tr>\n",
       "    <tr>\n",
       "      <th>$\\sum(F_i/M_{max,i})^3$</th>\n",
       "      <td>5.0</td>\n",
       "      <td>0.0</td>\n",
       "      <td>0.0</td>\n",
       "      <td>0.0</td>\n",
       "    </tr>\n",
       "  </tbody>\n",
       "</table>\n",
       "</div>"
      ],
      "text/plain": [
       "                          Biceps long head Biceps short head Brachialis  \\\n",
       "$\\text{Moment arm}\\;[cm]$            200.0             500.0      400.0   \n",
       "$pcsa\\;[cm^2]$                        33.0               8.0       23.0   \n",
       "$F_{max}\\;[N]$                      1000.0             250.0      700.0   \n",
       "$M_{max}\\;[Nm]$                     2000.0            1250.0     2800.0   \n",
       "$\\sum F_i$                            -0.0               2.0       -0.0   \n",
       "$\\sum F_i^2$                           0.4               1.1        0.9   \n",
       "$\\sum(F_i/pcsa_i)^2$                   1.5               0.2        1.5   \n",
       "$\\sum(F_i/M_{max,i})^3$                5.0               0.0        0.0   \n",
       "\n",
       "                                  Error in M  \n",
       "$\\text{Moment arm}\\;[cm]$                  -  \n",
       "$pcsa\\;[cm^2]$                             -  \n",
       "$F_{max}\\;[N]$                             -  \n",
       "$M_{max}\\;[Nm]$                            -  \n",
       "$\\sum F_i$                 -1.7763568394e-15  \n",
       "$\\sum F_i^2$                             0.0  \n",
       "$\\sum(F_i/pcsa_i)^2$                     0.0  \n",
       "$\\sum(F_i/M_{max,i})^3$                  0.0  "
      ]
     },
     "execution_count": 15,
     "metadata": {},
     "output_type": "execute_result"
    }
   ],
   "source": [
    "dat = np.vstack((np.around(r*100,1), np.around(a,1), np.around(f0,0), np.around(m,1)))\n",
    "opt = np.around(np.vstack((f1r.x, f2r.x, fpcsa2r.x, fmmax3r.x)), 1)\n",
    "er = ['-', '-', '-', '-',\n",
    "      np.sum(r*f1r.x)-M, np.sum(r*f2r.x)-M, np.sum(r*fpcsa2r.x)-M, np.sum(r*fmmax3r.x)-M]\n",
    "data = np.vstack((np.vstack((dat, opt)).T, er)).T\n",
    "\n",
    "rows = ['$\\text{Moment arm}\\;[cm]$', '$pcsa\\;[cm^2]$', '$F_{max}\\;[N]$', '$M_{max}\\;[Nm]$',\n",
    "        '$\\sum F_i$', '$\\sum F_i^2$', '$\\sum(F_i/pcsa_i)^2$', '$\\sum(F_i/M_{max,i})^3$']\n",
    "cols = ['Biceps long head', 'Biceps short head', 'Brachialis', 'Error in M']\n",
    "df = pd.DataFrame(data, index=rows, columns=cols)\n",
    "print('\\nComparison of different cost functions for solving the distribution problem')\n",
    "df"
   ]
  },
  {
   "cell_type": "markdown",
   "metadata": {},
   "source": [
    "4.2"
   ]
  },
  {
   "cell_type": "code",
   "execution_count": 16,
   "metadata": {
    "collapsed": false
   },
   "outputs": [
    {
     "name": "stdout",
     "output_type": "stream",
     "text": [
      "M = 10\n",
      "x0 = [ 21.27659574  12.12765957   7.23404255]\n",
      "r * x0 = 132.127659574\n"
     ]
    }
   ],
   "source": [
    "M = 10  # desired torque at the elbow\n",
    "\n",
    "f0 = np.array([5000, 2850, 1700])\n",
    "r  = np.array([2, 5, 4])\n",
    "a  = np.array([33, 8, 23])\n",
    "\n",
    "m = r*f0\n",
    "x0 = f0/235  # far from the correct answer for the sum of torques\n",
    "print('M =', M)\n",
    "print('x0 =', x0)\n",
    "print('r * x0 =', np.sum(r*x0))\n",
    "\n",
    "bnds = ((0, f0[0]), (0, f0[1]), (0, f0[2]))"
   ]
  },
  {
   "cell_type": "code",
   "execution_count": 17,
   "metadata": {
    "collapsed": true
   },
   "outputs": [],
   "source": [
    "# use this in combination with the parameter bounds:\n",
    "cons = ({'type': 'eq',\n",
    "         'fun' : lambda x, r, f0, M: np.array([r[0]*x[0] + r[1]*x[1] + r[2]*x[2] - M]), \n",
    "         'jac' : lambda x, r, f0, M: np.array([r[0], r[1], r[2]]), 'args': (r, f0, M)})\n",
    "# to enter everything as constraints:\n",
    "cons = ({'type': 'eq',\n",
    "         'fun' : lambda x, r, f0, M: np.array([r[0]*x[0] + r[1]*x[1] + r[2]*x[2] - M]), \n",
    "         'jac' : lambda x, r, f0, M: np.array([r[0], r[1], r[2]]), 'args': (r, f0, M)},\n",
    "        {'type': 'ineq', 'fun' : lambda x, r, f0, M: f0[0]-x[0],\n",
    "         'jac' : lambda x, r, f0, M: np.array([-1, 0, 0]), 'args': (r, f0, M)},\n",
    "        {'type': 'ineq', 'fun' : lambda x, r, f0, M: f0[1]-x[1],\n",
    "         'jac' : lambda x, r, f0, M: np.array([0, -1, 0]), 'args': (r, f0, M)},\n",
    "        {'type': 'ineq', 'fun' : lambda x, r, f0, M: f0[2]-x[2],\n",
    "         'jac' : lambda x, r, f0, M: np.array([0, 0, -1]), 'args': (r, f0, M)},\n",
    "        {'type': 'ineq', 'fun' : lambda x, r, f0, M: x[0],\n",
    "         'jac' : lambda x, r, f0, M: np.array([1, 0, 0]), 'args': (r, f0, M)},\n",
    "        {'type': 'ineq', 'fun' : lambda x, r, f0, M: x[1],\n",
    "         'jac' : lambda x, r, f0, M: np.array([0, 1, 0]), 'args': (r, f0, M)},\n",
    "        {'type': 'ineq', 'fun' : lambda x, r, f0, M: x[2],\n",
    "         'jac' : lambda x, r, f0, M: np.array([0, 0, 1]), 'args': (r, f0, M)})"
   ]
  },
  {
   "cell_type": "code",
   "execution_count": 18,
   "metadata": {
    "collapsed": false
   },
   "outputs": [
    {
     "name": "stdout",
     "output_type": "stream",
     "text": [
      "Optimization terminated successfully.    (Exit mode 0)\n",
      "            Current function value: 2.0\n",
      "            Iterations: 6\n",
      "            Function evaluations: 6\n",
      "            Gradient evaluations: 6\n",
      "Optimization terminated successfully.    (Exit mode 0)\n",
      "            Current function value: 2.22222226434\n",
      "            Iterations: 6\n",
      "            Function evaluations: 6\n",
      "            Gradient evaluations: 6\n",
      "Optimization terminated successfully.    (Exit mode 0)\n",
      "            Current function value: 0.00693481358806\n",
      "            Iterations: 11\n",
      "            Function evaluations: 11\n",
      "            Gradient evaluations: 11\n",
      "Optimization terminated successfully.    (Exit mode 0)\n",
      "            Current function value: 1.25e-10\n",
      "            Iterations: 1\n",
      "            Function evaluations: 2\n",
      "            Gradient evaluations: 1\n"
     ]
    }
   ],
   "source": [
    "f1r = minimize(fun=cf_f1, x0=x0, args=(), jac=cf_f1d,\n",
    "               constraints=cons, method='SLSQP',\n",
    "               options={'disp': True})\n",
    "f2r = minimize(fun=cf_f2, x0=x0, args=(), jac=cf_f2d,\n",
    "               constraints=cons, method='SLSQP',\n",
    "               options={'disp': True})\n",
    "fpcsa2r = minimize(fun=cf_fpcsa2, x0=x0, args=(a,), jac=cf_fpcsa2d,\n",
    "                   constraints=cons, method='SLSQP',\n",
    "                   options={'disp': True})\n",
    "fmmax3r = minimize(fun=cf_fmmax3, x0=x0, args=(m,), jac=cf_fmmax3d,\n",
    "                   constraints=cons, method='SLSQP',\n",
    "                   options={'disp': True})"
   ]
  },
  {
   "cell_type": "code",
   "execution_count": 19,
   "metadata": {
    "collapsed": false
   },
   "outputs": [
    {
     "name": "stdout",
     "output_type": "stream",
     "text": [
      "\n",
      "Comparison of different cost functions for solving the distribution problem\n"
     ]
    },
    {
     "data": {
      "text/html": [
       "<div>\n",
       "<table border=\"1\" class=\"dataframe\">\n",
       "  <thead>\n",
       "    <tr style=\"text-align: right;\">\n",
       "      <th></th>\n",
       "      <th>Biceps long head</th>\n",
       "      <th>Biceps short head</th>\n",
       "      <th>Brachialis</th>\n",
       "      <th>Error in M</th>\n",
       "    </tr>\n",
       "  </thead>\n",
       "  <tbody>\n",
       "    <tr>\n",
       "      <th>$\\text{Moment arm}\\;[cm]$</th>\n",
       "      <td>200.0</td>\n",
       "      <td>500.0</td>\n",
       "      <td>400.0</td>\n",
       "      <td>-</td>\n",
       "    </tr>\n",
       "    <tr>\n",
       "      <th>$pcsa\\;[cm^2]$</th>\n",
       "      <td>33.0</td>\n",
       "      <td>8.0</td>\n",
       "      <td>23.0</td>\n",
       "      <td>-</td>\n",
       "    </tr>\n",
       "    <tr>\n",
       "      <th>$F_{max}\\;[N]$</th>\n",
       "      <td>5000.0</td>\n",
       "      <td>2850.0</td>\n",
       "      <td>1700.0</td>\n",
       "      <td>-</td>\n",
       "    </tr>\n",
       "    <tr>\n",
       "      <th>$M_{max}\\;[Nm]$</th>\n",
       "      <td>10000.0</td>\n",
       "      <td>14250.0</td>\n",
       "      <td>6800.0</td>\n",
       "      <td>-</td>\n",
       "    </tr>\n",
       "    <tr>\n",
       "      <th>$\\sum F_i$</th>\n",
       "      <td>0.0</td>\n",
       "      <td>2.0</td>\n",
       "      <td>0.0</td>\n",
       "      <td>0.0</td>\n",
       "    </tr>\n",
       "    <tr>\n",
       "      <th>$\\sum F_i^2$</th>\n",
       "      <td>0.4</td>\n",
       "      <td>1.1</td>\n",
       "      <td>0.9</td>\n",
       "      <td>0.0</td>\n",
       "    </tr>\n",
       "    <tr>\n",
       "      <th>$\\sum(F_i/pcsa_i)^2$</th>\n",
       "      <td>1.5</td>\n",
       "      <td>0.2</td>\n",
       "      <td>1.5</td>\n",
       "      <td>0.0</td>\n",
       "    </tr>\n",
       "    <tr>\n",
       "      <th>$\\sum(F_i/M_{max,i})^3$</th>\n",
       "      <td>5.0</td>\n",
       "      <td>-0.0</td>\n",
       "      <td>0.0</td>\n",
       "      <td>4.08562073062e-14</td>\n",
       "    </tr>\n",
       "  </tbody>\n",
       "</table>\n",
       "</div>"
      ],
      "text/plain": [
       "                          Biceps long head Biceps short head Brachialis  \\\n",
       "$\\text{Moment arm}\\;[cm]$            200.0             500.0      400.0   \n",
       "$pcsa\\;[cm^2]$                        33.0               8.0       23.0   \n",
       "$F_{max}\\;[N]$                      5000.0            2850.0     1700.0   \n",
       "$M_{max}\\;[Nm]$                    10000.0           14250.0     6800.0   \n",
       "$\\sum F_i$                             0.0               2.0        0.0   \n",
       "$\\sum F_i^2$                           0.4               1.1        0.9   \n",
       "$\\sum(F_i/pcsa_i)^2$                   1.5               0.2        1.5   \n",
       "$\\sum(F_i/M_{max,i})^3$                5.0              -0.0        0.0   \n",
       "\n",
       "                                  Error in M  \n",
       "$\\text{Moment arm}\\;[cm]$                  -  \n",
       "$pcsa\\;[cm^2]$                             -  \n",
       "$F_{max}\\;[N]$                             -  \n",
       "$M_{max}\\;[Nm]$                            -  \n",
       "$\\sum F_i$                               0.0  \n",
       "$\\sum F_i^2$                             0.0  \n",
       "$\\sum(F_i/pcsa_i)^2$                     0.0  \n",
       "$\\sum(F_i/M_{max,i})^3$    4.08562073062e-14  "
      ]
     },
     "execution_count": 19,
     "metadata": {},
     "output_type": "execute_result"
    }
   ],
   "source": [
    "dat = np.vstack((np.around(r*100,1), np.around(a,1), np.around(f0,0), np.around(m,1)))\n",
    "opt = np.around(np.vstack((f1r.x, f2r.x, fpcsa2r.x, fmmax3r.x)), 1)\n",
    "er = ['-', '-', '-', '-',\n",
    "      np.sum(r*f1r.x)-M, np.sum(r*f2r.x)-M, np.sum(r*fpcsa2r.x)-M, np.sum(r*fmmax3r.x)-M]\n",
    "data = np.vstack((np.vstack((dat, opt)).T, er)).T\n",
    "\n",
    "rows = ['$\\text{Moment arm}\\;[cm]$', '$pcsa\\;[cm^2]$', '$F_{max}\\;[N]$', '$M_{max}\\;[Nm]$',\n",
    "        '$\\sum F_i$', '$\\sum F_i^2$', '$\\sum(F_i/pcsa_i)^2$', '$\\sum(F_i/M_{max,i})^3$']\n",
    "cols = ['Biceps long head', 'Biceps short head', 'Brachialis', 'Error in M']\n",
    "df = pd.DataFrame(data, index=rows, columns=cols)\n",
    "print('\\nComparison of different cost functions for solving the distribution problem')\n",
    "df"
   ]
  },
  {
   "cell_type": "code",
   "execution_count": null,
   "metadata": {
    "collapsed": true
   },
   "outputs": [],
   "source": []
  }
 ],
 "metadata": {
  "kernelspec": {
   "display_name": "Python 3",
   "language": "python",
   "name": "python3"
  },
  "language_info": {
   "codemirror_mode": {
    "name": "ipython",
    "version": 3
   },
   "file_extension": ".py",
   "mimetype": "text/x-python",
   "name": "python",
   "nbconvert_exporter": "python",
   "pygments_lexer": "ipython3",
   "version": "3.5.1"
  }
 },
 "nbformat": 4,
 "nbformat_minor": 0
}
