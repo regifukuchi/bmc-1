{
 "cells": [
  {
   "cell_type": "markdown",
   "metadata": {},
   "source": [
    "# Lecture 9 - Motor Control\n",
    "### Introduction to modeling and simulation of human movement\n",
    "https://github.com/BMClab/bmc/blob/master/courses/ModSim2018.md"
   ]
  },
  {
   "cell_type": "markdown",
   "metadata": {},
   "source": [
    "* In class:"
   ]
  },
  {
   "cell_type": "code",
   "execution_count": 1,
   "metadata": {},
   "outputs": [],
   "source": [
    "import numpy as np\n",
    "#import pandas as pd\n",
    "#import pylab as pl\n",
    "import matplotlib.pyplot as plt\n",
    "import math\n",
    "\n",
    "%matplotlib inline"
   ]
  },
  {
   "cell_type": "markdown",
   "metadata": {},
   "source": [
    "### Muscle properties"
   ]
  },
  {
   "cell_type": "code",
   "execution_count": 2,
   "metadata": {},
   "outputs": [],
   "source": [
    "Lslack = .223\n",
    "Lce_o = .093 #optmal l\n",
    "Fmax = 7400"
   ]
  },
  {
   "cell_type": "markdown",
   "metadata": {},
   "source": [
    "### Initial conditions"
   ]
  },
  {
   "cell_type": "code",
   "execution_count": 3,
   "metadata": {},
   "outputs": [],
   "source": [
    "LceNorm = .087/Lce_o\n",
    "t0 = 0\n",
    "tf = 2.99\n",
    "h = 1e-3"
   ]
  },
  {
   "cell_type": "code",
   "execution_count": 4,
   "metadata": {},
   "outputs": [],
   "source": [
    "t = np.arange(t0,tf,h)\n",
    "F = np.empty(t.shape)\n",
    "Fkpe = np.empty(t.shape)\n",
    "fiberLength = np.empty(t.shape)\n",
    "tendonLength = np.empty(t.shape)"
   ]
  },
  {
   "cell_type": "code",
   "execution_count": 5,
   "metadata": {},
   "outputs": [],
   "source": [
    "def computeTendonForce(LseeNorm, Lslack, Lce_o):\n",
    "    '''\n",
    "    Compute Tendon Force\n",
    "    \n",
    "    LseeNorm - Normalized Tendon length\n",
    "    \n",
    "    Lslack - slack length of the tendon (non-normalized)\n",
    "    \n",
    "    Lce_o - Optimal length of the fiber (non-normalized)\n",
    "    \n",
    "    Output:\n",
    "    \n",
    "    FTendonNorm - Normalized Tendon force\n",
    "    '''\n",
    "    \n",
    "    Umax = .04\n",
    "    if LseeNorm<Lslack/Lce_o: \n",
    "        FTendonNorm = 0\n",
    "    else: \n",
    "        FTendonNorm = ((LseeNorm-Lslack/Lce_o)/(Umax*Lslack/Lce_o))**2\n",
    "        \n",
    "    return FTendonNorm"
   ]
  },
  {
   "cell_type": "code",
   "execution_count": 6,
   "metadata": {},
   "outputs": [],
   "source": [
    "def computeParallelElementForce(LceNorm):\n",
    "    Umax = 1\n",
    "    if LceNorm<1: \n",
    "        FkpeNorm = 0\n",
    "    else: \n",
    "        FkpeNorm = ((LceNorm-1)/(Umax))**2\n",
    "    \n",
    "    return FkpeNorm"
   ]
  },
  {
   "cell_type": "code",
   "execution_count": 7,
   "metadata": {},
   "outputs": [],
   "source": [
    "def computeForceLengthCurve(LceNorm):\n",
    "    width = .63\n",
    "    F0 = max([0, (1-((LceNorm-1)/width)**2)])\n",
    "    return F0"
   ]
  },
  {
   "cell_type": "code",
   "execution_count": 8,
   "metadata": {},
   "outputs": [],
   "source": [
    "def computeContractileElementDerivate(F0, FceNorm):\n",
    "    a = .25\n",
    "    b = 0.25*10\n",
    "    \n",
    "    if FceNorm>F0:\n",
    "        b = (10*(1.4*F0 - FceNorm))/0.4\n",
    "    else :\n",
    "        b = F0 + FceNorm/0.25\n",
    "        \n",
    "    LceNormdot = 10*(FceNorm - F0)/b\n",
    "    \n",
    "    return LceNormdot"
   ]
  },
  {
   "cell_type": "code",
   "execution_count": 9,
   "metadata": {},
   "outputs": [],
   "source": [
    "def computeContractileElementForce(FTendonNorm, FkpeNorm):\n",
    "    FceNorm = FTendonNorm - FkpeNorm\n",
    "    \n",
    "    return FceNorm"
   ]
  },
  {
   "cell_type": "code",
   "execution_count": 10,
   "metadata": {},
   "outputs": [],
   "source": [
    "def computeTendonLength(Lm, Lce_o, LceNorm):\n",
    "    LseeNorm = Lm/Lce_o - LceNorm\n",
    "    return LseeNorm"
   ]
  },
  {
   "cell_type": "markdown",
   "metadata": {},
   "source": [
    "## Simulation - Series"
   ]
  },
  {
   "cell_type": "code",
   "execution_count": null,
   "metadata": {},
   "outputs": [],
   "source": [
    "\n"
   ]
  },
  {
   "cell_type": "markdown",
   "metadata": {},
   "source": [
    "## Simulation - Parallel"
   ]
  },
  {
   "cell_type": "code",
   "execution_count": 11,
   "metadata": {},
   "outputs": [],
   "source": [
    "for i in range (len(t)):\n",
    "    #ramp\n",
    "    if t[i]<=1:\n",
    "        Lm = 0.31\n",
    "    elif t[i]>1 and t[i]<2:\n",
    "        Lm = .31 - .04*(t[i]-1)\n",
    "        #print(Lm)\n",
    "    ##########################################################################\n",
    "    LseeNorm = computeTendonLength(Lm, Lce_o, LceNorm)\n",
    "    \n",
    "    FTendonNorm = computeTendonForce(LseeNorm, Lslack, Lce_o)\n",
    "    \n",
    "    FkpeNorm = computeParallelElementForce(LceNorm)\n",
    "        \n",
    "    F0 = computeForceLengthCurve(LceNorm)\n",
    "    \n",
    "    FceNorm = computeContractileElementForce(FTendonNorm, FkpeNorm)\n",
    "    \n",
    "    LceNormdot = computeContractileElementDerivate(F0, FceNorm)\n",
    "    \n",
    "    LceNorm += h*LceNormdot\n",
    "    ##########################################################################\n",
    "    F[i] = FTendonNorm*Fmax\n",
    "    fiberLength[i] = LceNorm*Lce_o\n",
    "    tendonLength[i] = LseeNorm*Lce_o"
   ]
  },
  {
   "cell_type": "markdown",
   "metadata": {},
   "source": [
    "## Plot "
   ]
  },
  {
   "cell_type": "code",
   "execution_count": 12,
   "metadata": {
    "scrolled": false
   },
   "outputs": [
    {
     "data": {
      "text/plain": [
       "Text(0,0.5,'Force [N]')"
      ]
     },
     "execution_count": 12,
     "metadata": {},
     "output_type": "execute_result"
    },
    {
     "data": {
      "image/png": "[encoded data removed]",
      "text/plain": [
       "<Figure size 432x432 with 1 Axes>"
      ]
     },
     "metadata": {},
     "output_type": "display_data"
    }
   ],
   "source": [
    "fig, ax = plt.subplots(1, 1, figsize=(6,6), sharex=True)\n",
    "\n",
    "ax.plot(t, fiberLength, label = 'Fiber')\n",
    "ax.plot(t, tendonLength, label = 'Tendon')\n",
    "plt.grid()\n",
    "plt.legend(loc = 'best')\n",
    "plt.xlabel('time (s)')\n",
    "plt.ylabel('Force [N]')\n",
    "\n",
    "\n",
    "#ax.legend()"
   ]
  },
  {
   "cell_type": "code",
   "execution_count": 13,
   "metadata": {},
   "outputs": [
    {
     "data": {
      "text/plain": [
       "Text(0,0.5,'Force [N]')"
      ]
     },
     "execution_count": 13,
     "metadata": {},
     "output_type": "execute_result"
    },
    {
     "data": {
      "image/png": "[encoded data removed]",
      "text/plain": [
       "<Figure size 432x432 with 1 Axes>"
      ]
     },
     "metadata": {},
     "output_type": "display_data"
    }
   ],
   "source": [
    "fig, ax = plt.subplots(1, 1, figsize=(6,6), sharex=True)\n",
    "\n",
    "ax.plot(t,F,c='red')\n",
    "plt.grid()\n",
    "plt.xlabel('time (s)')\n",
    "plt.ylabel('Force [N]')\n"
   ]
  },
  {
   "cell_type": "code",
   "execution_count": null,
   "metadata": {},
   "outputs": [],
   "source": []
  }
 ],
 "metadata": {
  "kernelspec": {
   "display_name": "Python 3",
   "language": "python",
   "name": "python3"
  },
  "language_info": {
   "codemirror_mode": {
    "name": "ipython",
    "version": 3
   },
   "file_extension": ".py",
   "mimetype": "text/x-python",
   "name": "python",
   "nbconvert_exporter": "python",
   "pygments_lexer": "ipython3",
   "version": "3.6.5"
  }
 },
 "nbformat": 4,
 "nbformat_minor": 2
}
