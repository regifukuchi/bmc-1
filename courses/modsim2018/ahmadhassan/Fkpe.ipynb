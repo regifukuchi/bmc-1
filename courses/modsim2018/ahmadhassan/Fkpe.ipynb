{
 "cells": [
  {
   "cell_type": "code",
   "execution_count": 4,
   "metadata": {
    "collapsed": true
   },
   "outputs": [],
   "source": [
    "import numpy as np\n",
    "import matplotlib.pyplot as plt\n",
    "%matplotlib inline"
   ]
  },
  {
   "cell_type": "code",
   "execution_count": 18,
   "metadata": {
    "collapsed": true
   },
   "outputs": [],
   "source": [
    "Lslack = 0.223;\n",
    "Umax = 0.04\n",
    "Lceopt = 0.093;\n",
    "width = 0.63*Lceopt\n",
    "Fmax = 7400\n",
    "a = 0.25*Fmax\n",
    "b = 0.25*10*Lceopt\n",
    "\n",
    "Lce = 0.087\n",
    "t = 0\n",
    "tend = 2.99\n",
    "h = 0.001\n",
    "i = 1\n",
    "data = np.zeros((int(tend/h)+3, 2))"
   ]
  },
  {
   "cell_type": "code",
   "execution_count": 19,
   "metadata": {
    "collapsed": false
   },
   "outputs": [
    {
     "data": {
      "text/plain": [
       "[<matplotlib.lines.Line2D at 0x95d0cc0>]"
      ]
     },
     "execution_count": 19,
     "metadata": {},
     "output_type": "execute_result"
    },
    {
     "data": {
      "image/png": "[encoded data removed]",
      "text/plain": [
       "<matplotlib.figure.Figure at 0x9589c88>"
      ]
     },
     "metadata": {},
     "output_type": "display_data"
    }
   ],
   "source": [
    "while t < tend :\n",
    "    if t <= 1:\n",
    "        Lm = 0.31\n",
    "    if t > 1 and t < 2 :\n",
    "        Lm = 0.31 - 0.04*(t-1)\n",
    "    Lsee = Lm - Lce\n",
    "    if Lsee < Lslack :\n",
    "        F = 0\n",
    "    else :\n",
    "        F = Fmax*((Lsee-Lslack)/(Umax*Lslack))**2\n",
    "    if Lce < Lceopt :\n",
    "        Fkpe = 0\n",
    "    else :\n",
    "        Fkpe = Fmax*((Lce-Lceopt)/(Umax*Lceopt))**2\n",
    "    F0 = max(0, (Fmax*(1-(Lce-Lceopt)/width)**2)) \n",
    "    if (F - Fkpe) > F0 :\n",
    "        print(\"Error\")\n",
    "    Lcedot = -b*(F0-(F-Fkpe))/(F+a-Fkpe)\n",
    "    Lce = Lce + h*Lcedot\n",
    "    t = t + h\n",
    "    i = i + 1\n",
    "    data[i,0] = t\n",
    "    data[i,1] = F - Fkpe\n",
    "\n",
    "plt.plot(data[:,0], data[:,1])"
   ]
  },
  {
   "cell_type": "code",
   "execution_count": null,
   "metadata": {
    "collapsed": true
   },
   "outputs": [],
   "source": []
  }
 ],
 "metadata": {
  "kernelspec": {
   "display_name": "Python 3",
   "language": "python",
   "name": "python3"
  },
  "language_info": {
   "codemirror_mode": {
    "name": "ipython",
    "version": 3
   },
   "file_extension": ".py",
   "mimetype": "text/x-python",
   "name": "python",
   "nbconvert_exporter": "python",
   "pygments_lexer": "ipython3",
   "version": "3.5.1"
  }
 },
 "nbformat": 4,
 "nbformat_minor": 0
}
