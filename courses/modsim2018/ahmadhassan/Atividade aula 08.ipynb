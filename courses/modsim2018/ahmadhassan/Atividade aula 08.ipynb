{
 "cells": [
  {
   "cell_type": "code",
   "execution_count": 34,
   "metadata": {
    "collapsed": true
   },
   "outputs": [],
   "source": [
    "import numpy as np\n",
    "import matplotlib.pyplot as plt\n",
    "%matplotlib inline"
   ]
  },
  {
   "cell_type": "code",
   "execution_count": 35,
   "metadata": {
    "collapsed": true
   },
   "outputs": [],
   "source": [
    "ks = 100\n",
    "b = 6\n",
    "ls0 = 0.2\n",
    "l = 0.3\n",
    "\n",
    "x1 = 0 - ks*l\n",
    "\n",
    "dt = 0.001\n",
    "t = np.arange(0,5,dt)\n",
    "\n",
    "F = np.empty_like(t)\n",
    "F[0] = 0"
   ]
  },
  {
   "cell_type": "code",
   "execution_count": 36,
   "metadata": {
    "collapsed": true
   },
   "outputs": [],
   "source": [
    "def dX1dt(x1, l, ks, b):\n",
    "    return -ks/b*x1 - (ks**2)/b*l"
   ]
  },
  {
   "cell_type": "code",
   "execution_count": 37,
   "metadata": {
    "collapsed": true
   },
   "outputs": [],
   "source": [
    "for i in range(1,len(t)):\n",
    "    if t[i] >= 2:\n",
    "        l = 0.35\n",
    "    x1 = x1 + dt*dX1dt(x1, l, ks, b)\n",
    "    F[i] = x1 + ks*l"
   ]
  },
  {
   "cell_type": "code",
   "execution_count": 38,
   "metadata": {
    "collapsed": false
   },
   "outputs": [
    {
     "data": {
      "text/plain": [
       "[<matplotlib.lines.Line2D at 0x9389b70>]"
      ]
     },
     "execution_count": 38,
     "metadata": {},
     "output_type": "execute_result"
    },
    {
     "data": {
      "image/png": "[encoded data removed]",
      "text/plain": [
       "<matplotlib.figure.Figure at 0x82b8da0>"
      ]
     },
     "metadata": {},
     "output_type": "display_data"
    }
   ],
   "source": [
    "plt.plot(t,F)"
   ]
  },
  {
   "cell_type": "code",
   "execution_count": 529,
   "metadata": {
    "collapsed": true
   },
   "outputs": [],
   "source": [
    "ks = 100\n",
    "b = 3000\n",
    "ls0 = 0.1\n",
    "l = 0.1\n",
    "kp = 20\n",
    "\n",
    "x1 = 0 - (ks+kp)*l\n",
    "\n",
    "dt = 0.001\n",
    "t = np.arange(0,350,dt)\n",
    "\n",
    "F = np.empty_like(t)\n",
    "F[0] = 0"
   ]
  },
  {
   "cell_type": "code",
   "execution_count": 530,
   "metadata": {
    "collapsed": true
   },
   "outputs": [],
   "source": [
    "def dX1dt(x1, l, ks, b, ls0, kp):\n",
    "    return -ks/b*x1 - (ks**2)/b*l - (ks*kp*ls0)/b"
   ]
  },
  {
   "cell_type": "code",
   "execution_count": 531,
   "metadata": {
    "collapsed": false
   },
   "outputs": [],
   "source": [
    "for i in range(1,len(t)):\n",
    "    if t[i] >= 2:\n",
    "        l = 0.07\n",
    "    x1 = x1 + dt*dX1dt(x1, l, ks, b, ls0, kp)\n",
    "    F[i] = x1 + ks*l + kp*l"
   ]
  },
  {
   "cell_type": "code",
   "execution_count": 533,
   "metadata": {
    "collapsed": false
   },
   "outputs": [
    {
     "data": {
      "image/png": "[encoded data removed]",
      "text/plain": [
       "<matplotlib.figure.Figure at 0x4d4826d8>"
      ]
     },
     "metadata": {},
     "output_type": "display_data"
    }
   ],
   "source": [
    "plt.plot(t,F)\n",
    "plt.grid()"
   ]
  },
  {
   "cell_type": "code",
   "execution_count": null,
   "metadata": {
    "collapsed": true
   },
   "outputs": [],
   "source": []
  },
  {
   "cell_type": "code",
   "execution_count": null,
   "metadata": {
    "collapsed": true
   },
   "outputs": [],
   "source": []
  },
  {
   "cell_type": "code",
   "execution_count": null,
   "metadata": {
    "collapsed": true
   },
   "outputs": [],
   "source": []
  }
 ],
 "metadata": {
  "kernelspec": {
   "display_name": "Python 3",
   "language": "python",
   "name": "python3"
  },
  "language_info": {
   "codemirror_mode": {
    "name": "ipython",
    "version": 3
   },
   "file_extension": ".py",
   "mimetype": "text/x-python",
   "name": "python",
   "nbconvert_exporter": "python",
   "pygments_lexer": "ipython3",
   "version": "3.5.1"
  }
 },
 "nbformat": 4,
 "nbformat_minor": 0
}
