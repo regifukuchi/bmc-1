{
 "cells": [
  {
   "cell_type": "code",
   "execution_count": 6,
   "metadata": {},
   "outputs": [],
   "source": [
    "import numpy as np\n",
    "import matplotlib.pyplot as plt\n",
    "import math\n",
    "%matplotlib inline"
   ]
  },
  {
   "cell_type": "code",
   "execution_count": 24,
   "metadata": {},
   "outputs": [],
   "source": [
    "x0=0;\n",
    "y0=0;\n",
    "vx0=30*np.cos(30*np.pi/180)\n",
    "vy0=30*np.sin(30*np.pi/180)\n",
    "g=9.81\n",
    "dt=0.01\n",
    "b=0.006\n",
    "m=0.43\n",
    "b=0"
   ]
  },
  {
   "cell_type": "code",
   "execution_count": 25,
   "metadata": {},
   "outputs": [],
   "source": [
    "t=np.arange(0,3,dt)\n",
    "rx=np.empty_like(t)\n",
    "ry=np.empty_like(t)"
   ]
  },
  {
   "cell_type": "code",
   "execution_count": 26,
   "metadata": {},
   "outputs": [],
   "source": [
    "x=x0\n",
    "y=y0\n",
    "vx=vx0\n",
    "vy=vy0"
   ]
  },
  {
   "cell_type": "code",
   "execution_count": 27,
   "metadata": {},
   "outputs": [],
   "source": [
    "for i in range(len(t)):\n",
    "    dxdt=vx\n",
    "    dydt=vy\n",
    "    quadrado= vx**2+vy**2\n",
    "    raizmodulo1=np.sqrt(quadrado)\n",
    "    raizmodulo2=np.sqrt(raizmodulo1)\n",
    "    dvxdt=(-b/m)*(vx/raizmodulo2)\n",
    "    dvydt=((-b/m)*(vy/raizmodulo2))-(g/m)\n",
    "    x= x+ dt*dxdt\n",
    "    y= y+ dt*dydt\n",
    "    vx= vx+ dt*dvxdt\n",
    "    vy= vy +dt*dvydt\n",
    "    rx[i]=x\n",
    "    ry[i]=y"
   ]
  },
  {
   "cell_type": "code",
   "execution_count": 28,
   "metadata": {},
   "outputs": [
    {
     "data": {
      "image/png": "[encoded data removed]",
      "text/plain": [
       "<Figure size 432x288 with 1 Axes>"
      ]
     },
     "metadata": {},
     "output_type": "display_data"
    }
   ],
   "source": [
    "plt.plot(rx,ry)\n",
    "plt.show()"
   ]
  },
  {
   "cell_type": "code",
   "execution_count": null,
   "metadata": {},
   "outputs": [],
   "source": []
  }
 ],
 "metadata": {
  "kernelspec": {
   "display_name": "Python 3",
   "language": "python",
   "name": "python3"
  },
  "language_info": {
   "codemirror_mode": {
    "name": "ipython",
    "version": 3
   },
   "file_extension": ".py",
   "mimetype": "text/x-python",
   "name": "python",
   "nbconvert_exporter": "python",
   "pygments_lexer": "ipython3",
   "version": "3.6.5"
  }
 },
 "nbformat": 4,
 "nbformat_minor": 2
}
