{
 "cells": [
  {
   "cell_type": "markdown",
   "metadata": {},
   "source": [
    "# Task for lecture 20"
   ]
  },
  {
   "cell_type": "markdown",
   "metadata": {},
   "source": [
    "2. Regarding the distribution problem for the elbow muscles presented in this text:  \n",
    "    a. Test different initial values for the optimization.  \n",
    "    b. Test other values for the elbow angle where the results are likely to change.   \n",
    "    \n",
    "3. In an experiment to estimate forces of the elbow flexors, through inverse dynamics it was found an elbow flexor moment of 10 Nm.  \n",
    "Consider the following data for maximum force (F0), moment arm (r), and pcsa (A) of the brachialis, brachioradialis, and biceps brachii muscles: F0 (N): 1000, 250, 700; r (cm): 2, 5, 4; A (cm$^2$): 33, 8, 23, respectively (data from Robertson et al. (2013)).  \n",
    "    a. Use static optimization to estimate the muscle forces.  \n",
    "    b. Test the robustness of the results using different initial values for the muscle forces.  \n",
    "    c. Compare the results for different cost functions."
   ]
  },
  {
   "cell_type": "code",
   "execution_count": 1,
   "metadata": {
    "ExecuteTime": {
     "end_time": "2018-08-06T04:49:36.429519Z",
     "start_time": "2018-08-06T04:49:33.446990Z"
    }
   },
   "outputs": [],
   "source": [
    "# import Python libraries\n",
    "import numpy as np\n",
    "%matplotlib inline\n",
    "import matplotlib\n",
    "import matplotlib.pyplot as plt\n",
    "import sympy as sym\n",
    "from sympy.plotting import plot\n",
    "import pandas as pd\n",
    "from IPython.display import display\n",
    "from IPython.core.display import Math"
   ]
  },
  {
   "cell_type": "markdown",
   "metadata": {},
   "source": [
    "### Muscle force estimation\n",
    "\n",
    "Consider the following main flexors of the elbow joint (see figure below): biceps long head, biceps short head, and brachialis. Suppose that the elbow net joint torque determined using inverse dynamics is 20 Nm (flexor). How much each of these muscles contributed to the net torque?\n",
    "\n",
    "<div class='center-align'><figure><img src='./../images/elbowflexors.png' alt='Elbow flexors'/> <figcaption><center><i>Figure. A view in OpenSim of the arm26 model showing three elbow flexors (Biceps long and short heads and Brachialis).</i></center></figcaption> </figure></div>\n",
    "\n",
    "For the optimization, we will need experimental data for the moment arm, maximum moment, and *pcsa* of each muscle. Let's import these data from the OpenSim arm26 model:"
   ]
  },
  {
   "cell_type": "code",
   "execution_count": 2,
   "metadata": {
    "ExecuteTime": {
     "end_time": "2018-08-06T04:49:37.901201Z",
     "start_time": "2018-08-06T04:49:37.886211Z"
    }
   },
   "outputs": [],
   "source": [
    "# time elbow_flexion BIClong BICshort BRA\n",
    "r_ef = np.loadtxt('./../data/r_elbowflexors.mot', skiprows=7)\n",
    "f_ef = np.loadtxt('./../data/f_elbowflexors.mot', skiprows=7)"
   ]
  },
  {
   "cell_type": "markdown",
   "metadata": {},
   "source": [
    "The maximum isometric force of these muscles are defined in the arm26 model as: Biceps long head: 624.3 N, Biceps short head: 435.56 N, and Brachialis: 987.26 N. Let's compute the mamimum torques that each muscle could produce considering a static situation at the different elbow flexion angles:"
   ]
  },
  {
   "cell_type": "code",
   "execution_count": 3,
   "metadata": {
    "ExecuteTime": {
     "end_time": "2018-08-06T04:49:37.906198Z",
     "start_time": "2018-08-06T04:49:37.902200Z"
    }
   },
   "outputs": [],
   "source": [
    "m_ef = r_ef*1\n",
    "m_ef[:, 2:] = r_ef[:, 2:]*f_ef[:, 2:]"
   ]
  },
  {
   "cell_type": "markdown",
   "metadata": {},
   "source": [
    "These data don't have the *pcsa* value of each muscle. We will estimate the *pcsa* considering that the amount of maximum muscle force generated per area is constant and equal to 50N/cm$^2$. Consequently, the *pcsa* (in cm$^2$) for each muscle is:"
   ]
  },
  {
   "cell_type": "code",
   "execution_count": 4,
   "metadata": {
    "ExecuteTime": {
     "end_time": "2018-08-06T04:49:38.434700Z",
     "start_time": "2018-08-06T04:49:38.430685Z"
    }
   },
   "outputs": [
    {
     "name": "stdout",
     "output_type": "stream",
     "text": [
      "[ 12.486    8.7112  19.7452]\n"
     ]
    }
   ],
   "source": [
    "a_ef = np.array([624.3, 435.56, 987.26])/50  # 50 N/cm2\n",
    "print(a_ef)"
   ]
  },
  {
   "cell_type": "markdown",
   "metadata": {},
   "source": [
    "### Solution of the optimization problem\n",
    "\n",
    "For the present case, we are dealing with a problem of minimization, multidimensional (function of several variables), nonlinear, constrained, and we can't assume that the cost function is convex. Numerical optimization is hardly a simple task. There are many different algorithms and public and commercial software for performing optimization. For instance, look at [NEOS Server](http://www.neos-server.org/neos/), a free internet-based service for solving numerical optimization problems.  \n",
    "We will solve the present problem using the [scipy.optimize](http://docs.scipy.org/doc/scipy/reference/optimize.html#module-scipy.optimize) package which provides several optimization algorithms. We will use the function `minimize`:\n",
    "\n",
    "```python\n",
    "scipy.optimize.minimize(fun, x0, args=(), method=None, jac=None, hess=None, hessp=None, bounds=None, constraints=(), tol=None, callback=None, options=None)\n",
    "\"\"\"Minimization of scalar function of one or more variables.\"\"\"\n",
    "```\n",
    "\n",
    "Now, let's write Python functions for each cost function:"
   ]
  },
  {
   "cell_type": "code",
   "execution_count": 5,
   "metadata": {
    "ExecuteTime": {
     "end_time": "2018-08-06T04:49:38.456195Z",
     "start_time": "2018-08-06T04:49:38.435682Z"
    }
   },
   "outputs": [],
   "source": [
    "from scipy.optimize import minimize"
   ]
  },
  {
   "cell_type": "code",
   "execution_count": 6,
   "metadata": {
    "ExecuteTime": {
     "end_time": "2018-08-06T04:49:38.469208Z",
     "start_time": "2018-08-06T04:49:38.457194Z"
    }
   },
   "outputs": [],
   "source": [
    "def cf_f1(x):\n",
    "    \"\"\"Cost function: sum of forces.\"\"\"  \n",
    "    return x[0] + x[1] + x[2]\n",
    "\n",
    "def cf_f2(x):\n",
    "    \"\"\"Cost function: sum of forces squared.\"\"\"\n",
    "    return x[0]**2 + x[1]**2 + x[2]**2\n",
    "\n",
    "def cf_fpcsa2(x, a):\n",
    "    \"\"\"Cost function: sum of squared muscle stresses.\"\"\"\n",
    "    return (x[0]/a[0])**2 + (x[1]/a[1])**2 + (x[2]/a[2])**2\n",
    "\n",
    "def cf_fmmax3(x, m):\n",
    "    \"\"\"Cost function: sum of cubic forces normalized by moments.\"\"\"\n",
    "    return (x[0]/m[0])**3 + (x[1]/m[1])**3 + (x[2]/m[2])**3"
   ]
  },
  {
   "cell_type": "markdown",
   "metadata": {},
   "source": [
    "Let's also define the Jacobian for each cost function (which is an optional parameter for the optimization):"
   ]
  },
  {
   "cell_type": "code",
   "execution_count": 7,
   "metadata": {
    "ExecuteTime": {
     "end_time": "2018-08-06T04:49:38.482196Z",
     "start_time": "2018-08-06T04:49:38.470187Z"
    }
   },
   "outputs": [],
   "source": [
    "def cf_f1d(x):\n",
    "    \"\"\"Derivative of cost function: sum of forces.\"\"\"\n",
    "    dfdx0 = 1\n",
    "    dfdx1 = 1\n",
    "    dfdx2 = 1\n",
    "    return np.array([dfdx0, dfdx1, dfdx2])\n",
    "\n",
    "def cf_f2d(x):\n",
    "    \"\"\"Derivative of cost function: sum of forces squared.\"\"\"\n",
    "    dfdx0 = 2*x[0]\n",
    "    dfdx1 = 2*x[1]\n",
    "    dfdx2 = 2*x[2]\n",
    "    return np.array([dfdx0, dfdx1, dfdx2])\n",
    "\n",
    "def cf_fpcsa2d(x, a):\n",
    "    \"\"\"Derivative of cost function: sum of squared muscle stresses.\"\"\"\n",
    "    dfdx0 = 2*x[0]/a[0]**2\n",
    "    dfdx1 = 2*x[1]/a[1]**2\n",
    "    dfdx2 = 2*x[2]/a[2]**2\n",
    "    return np.array([dfdx0, dfdx1, dfdx2])\n",
    "\n",
    "def cf_fmmax3d(x, m):\n",
    "    \"\"\"Derivative of cost function: sum of cubic forces normalized by moments.\"\"\"\n",
    "    dfdx0 = 3*x[0]**2/m[0]**3\n",
    "    dfdx1 = 3*x[1]**2/m[1]**3\n",
    "    dfdx2 = 3*x[2]**2/m[2]**3\n",
    "    return np.array([dfdx0, dfdx1, dfdx2])"
   ]
  },
  {
   "cell_type": "markdown",
   "metadata": {},
   "source": [
    "Perform the optimization using the previous initial condition looked in class"
   ]
  },
  {
   "cell_type": "markdown",
   "metadata": {},
   "source": [
    "2. Regarding the distribution problem for the elbow muscles presented in this text:  \n",
    "    a. Test different initial values for the optimization.  \n",
    "    b. Test other values for the elbow angle where the results are likely to change. "
   ]
  },
  {
   "cell_type": "code",
   "execution_count": null,
   "metadata": {
    "ExecuteTime": {
     "end_time": "2018-08-06T04:49:38.494191Z",
     "start_time": "2018-08-06T04:49:38.483194Z"
    },
    "scrolled": true
   },
   "outputs": [],
   "source": [
    "M = 20  # desired torque at the elbow\n",
    "iang = 69  # which will give the closest value to 90 degrees\n",
    "#iang = 34\n",
    "r  = r_ef[iang, 2:]\n",
    "f0 = f_ef[iang, 2:]\n",
    "a  = a_ef\n",
    "m  = m_ef[iang, 2:]\n",
    "x0 = f_ef[iang, 2:]/10  # far from the correct answer for the sum of torques\n",
    "print('M =', M)\n",
    "print('x0 =', x0)\n",
    "print('r * x0 =', np.sum(r*x0))"
   ]
  },
  {
   "cell_type": "markdown",
   "metadata": {},
   "source": [
    "Inequality constraints (such as boundaries in our problem) can be entered with the parameter `bounds` to the `minimize` function:"
   ]
  },
  {
   "cell_type": "code",
   "execution_count": null,
   "metadata": {
    "ExecuteTime": {
     "end_time": "2018-08-06T04:49:38.506166Z",
     "start_time": "2018-08-06T04:49:38.495172Z"
    }
   },
   "outputs": [],
   "source": [
    "bnds = ((0, f0[0]), (0, f0[1]), (0, f0[2]))"
   ]
  },
  {
   "cell_type": "markdown",
   "metadata": {},
   "source": [
    "Equality constraints (such as the sum of torques should equals the desired torque in our problem), as well as inequality constraints, can be entered with the parameter `constraints` to the `minimize` function (and we can also opt to enter the Jacobian of these constraints):"
   ]
  },
  {
   "cell_type": "code",
   "execution_count": null,
   "metadata": {
    "ExecuteTime": {
     "end_time": "2018-08-06T04:49:38.520175Z",
     "start_time": "2018-08-06T04:49:38.507165Z"
    }
   },
   "outputs": [],
   "source": [
    "# use this in combination with the parameter bounds:\n",
    "cons = ({'type': 'eq',\n",
    "         'fun' : lambda x, r, f0, M: np.array([r[0]*x[0] + r[1]*x[1] + r[2]*x[2] - M]), \n",
    "         'jac' : lambda x, r, f0, M: np.array([r[0], r[1], r[2]]), 'args': (r, f0, M)})"
   ]
  },
  {
   "cell_type": "code",
   "execution_count": null,
   "metadata": {
    "ExecuteTime": {
     "end_time": "2018-08-06T04:49:38.537148Z",
     "start_time": "2018-08-06T04:49:38.521158Z"
    }
   },
   "outputs": [],
   "source": [
    "# to enter everything as constraints:\n",
    "cons = ({'type': 'eq',\n",
    "         'fun' : lambda x, r, f0, M: np.array([r[0]*x[0] + r[1]*x[1] + r[2]*x[2] - M]), \n",
    "         'jac' : lambda x, r, f0, M: np.array([r[0], r[1], r[2]]), 'args': (r, f0, M)},\n",
    "        {'type': 'ineq', 'fun' : lambda x, r, f0, M: f0[0]-x[0],\n",
    "         'jac' : lambda x, r, f0, M: np.array([-1, 0, 0]), 'args': (r, f0, M)},\n",
    "        {'type': 'ineq', 'fun' : lambda x, r, f0, M: f0[1]-x[1],\n",
    "         'jac' : lambda x, r, f0, M: np.array([0, -1, 0]), 'args': (r, f0, M)},\n",
    "        {'type': 'ineq', 'fun' : lambda x, r, f0, M: f0[2]-x[2],\n",
    "         'jac' : lambda x, r, f0, M: np.array([0, 0, -1]), 'args': (r, f0, M)},\n",
    "        {'type': 'ineq', 'fun' : lambda x, r, f0, M: x[0],\n",
    "         'jac' : lambda x, r, f0, M: np.array([1, 0, 0]), 'args': (r, f0, M)},\n",
    "        {'type': 'ineq', 'fun' : lambda x, r, f0, M: x[1],\n",
    "         'jac' : lambda x, r, f0, M: np.array([0, 1, 0]), 'args': (r, f0, M)},\n",
    "        {'type': 'ineq', 'fun' : lambda x, r, f0, M: x[2],\n",
    "         'jac' : lambda x, r, f0, M: np.array([0, 0, 1]), 'args': (r, f0, M)})"
   ]
  },
  {
   "cell_type": "markdown",
   "metadata": {},
   "source": [
    "Although more verbose, if all the Jacobians of the constraints are also informed, this alternative seems better than informing bounds for the optimization process (less error in the final result and less iterations).  \n",
    "\n",
    "Given the characteristics of the problem, if we use the function `minimize` we are limited to the SLSQP (Sequential Least SQuares Programming) solver.  \n",
    "\n",
    "Finally, let's run the optimization for the four different cost functions and find the optimal muscle forces:"
   ]
  },
  {
   "cell_type": "code",
   "execution_count": null,
   "metadata": {
    "ExecuteTime": {
     "end_time": "2018-08-06T04:49:38.555138Z",
     "start_time": "2018-08-06T04:49:38.538147Z"
    },
    "scrolled": false
   },
   "outputs": [],
   "source": [
    "f1r = minimize(fun=cf_f1, x0=x0, args=(), jac=cf_f1d,\n",
    "               constraints=cons, method='SLSQP',\n",
    "               options={'disp': True})"
   ]
  },
  {
   "cell_type": "code",
   "execution_count": null,
   "metadata": {
    "ExecuteTime": {
     "end_time": "2018-08-06T04:49:38.568130Z",
     "start_time": "2018-08-06T04:49:38.556137Z"
    }
   },
   "outputs": [],
   "source": [
    "f2r = minimize(fun=cf_f2, x0=x0, args=(), jac=cf_f2d,\n",
    "               constraints=cons, method='SLSQP',\n",
    "               options={'disp': True})"
   ]
  },
  {
   "cell_type": "code",
   "execution_count": null,
   "metadata": {
    "ExecuteTime": {
     "end_time": "2018-08-06T04:49:38.581123Z",
     "start_time": "2018-08-06T04:49:38.569130Z"
    }
   },
   "outputs": [],
   "source": [
    "fpcsa2r = minimize(fun=cf_fpcsa2, x0=x0, args=(a,), jac=cf_fpcsa2d,\n",
    "                   constraints=cons, method='SLSQP',\n",
    "                   options={'disp': True})"
   ]
  },
  {
   "cell_type": "code",
   "execution_count": null,
   "metadata": {
    "ExecuteTime": {
     "end_time": "2018-08-06T04:49:38.594116Z",
     "start_time": "2018-08-06T04:49:38.582122Z"
    },
    "scrolled": false
   },
   "outputs": [],
   "source": [
    "fmmax3r = minimize(fun=cf_fmmax3, x0=x0, args=(m,), jac=cf_fmmax3d,\n",
    "                   constraints=cons, method='SLSQP',\n",
    "                   options={'disp': True})"
   ]
  },
  {
   "cell_type": "code",
   "execution_count": null,
   "metadata": {},
   "outputs": [],
   "source": [
    "# Storing the results of the first optimization using previous initial conditions\n",
    "opt1 = np.around(np.vstack((f1r.x, f2r.x, fpcsa2r.x, fmmax3r.x)), 1)"
   ]
  },
  {
   "cell_type": "code",
   "execution_count": null,
   "metadata": {},
   "outputs": [],
   "source": [
    "dat = np.vstack((np.around(r*100,1), np.around(a,1), np.around(f0,0), np.around(m,1)))\n",
    "er = ['-', '-', '-', '-',\n",
    "      np.sum(r*f1r.x)-M, np.sum(r*f2r.x)-M, np.sum(r*fpcsa2r.x)-M, np.sum(r*fmmax3r.x)-M]\n",
    "data = np.vstack((np.vstack((dat, opt1)).T, er)).T\n",
    "\n",
    "rows = ['$\\text{Moment arm}\\;[cm]$', '$pcsa\\;[cm^2]$', '$F_{max}\\;[N]$', '$M_{max}\\;[Nm]$',\n",
    "        '$\\sum F_i$', '$\\sum F_i^2$', '$\\sum(F_i/pcsa_i)^2$', '$\\sum(F_i/M_{max,i})^3$']\n",
    "cols = ['Biceps long head', 'Biceps short head', 'Brachialis', 'Error in M']\n",
    "df = pd.DataFrame(data, index=rows, columns=cols)\n",
    "print('\\Solving the distribution problem for a desired torque of 20Nm and at 90 elbow flexion')\n",
    "df"
   ]
  },
  {
   "cell_type": "markdown",
   "metadata": {},
   "source": [
    "## 3. Regarding the distribution problem for the elbow muscles presented in this text:  \n",
    "    a. Test different initial values for the optimization.  \n",
    "    b. Test other values for the elbow angle where the results are likely to change.  \n",
    "Set different initial conditions such as consider a desired torque at the elbow of 40 Nm and a slightly higher initial sum of torques."
   ]
  },
  {
   "cell_type": "code",
   "execution_count": null,
   "metadata": {
    "ExecuteTime": {
     "end_time": "2018-08-06T04:49:38.494191Z",
     "start_time": "2018-08-06T04:49:38.483194Z"
    },
    "scrolled": true
   },
   "outputs": [],
   "source": [
    "M = 40  # desired torque at the elbow\n",
    "iang = 69  # which will give the closest value to 90 degrees\n",
    "r1  = r_ef[iang, 2:]\n",
    "f01 = f_ef[iang, 2:]\n",
    "a1  = a_ef\n",
    "m1  = m_ef[iang, 2:]\n",
    "x01 = f_ef[iang, 2:]/5  # far from the correct answer for the sum of torques\n",
    "print('M =', M)\n",
    "print('x0 =', x0)\n",
    "print('r * x0 =', np.sum(r*x0))"
   ]
  },
  {
   "cell_type": "markdown",
   "metadata": {},
   "source": [
    "Inequality constraints (such as boundaries in our problem) can be entered with the parameter `bounds` to the `minimize` function:"
   ]
  },
  {
   "cell_type": "code",
   "execution_count": null,
   "metadata": {
    "ExecuteTime": {
     "end_time": "2018-08-06T04:49:38.506166Z",
     "start_time": "2018-08-06T04:49:38.495172Z"
    }
   },
   "outputs": [],
   "source": [
    "bnds = ((0, f0[0]), (0, f0[1]), (0, f0[2]))"
   ]
  },
  {
   "cell_type": "markdown",
   "metadata": {},
   "source": [
    "Equality constraints (such as the sum of torques should equals the desired torque in our problem), as well as inequality constraints, can be entered with the parameter `constraints` to the `minimize` function (and we can also opt to enter the Jacobian of these constraints):"
   ]
  },
  {
   "cell_type": "code",
   "execution_count": null,
   "metadata": {
    "ExecuteTime": {
     "end_time": "2018-08-06T04:49:38.520175Z",
     "start_time": "2018-08-06T04:49:38.507165Z"
    }
   },
   "outputs": [],
   "source": [
    "# use this in combination with the parameter bounds:\n",
    "cons = ({'type': 'eq',\n",
    "         'fun' : lambda x, r, f0, M: np.array([r[0]*x[0] + r[1]*x[1] + r[2]*x[2] - M]), \n",
    "         'jac' : lambda x, r, f0, M: np.array([r[0], r[1], r[2]]), 'args': (r, f0, M)})"
   ]
  },
  {
   "cell_type": "code",
   "execution_count": null,
   "metadata": {
    "ExecuteTime": {
     "end_time": "2018-08-06T04:49:38.537148Z",
     "start_time": "2018-08-06T04:49:38.521158Z"
    }
   },
   "outputs": [],
   "source": [
    "# to enter everything as constraints:\n",
    "cons = ({'type': 'eq',\n",
    "         'fun' : lambda x, r, f0, M: np.array([r[0]*x[0] + r[1]*x[1] + r[2]*x[2] - M]), \n",
    "         'jac' : lambda x, r, f0, M: np.array([r[0], r[1], r[2]]), 'args': (r, f0, M)},\n",
    "        {'type': 'ineq', 'fun' : lambda x, r, f0, M: f0[0]-x[0],\n",
    "         'jac' : lambda x, r, f0, M: np.array([-1, 0, 0]), 'args': (r, f0, M)},\n",
    "        {'type': 'ineq', 'fun' : lambda x, r, f0, M: f0[1]-x[1],\n",
    "         'jac' : lambda x, r, f0, M: np.array([0, -1, 0]), 'args': (r, f0, M)},\n",
    "        {'type': 'ineq', 'fun' : lambda x, r, f0, M: f0[2]-x[2],\n",
    "         'jac' : lambda x, r, f0, M: np.array([0, 0, -1]), 'args': (r, f0, M)},\n",
    "        {'type': 'ineq', 'fun' : lambda x, r, f0, M: x[0],\n",
    "         'jac' : lambda x, r, f0, M: np.array([1, 0, 0]), 'args': (r, f0, M)},\n",
    "        {'type': 'ineq', 'fun' : lambda x, r, f0, M: x[1],\n",
    "         'jac' : lambda x, r, f0, M: np.array([0, 1, 0]), 'args': (r, f0, M)},\n",
    "        {'type': 'ineq', 'fun' : lambda x, r, f0, M: x[2],\n",
    "         'jac' : lambda x, r, f0, M: np.array([0, 0, 1]), 'args': (r, f0, M)})"
   ]
  },
  {
   "cell_type": "markdown",
   "metadata": {},
   "source": [
    "Although more verbose, if all the Jacobians of the constraints are also informed, this alternative seems better than informing bounds for the optimization process (less error in the final result and less iterations).  \n",
    "\n",
    "Given the characteristics of the problem, if we use the function `minimize` we are limited to the SLSQP (Sequential Least SQuares Programming) solver.  \n",
    "\n",
    "Finally, let's run the optimization for the four different cost functions and find the optimal muscle forces:"
   ]
  },
  {
   "cell_type": "code",
   "execution_count": null,
   "metadata": {
    "ExecuteTime": {
     "end_time": "2018-08-06T04:49:38.555138Z",
     "start_time": "2018-08-06T04:49:38.538147Z"
    },
    "scrolled": false
   },
   "outputs": [],
   "source": [
    "f1r = minimize(fun=cf_f1, x0=x0, args=(), jac=cf_f1d,\n",
    "               constraints=cons, method='SLSQP',\n",
    "               options={'disp': True})"
   ]
  },
  {
   "cell_type": "code",
   "execution_count": null,
   "metadata": {
    "ExecuteTime": {
     "end_time": "2018-08-06T04:49:38.568130Z",
     "start_time": "2018-08-06T04:49:38.556137Z"
    }
   },
   "outputs": [],
   "source": [
    "f2r = minimize(fun=cf_f2, x0=x0, args=(), jac=cf_f2d,\n",
    "               constraints=cons, method='SLSQP',\n",
    "               options={'disp': True})"
   ]
  },
  {
   "cell_type": "code",
   "execution_count": null,
   "metadata": {
    "ExecuteTime": {
     "end_time": "2018-08-06T04:49:38.581123Z",
     "start_time": "2018-08-06T04:49:38.569130Z"
    },
    "scrolled": true
   },
   "outputs": [],
   "source": [
    "fpcsa2r = minimize(fun=cf_fpcsa2, x0=x0, args=(a,), jac=cf_fpcsa2d,\n",
    "                   constraints=cons, method='SLSQP',\n",
    "                   options={'disp': True})"
   ]
  },
  {
   "cell_type": "code",
   "execution_count": null,
   "metadata": {
    "ExecuteTime": {
     "end_time": "2018-08-06T04:49:38.594116Z",
     "start_time": "2018-08-06T04:49:38.582122Z"
    },
    "scrolled": true
   },
   "outputs": [],
   "source": [
    "fmmax3r = minimize(fun=cf_fmmax3, x0=x0, args=(m,), jac=cf_fmmax3d,\n",
    "                   constraints=cons, method='SLSQP',\n",
    "                   options={'disp': True})"
   ]
  },
  {
   "cell_type": "code",
   "execution_count": null,
   "metadata": {},
   "outputs": [],
   "source": [
    "opt2 = np.around(np.vstack((f1r.x, f2r.x, fpcsa2r.x, fmmax3r.x)), 1)"
   ]
  },
  {
   "cell_type": "markdown",
   "metadata": {},
   "source": [
    "Displaying the results for the **second** optimization using different initial conditions basically changing the desired torque (twice as the previous) and initial sum of torques."
   ]
  },
  {
   "cell_type": "code",
   "execution_count": null,
   "metadata": {
    "scrolled": true
   },
   "outputs": [],
   "source": [
    "dat = np.vstack((np.around(r*100,1), np.around(a,1), np.around(f0,0), np.around(m,1)))\n",
    "er = ['-', '-', '-', '-',\n",
    "      np.sum(r*f1r.x)-M, np.sum(r*f2r.x)-M, np.sum(r*fpcsa2r.x)-M, np.sum(r*fmmax3r.x)-M]\n",
    "data = np.vstack((np.vstack((dat, opt2)).T, er)).T\n",
    "\n",
    "rows = ['$\\text{Moment arm}\\;[cm]$', '$pcsa\\;[cm^2]$', '$F_{max}\\;[N]$', '$M_{max}\\;[Nm]$',\n",
    "        '$\\sum F_i$', '$\\sum F_i^2$', '$\\sum(F_i/pcsa_i)^2$', '$\\sum(F_i/M_{max,i})^3$']\n",
    "cols = ['Biceps long head', 'Biceps short head', 'Brachialis', 'Error in M']\n",
    "df = pd.DataFrame(data, index=rows, columns=cols)\n",
    "print('\\nSolving the distribution problem for a desired torque of 40Nm')\n",
    "df"
   ]
  },
  {
   "cell_type": "markdown",
   "metadata": {},
   "source": [
    "## 3. Regarding the distribution problem for the elbow muscles presented in this text:    \n",
    "    b. Test other values for the elbow angle where the results are likely to change.\n",
    "    \n",
    "Coinsider and angle of 45 degrees."
   ]
  },
  {
   "cell_type": "code",
   "execution_count": null,
   "metadata": {
    "ExecuteTime": {
     "end_time": "2018-08-06T04:49:38.494191Z",
     "start_time": "2018-08-06T04:49:38.483194Z"
    },
    "scrolled": true
   },
   "outputs": [],
   "source": [
    "M = 20  # desired torque at the elbow\n",
    "iang = 34  # which will give the closest value to 45 degrees\n",
    "#iang = 34\n",
    "r  = r_ef[iang, 2:]\n",
    "f0 = f_ef[iang, 2:]\n",
    "a  = a_ef\n",
    "m  = m_ef[iang, 2:]\n",
    "x0 = f_ef[iang, 2:]/10  # far from the correct answer for the sum of torques\n",
    "print('M =', M)\n",
    "print('x0 =', x0)\n",
    "print('r * x0 =', np.sum(r*x0))"
   ]
  },
  {
   "cell_type": "markdown",
   "metadata": {},
   "source": [
    "Inequality constraints (such as boundaries in our problem) can be entered with the parameter `bounds` to the `minimize` function:"
   ]
  },
  {
   "cell_type": "code",
   "execution_count": null,
   "metadata": {
    "ExecuteTime": {
     "end_time": "2018-08-06T04:49:38.506166Z",
     "start_time": "2018-08-06T04:49:38.495172Z"
    }
   },
   "outputs": [],
   "source": [
    "bnds = ((0, f0[0]), (0, f0[1]), (0, f0[2]))"
   ]
  },
  {
   "cell_type": "markdown",
   "metadata": {},
   "source": [
    "Equality constraints (such as the sum of torques should equals the desired torque in our problem), as well as inequality constraints, can be entered with the parameter `constraints` to the `minimize` function (and we can also opt to enter the Jacobian of these constraints):"
   ]
  },
  {
   "cell_type": "code",
   "execution_count": null,
   "metadata": {
    "ExecuteTime": {
     "end_time": "2018-08-06T04:49:38.520175Z",
     "start_time": "2018-08-06T04:49:38.507165Z"
    }
   },
   "outputs": [],
   "source": [
    "# use this in combination with the parameter bounds:\n",
    "cons = ({'type': 'eq',\n",
    "         'fun' : lambda x, r, f0, M: np.array([r[0]*x[0] + r[1]*x[1] + r[2]*x[2] - M]), \n",
    "         'jac' : lambda x, r, f0, M: np.array([r[0], r[1], r[2]]), 'args': (r, f0, M)})"
   ]
  },
  {
   "cell_type": "code",
   "execution_count": null,
   "metadata": {
    "ExecuteTime": {
     "end_time": "2018-08-06T04:49:38.537148Z",
     "start_time": "2018-08-06T04:49:38.521158Z"
    }
   },
   "outputs": [],
   "source": [
    "# to enter everything as constraints:\n",
    "cons = ({'type': 'eq',\n",
    "         'fun' : lambda x, r, f0, M: np.array([r[0]*x[0] + r[1]*x[1] + r[2]*x[2] - M]), \n",
    "         'jac' : lambda x, r, f0, M: np.array([r[0], r[1], r[2]]), 'args': (r, f0, M)},\n",
    "        {'type': 'ineq', 'fun' : lambda x, r, f0, M: f0[0]-x[0],\n",
    "         'jac' : lambda x, r, f0, M: np.array([-1, 0, 0]), 'args': (r, f0, M)},\n",
    "        {'type': 'ineq', 'fun' : lambda x, r, f0, M: f0[1]-x[1],\n",
    "         'jac' : lambda x, r, f0, M: np.array([0, -1, 0]), 'args': (r, f0, M)},\n",
    "        {'type': 'ineq', 'fun' : lambda x, r, f0, M: f0[2]-x[2],\n",
    "         'jac' : lambda x, r, f0, M: np.array([0, 0, -1]), 'args': (r, f0, M)},\n",
    "        {'type': 'ineq', 'fun' : lambda x, r, f0, M: x[0],\n",
    "         'jac' : lambda x, r, f0, M: np.array([1, 0, 0]), 'args': (r, f0, M)},\n",
    "        {'type': 'ineq', 'fun' : lambda x, r, f0, M: x[1],\n",
    "         'jac' : lambda x, r, f0, M: np.array([0, 1, 0]), 'args': (r, f0, M)},\n",
    "        {'type': 'ineq', 'fun' : lambda x, r, f0, M: x[2],\n",
    "         'jac' : lambda x, r, f0, M: np.array([0, 0, 1]), 'args': (r, f0, M)})"
   ]
  },
  {
   "cell_type": "markdown",
   "metadata": {},
   "source": [
    "Although more verbose, if all the Jacobians of the constraints are also informed, this alternative seems better than informing bounds for the optimization process (less error in the final result and less iterations).  \n",
    "\n",
    "Given the characteristics of the problem, if we use the function `minimize` we are limited to the SLSQP (Sequential Least SQuares Programming) solver.  \n",
    "\n",
    "Finally, let's run the optimization for the four different cost functions and find the optimal muscle forces:"
   ]
  },
  {
   "cell_type": "code",
   "execution_count": null,
   "metadata": {
    "ExecuteTime": {
     "end_time": "2018-08-06T04:49:38.555138Z",
     "start_time": "2018-08-06T04:49:38.538147Z"
    },
    "scrolled": false
   },
   "outputs": [],
   "source": [
    "f1r = minimize(fun=cf_f1, x0=x0, args=(), jac=cf_f1d,\n",
    "               constraints=cons, method='SLSQP',\n",
    "               options={'disp': True})"
   ]
  },
  {
   "cell_type": "code",
   "execution_count": null,
   "metadata": {
    "ExecuteTime": {
     "end_time": "2018-08-06T04:49:38.568130Z",
     "start_time": "2018-08-06T04:49:38.556137Z"
    }
   },
   "outputs": [],
   "source": [
    "f2r = minimize(fun=cf_f2, x0=x0, args=(), jac=cf_f2d,\n",
    "               constraints=cons, method='SLSQP',\n",
    "               options={'disp': True})"
   ]
  },
  {
   "cell_type": "code",
   "execution_count": null,
   "metadata": {
    "ExecuteTime": {
     "end_time": "2018-08-06T04:49:38.581123Z",
     "start_time": "2018-08-06T04:49:38.569130Z"
    },
    "scrolled": true
   },
   "outputs": [],
   "source": [
    "fpcsa2r = minimize(fun=cf_fpcsa2, x0=x0, args=(a,), jac=cf_fpcsa2d,\n",
    "                   constraints=cons, method='SLSQP',\n",
    "                   options={'disp': True})"
   ]
  },
  {
   "cell_type": "code",
   "execution_count": null,
   "metadata": {
    "ExecuteTime": {
     "end_time": "2018-08-06T04:49:38.594116Z",
     "start_time": "2018-08-06T04:49:38.582122Z"
    },
    "scrolled": false
   },
   "outputs": [],
   "source": [
    "fmmax3r = minimize(fun=cf_fmmax3, x0=x0, args=(m,), jac=cf_fmmax3d,\n",
    "                   constraints=cons, method='SLSQP',\n",
    "                   options={'disp': True})"
   ]
  },
  {
   "cell_type": "code",
   "execution_count": null,
   "metadata": {},
   "outputs": [],
   "source": [
    "opt3 = np.around(np.vstack((f1r.x, f2r.x, fpcsa2r.x, fmmax3r.x)), 1)"
   ]
  },
  {
   "cell_type": "markdown",
   "metadata": {},
   "source": [
    "**Results of the optimization problem considering a desired torque of 20Nm and 45 degrees elbow flexion**"
   ]
  },
  {
   "cell_type": "code",
   "execution_count": null,
   "metadata": {
    "scrolled": true
   },
   "outputs": [],
   "source": [
    "dat = np.vstack((np.around(r*100,1), np.around(a,1), np.around(f0,0), np.around(m,1)))\n",
    "er = ['-', '-', '-', '-',\n",
    "      np.sum(r*f1r.x)-M, np.sum(r*f2r.x)-M, np.sum(r*fpcsa2r.x)-M, np.sum(r*fmmax3r.x)-M]\n",
    "data = np.vstack((np.vstack((dat, opt3)).T, er)).T\n",
    "\n",
    "rows = ['$\\text{Moment arm}\\;[cm]$', '$pcsa\\;[cm^2]$', '$F_{max}\\;[N]$', '$M_{max}\\;[Nm]$',\n",
    "        '$\\sum F_i$', '$\\sum F_i^2$', '$\\sum(F_i/pcsa_i)^2$', '$\\sum(F_i/M_{max,i})^3$']\n",
    "cols = ['Biceps long head', 'Biceps short head', 'Brachialis', 'Error in M']\n",
    "df = pd.DataFrame(data, index=rows, columns=cols)\n",
    "print('\\nSolving the distribution problem for a desired torque of 20Nm and at 45 elbow flexion')\n",
    "df"
   ]
  },
  {
   "cell_type": "markdown",
   "metadata": {},
   "source": [
    "4. In an experiment to estimate forces of the elbow flexors, through inverse dynamics it was found an elbow flexor moment of 10 Nm.  \n",
    "Consider the following data for maximum force (F0), moment arm (r), and pcsa (A) of the brachialis, brachioradialis, and biceps brachii muscles: F0 (N): 1000, 250, 700; r (cm): 2, 5, 4; A (cm$^2$): 33, 8, 23, respectively (data from Robertson et al. (2013)).  \n",
    "    a. Use static optimization to estimate the muscle forces.  \n",
    "    b. Test the robustness of the results using different initial values for the muscle forces.  \n",
    "    c. Compare the results for different cost functions."
   ]
  },
  {
   "cell_type": "code",
   "execution_count": null,
   "metadata": {},
   "outputs": [],
   "source": [
    "M = 10  # desired torque at the elbow\n",
    "iang = 34  # which will give the closest value to 45 degrees\n",
    "r  = np.array([0.02, 0.05, 0.04])\n",
    "f0 = np.array([1000, 250, 700])\n",
    "a  = np.array([33, 8, 23])\n",
    "m  = r*f0\n",
    "x0 = f0/20  # far from the correct answer for the sum of torques\n",
    "print('M =', M)\n",
    "print('x0 =', x0)\n",
    "print('r * x0 =', np.sum(r*x0))"
   ]
  },
  {
   "cell_type": "markdown",
   "metadata": {},
   "source": [
    "Inequality constraints (such as boundaries in our problem) can be entered with the parameter `bounds` to the `minimize` function:"
   ]
  },
  {
   "cell_type": "code",
   "execution_count": null,
   "metadata": {
    "ExecuteTime": {
     "end_time": "2018-08-06T04:49:38.506166Z",
     "start_time": "2018-08-06T04:49:38.495172Z"
    }
   },
   "outputs": [],
   "source": [
    "bnds = ((0, f0[0]), (0, f0[1]), (0, f0[2]))"
   ]
  },
  {
   "cell_type": "markdown",
   "metadata": {},
   "source": [
    "Equality constraints (such as the sum of torques should equals the desired torque in our problem), as well as inequality constraints, can be entered with the parameter `constraints` to the `minimize` function (and we can also opt to enter the Jacobian of these constraints):"
   ]
  },
  {
   "cell_type": "code",
   "execution_count": null,
   "metadata": {
    "ExecuteTime": {
     "end_time": "2018-08-06T04:49:38.520175Z",
     "start_time": "2018-08-06T04:49:38.507165Z"
    }
   },
   "outputs": [],
   "source": [
    "# use this in combination with the parameter bounds:\n",
    "cons = ({'type': 'eq',\n",
    "         'fun' : lambda x, r, f0, M: np.array([r[0]*x[0] + r[1]*x[1] + r[2]*x[2] - M]), \n",
    "         'jac' : lambda x, r, f0, M: np.array([r[0], r[1], r[2]]), 'args': (r, f0, M)})"
   ]
  },
  {
   "cell_type": "code",
   "execution_count": null,
   "metadata": {
    "ExecuteTime": {
     "end_time": "2018-08-06T04:49:38.537148Z",
     "start_time": "2018-08-06T04:49:38.521158Z"
    }
   },
   "outputs": [],
   "source": [
    "# to enter everything as constraints:\n",
    "cons = ({'type': 'eq',\n",
    "         'fun' : lambda x, r, f0, M: np.array([r[0]*x[0] + r[1]*x[1] + r[2]*x[2] - M]), \n",
    "         'jac' : lambda x, r, f0, M: np.array([r[0], r[1], r[2]]), 'args': (r, f0, M)},\n",
    "        {'type': 'ineq', 'fun' : lambda x, r, f0, M: f0[0]-x[0],\n",
    "         'jac' : lambda x, r, f0, M: np.array([-1, 0, 0]), 'args': (r, f0, M)},\n",
    "        {'type': 'ineq', 'fun' : lambda x, r, f0, M: f0[1]-x[1],\n",
    "         'jac' : lambda x, r, f0, M: np.array([0, -1, 0]), 'args': (r, f0, M)},\n",
    "        {'type': 'ineq', 'fun' : lambda x, r, f0, M: f0[2]-x[2],\n",
    "         'jac' : lambda x, r, f0, M: np.array([0, 0, -1]), 'args': (r, f0, M)},\n",
    "        {'type': 'ineq', 'fun' : lambda x, r, f0, M: x[0],\n",
    "         'jac' : lambda x, r, f0, M: np.array([1, 0, 0]), 'args': (r, f0, M)},\n",
    "        {'type': 'ineq', 'fun' : lambda x, r, f0, M: x[1],\n",
    "         'jac' : lambda x, r, f0, M: np.array([0, 1, 0]), 'args': (r, f0, M)},\n",
    "        {'type': 'ineq', 'fun' : lambda x, r, f0, M: x[2],\n",
    "         'jac' : lambda x, r, f0, M: np.array([0, 0, 1]), 'args': (r, f0, M)})"
   ]
  },
  {
   "cell_type": "markdown",
   "metadata": {},
   "source": [
    "Although more verbose, if all the Jacobians of the constraints are also informed, this alternative seems better than informing bounds for the optimization process (less error in the final result and less iterations).  \n",
    "\n",
    "Given the characteristics of the problem, if we use the function `minimize` we are limited to the SLSQP (Sequential Least SQuares Programming) solver.  \n",
    "\n",
    "Finally, let's run the optimization for the four different cost functions and find the optimal muscle forces:"
   ]
  },
  {
   "cell_type": "code",
   "execution_count": null,
   "metadata": {
    "ExecuteTime": {
     "end_time": "2018-08-06T04:49:38.555138Z",
     "start_time": "2018-08-06T04:49:38.538147Z"
    },
    "scrolled": false
   },
   "outputs": [],
   "source": [
    "f1r = minimize(fun=cf_f1, x0=x0, args=(), jac=cf_f1d,\n",
    "               constraints=cons, method='SLSQP',\n",
    "               options={'disp': True})"
   ]
  },
  {
   "cell_type": "code",
   "execution_count": null,
   "metadata": {
    "ExecuteTime": {
     "end_time": "2018-08-06T04:49:38.568130Z",
     "start_time": "2018-08-06T04:49:38.556137Z"
    }
   },
   "outputs": [],
   "source": [
    "f2r = minimize(fun=cf_f2, x0=x0, args=(), jac=cf_f2d,\n",
    "               constraints=cons, method='SLSQP',\n",
    "               options={'disp': True})"
   ]
  },
  {
   "cell_type": "code",
   "execution_count": null,
   "metadata": {
    "ExecuteTime": {
     "end_time": "2018-08-06T04:49:38.581123Z",
     "start_time": "2018-08-06T04:49:38.569130Z"
    },
    "scrolled": true
   },
   "outputs": [],
   "source": [
    "fpcsa2r = minimize(fun=cf_fpcsa2, x0=x0, args=(a,), jac=cf_fpcsa2d,\n",
    "                   constraints=cons, method='SLSQP',\n",
    "                   options={'disp': True})"
   ]
  },
  {
   "cell_type": "code",
   "execution_count": null,
   "metadata": {
    "ExecuteTime": {
     "end_time": "2018-08-06T04:49:38.594116Z",
     "start_time": "2018-08-06T04:49:38.582122Z"
    },
    "scrolled": false
   },
   "outputs": [],
   "source": [
    "fmmax3r = minimize(fun=cf_fmmax3, x0=x0, args=(m,), jac=cf_fmmax3d,\n",
    "                   constraints=cons, method='SLSQP',\n",
    "                   options={'disp': True})"
   ]
  },
  {
   "cell_type": "markdown",
   "metadata": {},
   "source": [
    "## Comments\n",
    "\n",
    "The results show that the estimations for the muscle forces depend on the cost function used in the optimization. Which one is correct? This is a difficult question and it's dependent on the goal of the actual task being modeled. Glitsch and Baumann (1997) investigated the effect of different cost functions on the optimization of walking and running and the predicted muscles forces were compared with the electromyographic activity of the corresponding muscles of the lower limb. They found that, among the analyzed cost functions, the minimization of the sum of squared muscle stresses resulted in the best similarity with the actual electromyographic activity.\n",
    "\n",
    "In general, one should always test different algorithms and different initial values before settling for the solution found. Downey (2011), Kitchin (2013), and Kiusalaas (2013) present more examples on numerical optimization. The [NEOS Guide](http://neos-guide.org/) is a valuable source of information on this topic and [OpenOpt](http://openopt.org/) is a good alternative software for numerical optimization in Python."
   ]
  },
  {
   "cell_type": "markdown",
   "metadata": {},
   "source": [
    "## Exercises\n",
    "\n",
    "1. Find the extrema in the function $f(x)=x^3-7.5x^2+18x-10$ analytically and determine if they are minimum or maximum.  \n",
    "2. Find the minimum in the $f(x)=x^3-7.5x^2+18x-10$ using the gradient descent algorithm.  \n",
    "2. Regarding the distribution problem for the elbow muscles presented in this text:  \n",
    "    a. Test different initial values for the optimization.  \n",
    "    b. Test other values for the elbow angle where the results are likely to change.   \n",
    "    \n",
    "3. In an experiment to estimate forces of the elbow flexors, through inverse dynamics it was found an elbow flexor moment of 10 Nm.  \n",
    "Consider the following data for maximum force (F0), moment arm (r), and pcsa (A) of the brachialis, brachioradialis, and biceps brachii muscles: F0 (N): 1000, 250, 700; r (cm): 2, 5, 4; A (cm$^2$): 33, 8, 23, respectively (data from Robertson et al. (2013)).  \n",
    "    a. Use static optimization to estimate the muscle forces.  \n",
    "    b. Test the robustness of the results using different initial values for the muscle forces.  \n",
    "    c. Compare the results for different cost functions."
   ]
  },
  {
   "cell_type": "markdown",
   "metadata": {},
   "source": [
    "## References\n",
    "\n",
    "- Bergstra B, Bengio Y (2012) [Random Search for Hyper-Parameter Optimization](http://jmlr.csail.mit.edu/papers/volume13/bergstra12a/bergstra12a.pdf). Journal of Machine Learning Research, 13, 281-305.  \n",
    "- Crowninshield RD, Brand RA (1981) [A physiologically based criterion of muscle force prediction in locomotion](http://www.ncbi.nlm.nih.gov/pubmed/7334039). Journal of Biomechanics, 14, 793–801.  \n",
    "- Downey AB (2014) [Physical Modeling in MATLAB](http://greenteapress.com/wp/physical-modeling-in-matlab-2e/). 2nd edition. Green Tea Press.  \n",
    "- Herzog W (1987) [Individual muscle force estimations using a non-linear optimal design](http://www.ncbi.nlm.nih.gov/pubmed/3682873). J Neurosci Methods, 21, 167-179.  \n",
    "- Glitsch U, Baumann W (1997) [The three-dimensional determination of internal loads in the lower extremity](http://www.ncbi.nlm.nih.gov/pubmed/9456380). Journal of Biomechanics, 30, 1123–1131.  \n",
    "- Kitchin J (2013) [pycse - Python Computations in Science and Engineering](http://kitchingroup.cheme.cmu.edu/pycse/).  \n",
    "- Kiusalaas (2013) [Numerical methods in engineering with Python 3](http://books.google.com.br/books?id=aJkXoxxoCoUC). 3rd edition. Cambridge University Press.  \n",
    "- Nigg BM and Herzog W (2006) [Biomechanics of the Musculo-skeletal System](https://books.google.com.br/books?id=hOIeAQAAIAAJ&dq=editions:ISBN0470017678). 3rd Edition. Wiley.  \n",
    "- Robertson G, Caldwell G, Hamill J, Kamen G (2013) [Research Methods in Biomechanics](http://books.google.com.br/books?id=gRn8AAAAQBAJ). 2nd Edition. Human Kinetics.  \n",
    "- Seireg A, Arvikar RJ (1973) [A mathematical model for evaluation of forces in lower extremeties of the musculo-skeletal system](http://www.ncbi.nlm.nih.gov/pubmed/4706941). Journal of Biomechanics, 6,  313–322, IN19–IN20, 323–326."
   ]
  }
 ],
 "metadata": {
  "kernelspec": {
   "display_name": "Python 3",
   "language": "python",
   "name": "python3"
  },
  "language_info": {
   "codemirror_mode": {
    "name": "ipython",
    "version": 3
   },
   "file_extension": ".py",
   "mimetype": "text/x-python",
   "name": "python",
   "nbconvert_exporter": "python",
   "pygments_lexer": "ipython3",
   "version": "3.5.5"
  },
  "varInspector": {
   "cols": {
    "lenName": 16,
    "lenType": 16,
    "lenVar": 40
   },
   "kernels_config": {
    "python": {
     "delete_cmd_postfix": "",
     "delete_cmd_prefix": "del ",
     "library": "var_list.py",
     "varRefreshCmd": "print(var_dic_list())"
    },
    "r": {
     "delete_cmd_postfix": ") ",
     "delete_cmd_prefix": "rm(",
     "library": "var_list.r",
     "varRefreshCmd": "cat(var_dic_list()) "
    }
   },
   "types_to_exclude": [
    "module",
    "function",
    "builtin_function_or_method",
    "instance",
    "_Feature"
   ],
   "window_display": false
  },
  "widgets": {
   "state": {},
   "version": "1.1.2"
  }
 },
 "nbformat": 4,
 "nbformat_minor": 1
}
